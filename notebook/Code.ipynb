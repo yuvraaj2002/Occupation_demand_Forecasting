{
 "cells": [
  {
   "cell_type": "markdown",
   "id": "71e944cb-dbf0-4d7e-a799-cc1f52eedb40",
   "metadata": {
    "id": "71e944cb-dbf0-4d7e-a799-cc1f52eedb40"
   },
   "source": [
    "### Importing the libraries"
   ]
  },
  {
   "cell_type": "code",
   "execution_count": 1,
   "id": "1QhMqOo6-q1s",
   "metadata": {
    "colab": {
     "base_uri": "https://localhost:8080/"
    },
    "id": "1QhMqOo6-q1s",
    "outputId": "f0dba570-1ec1-46c0-9126-e1e1b7a770bd"
   },
   "outputs": [
    {
     "name": "stdout",
     "output_type": "stream",
     "text": [
      "Requirement already satisfied: category_encoders in c:\\users\\ys723\\appdata\\local\\programs\\python\\python310\\lib\\site-packages (2.6.1)\n",
      "Requirement already satisfied: numpy>=1.14.0 in c:\\users\\ys723\\appdata\\local\\programs\\python\\python310\\lib\\site-packages (from category_encoders) (1.23.5)\n",
      "Requirement already satisfied: scikit-learn>=0.20.0 in c:\\users\\ys723\\appdata\\local\\programs\\python\\python310\\lib\\site-packages (from category_encoders) (1.2.2)\n",
      "Requirement already satisfied: scipy>=1.0.0 in c:\\users\\ys723\\appdata\\local\\programs\\python\\python310\\lib\\site-packages (from category_encoders) (1.10.1)\n",
      "Requirement already satisfied: statsmodels>=0.9.0 in c:\\users\\ys723\\appdata\\local\\programs\\python\\python310\\lib\\site-packages (from category_encoders) (0.14.0)\n",
      "Requirement already satisfied: pandas>=1.0.5 in c:\\users\\ys723\\appdata\\local\\programs\\python\\python310\\lib\\site-packages (from category_encoders) (1.5.3)\n",
      "Requirement already satisfied: patsy>=0.5.1 in c:\\users\\ys723\\appdata\\local\\programs\\python\\python310\\lib\\site-packages (from category_encoders) (0.5.3)\n",
      "Requirement already satisfied: python-dateutil>=2.8.1 in c:\\users\\ys723\\appdata\\local\\programs\\python\\python310\\lib\\site-packages (from pandas>=1.0.5->category_encoders) (2.8.2)\n",
      "Requirement already satisfied: pytz>=2020.1 in c:\\users\\ys723\\appdata\\local\\programs\\python\\python310\\lib\\site-packages (from pandas>=1.0.5->category_encoders) (2023.3)\n",
      "Requirement already satisfied: six in c:\\users\\ys723\\appdata\\local\\programs\\python\\python310\\lib\\site-packages (from patsy>=0.5.1->category_encoders) (1.16.0)\n",
      "Requirement already satisfied: joblib>=1.1.1 in c:\\users\\ys723\\appdata\\local\\programs\\python\\python310\\lib\\site-packages (from scikit-learn>=0.20.0->category_encoders) (1.3.1)\n",
      "Requirement already satisfied: threadpoolctl>=2.0.0 in c:\\users\\ys723\\appdata\\local\\programs\\python\\python310\\lib\\site-packages (from scikit-learn>=0.20.0->category_encoders) (3.1.0)\n",
      "Requirement already satisfied: packaging>=21.3 in c:\\users\\ys723\\appdata\\local\\programs\\python\\python310\\lib\\site-packages (from statsmodels>=0.9.0->category_encoders) (23.1)\n",
      "Requirement already satisfied: pycaret in c:\\users\\ys723\\appdata\\local\\programs\\python\\python310\\lib\\site-packages (3.0.4)\n",
      "Requirement already satisfied: ipython>=5.5.0 in c:\\users\\ys723\\appdata\\local\\programs\\python\\python310\\lib\\site-packages (from pycaret) (8.14.0)\n",
      "Requirement already satisfied: ipywidgets>=7.6.5 in c:\\users\\ys723\\appdata\\local\\programs\\python\\python310\\lib\\site-packages (from pycaret) (8.0.6)\n",
      "Requirement already satisfied: tqdm>=4.62.0 in c:\\users\\ys723\\appdata\\local\\programs\\python\\python310\\lib\\site-packages (from pycaret) (4.65.0)\n",
      "Requirement already satisfied: numpy<1.24,>=1.21 in c:\\users\\ys723\\appdata\\local\\programs\\python\\python310\\lib\\site-packages (from pycaret) (1.23.5)\n",
      "Requirement already satisfied: pandas<2.0.0,>=1.3.0 in c:\\users\\ys723\\appdata\\local\\programs\\python\\python310\\lib\\site-packages (from pycaret) (1.5.3)\n",
      "Requirement already satisfied: jinja2>=1.2 in c:\\users\\ys723\\appdata\\local\\programs\\python\\python310\\lib\\site-packages (from pycaret) (3.1.2)\n",
      "Requirement already satisfied: scipy<2.0.0 in c:\\users\\ys723\\appdata\\local\\programs\\python\\python310\\lib\\site-packages (from pycaret) (1.10.1)\n",
      "Requirement already satisfied: joblib>=1.2.0 in c:\\users\\ys723\\appdata\\local\\programs\\python\\python310\\lib\\site-packages (from pycaret) (1.3.1)\n",
      "Requirement already satisfied: scikit-learn<1.3.0,>=1.0 in c:\\users\\ys723\\appdata\\local\\programs\\python\\python310\\lib\\site-packages (from pycaret) (1.2.2)\n",
      "Requirement already satisfied: pyod>=1.0.8 in c:\\users\\ys723\\appdata\\local\\programs\\python\\python310\\lib\\site-packages (from pycaret) (1.1.0)\n",
      "Requirement already satisfied: imbalanced-learn>=0.8.1 in c:\\users\\ys723\\appdata\\local\\programs\\python\\python310\\lib\\site-packages (from pycaret) (0.10.1)\n",
      "Requirement already satisfied: category-encoders>=2.4.0 in c:\\users\\ys723\\appdata\\local\\programs\\python\\python310\\lib\\site-packages (from pycaret) (2.6.1)\n",
      "Requirement already satisfied: lightgbm>=3.0.0 in c:\\users\\ys723\\appdata\\local\\programs\\python\\python310\\lib\\site-packages (from pycaret) (3.3.5)\n",
      "Requirement already satisfied: numba>=0.55.0 in c:\\users\\ys723\\appdata\\local\\programs\\python\\python310\\lib\\site-packages (from pycaret) (0.57.1)\n",
      "Requirement already satisfied: requests>=2.27.1 in c:\\users\\ys723\\appdata\\local\\programs\\python\\python310\\lib\\site-packages (from pycaret) (2.31.0)\n",
      "Requirement already satisfied: psutil>=5.9.0 in c:\\users\\ys723\\appdata\\local\\programs\\python\\python310\\lib\\site-packages (from pycaret) (5.9.5)\n",
      "Requirement already satisfied: markupsafe>=2.0.1 in c:\\users\\ys723\\appdata\\local\\programs\\python\\python310\\lib\\site-packages (from pycaret) (2.1.3)\n",
      "Requirement already satisfied: importlib-metadata>=4.12.0 in c:\\users\\ys723\\appdata\\local\\programs\\python\\python310\\lib\\site-packages (from pycaret) (6.7.0)\n",
      "Requirement already satisfied: nbformat>=4.2.0 in c:\\users\\ys723\\appdata\\local\\programs\\python\\python310\\lib\\site-packages (from pycaret) (5.9.0)\n",
      "Requirement already satisfied: cloudpickle in c:\\users\\ys723\\appdata\\local\\programs\\python\\python310\\lib\\site-packages (from pycaret) (2.2.1)\n",
      "Requirement already satisfied: deprecation>=2.1.0 in c:\\users\\ys723\\appdata\\local\\programs\\python\\python310\\lib\\site-packages (from pycaret) (2.1.0)\n",
      "Requirement already satisfied: xxhash in c:\\users\\ys723\\appdata\\local\\programs\\python\\python310\\lib\\site-packages (from pycaret) (3.2.0)\n",
      "Requirement already satisfied: matplotlib>=3.3.0 in c:\\users\\ys723\\appdata\\local\\programs\\python\\python310\\lib\\site-packages (from pycaret) (3.7.1)\n",
      "Requirement already satisfied: scikit-plot>=0.3.7 in c:\\users\\ys723\\appdata\\local\\programs\\python\\python310\\lib\\site-packages (from pycaret) (0.3.7)\n",
      "Requirement already satisfied: yellowbrick>=1.4 in c:\\users\\ys723\\appdata\\local\\programs\\python\\python310\\lib\\site-packages (from pycaret) (1.5)\n",
      "Requirement already satisfied: plotly>=5.0.0 in c:\\users\\ys723\\appdata\\local\\programs\\python\\python310\\lib\\site-packages (from pycaret) (5.15.0)\n",
      "Requirement already satisfied: kaleido>=0.2.1 in c:\\users\\ys723\\appdata\\local\\programs\\python\\python310\\lib\\site-packages (from pycaret) (0.2.1)\n",
      "Requirement already satisfied: schemdraw==0.15 in c:\\users\\ys723\\appdata\\local\\programs\\python\\python310\\lib\\site-packages (from pycaret) (0.15)\n",
      "Requirement already satisfied: plotly-resampler>=0.8.3.1 in c:\\users\\ys723\\appdata\\local\\programs\\python\\python310\\lib\\site-packages (from pycaret) (0.8.3.2)\n",
      "Requirement already satisfied: statsmodels>=0.12.1 in c:\\users\\ys723\\appdata\\local\\programs\\python\\python310\\lib\\site-packages (from pycaret) (0.14.0)\n",
      "Requirement already satisfied: sktime!=0.17.1,!=0.17.2,!=0.18.0,>=0.16.1 in c:\\users\\ys723\\appdata\\local\\programs\\python\\python310\\lib\\site-packages (from pycaret) (0.20.0)\n",
      "Requirement already satisfied: tbats>=1.1.3 in c:\\users\\ys723\\appdata\\local\\programs\\python\\python310\\lib\\site-packages (from pycaret) (1.1.3)\n",
      "Requirement already satisfied: pmdarima!=1.8.1,<3.0.0,>=1.8.0 in c:\\users\\ys723\\appdata\\local\\programs\\python\\python310\\lib\\site-packages (from pycaret) (2.0.3)\n",
      "Requirement already satisfied: patsy>=0.5.1 in c:\\users\\ys723\\appdata\\local\\programs\\python\\python310\\lib\\site-packages (from category-encoders>=2.4.0->pycaret) (0.5.3)\n",
      "Requirement already satisfied: packaging in c:\\users\\ys723\\appdata\\local\\programs\\python\\python310\\lib\\site-packages (from deprecation>=2.1.0->pycaret) (23.1)\n",
      "Requirement already satisfied: threadpoolctl>=2.0.0 in c:\\users\\ys723\\appdata\\local\\programs\\python\\python310\\lib\\site-packages (from imbalanced-learn>=0.8.1->pycaret) (3.1.0)\n",
      "Requirement already satisfied: zipp>=0.5 in c:\\users\\ys723\\appdata\\local\\programs\\python\\python310\\lib\\site-packages (from importlib-metadata>=4.12.0->pycaret) (3.15.0)\n",
      "Requirement already satisfied: backcall in c:\\users\\ys723\\appdata\\local\\programs\\python\\python310\\lib\\site-packages (from ipython>=5.5.0->pycaret) (0.2.0)\n",
      "Requirement already satisfied: decorator in c:\\users\\ys723\\appdata\\local\\programs\\python\\python310\\lib\\site-packages (from ipython>=5.5.0->pycaret) (5.1.1)\n",
      "Requirement already satisfied: jedi>=0.16 in c:\\users\\ys723\\appdata\\local\\programs\\python\\python310\\lib\\site-packages (from ipython>=5.5.0->pycaret) (0.18.2)\n",
      "Requirement already satisfied: matplotlib-inline in c:\\users\\ys723\\appdata\\local\\programs\\python\\python310\\lib\\site-packages (from ipython>=5.5.0->pycaret) (0.1.6)\n",
      "Requirement already satisfied: pickleshare in c:\\users\\ys723\\appdata\\local\\programs\\python\\python310\\lib\\site-packages (from ipython>=5.5.0->pycaret) (0.7.5)\n",
      "Requirement already satisfied: prompt-toolkit!=3.0.37,<3.1.0,>=3.0.30 in c:\\users\\ys723\\appdata\\local\\programs\\python\\python310\\lib\\site-packages (from ipython>=5.5.0->pycaret) (3.0.38)\n",
      "Requirement already satisfied: pygments>=2.4.0 in c:\\users\\ys723\\appdata\\local\\programs\\python\\python310\\lib\\site-packages (from ipython>=5.5.0->pycaret) (2.15.1)\n",
      "Requirement already satisfied: stack-data in c:\\users\\ys723\\appdata\\local\\programs\\python\\python310\\lib\\site-packages (from ipython>=5.5.0->pycaret) (0.6.2)\n",
      "Requirement already satisfied: traitlets>=5 in c:\\users\\ys723\\appdata\\local\\programs\\python\\python310\\lib\\site-packages (from ipython>=5.5.0->pycaret) (5.9.0)\n",
      "Requirement already satisfied: colorama in c:\\users\\ys723\\appdata\\local\\programs\\python\\python310\\lib\\site-packages (from ipython>=5.5.0->pycaret) (0.4.6)\n",
      "Requirement already satisfied: ipykernel>=4.5.1 in c:\\users\\ys723\\appdata\\local\\programs\\python\\python310\\lib\\site-packages (from ipywidgets>=7.6.5->pycaret) (6.23.3)\n",
      "Requirement already satisfied: widgetsnbextension~=4.0.7 in c:\\users\\ys723\\appdata\\local\\programs\\python\\python310\\lib\\site-packages (from ipywidgets>=7.6.5->pycaret) (4.0.7)\n",
      "Requirement already satisfied: jupyterlab-widgets~=3.0.7 in c:\\users\\ys723\\appdata\\local\\programs\\python\\python310\\lib\\site-packages (from ipywidgets>=7.6.5->pycaret) (3.0.7)\n",
      "Requirement already satisfied: wheel in c:\\users\\ys723\\appdata\\local\\programs\\python\\python310\\lib\\site-packages (from lightgbm>=3.0.0->pycaret) (0.40.0)\n",
      "Requirement already satisfied: contourpy>=1.0.1 in c:\\users\\ys723\\appdata\\local\\programs\\python\\python310\\lib\\site-packages (from matplotlib>=3.3.0->pycaret) (1.1.0)\n",
      "Requirement already satisfied: cycler>=0.10 in c:\\users\\ys723\\appdata\\local\\programs\\python\\python310\\lib\\site-packages (from matplotlib>=3.3.0->pycaret) (0.10.0)\n",
      "Requirement already satisfied: fonttools>=4.22.0 in c:\\users\\ys723\\appdata\\local\\programs\\python\\python310\\lib\\site-packages (from matplotlib>=3.3.0->pycaret) (4.40.0)\n",
      "Requirement already satisfied: kiwisolver>=1.0.1 in c:\\users\\ys723\\appdata\\local\\programs\\python\\python310\\lib\\site-packages (from matplotlib>=3.3.0->pycaret) (1.4.4)\n",
      "Requirement already satisfied: pillow>=6.2.0 in c:\\users\\ys723\\appdata\\local\\programs\\python\\python310\\lib\\site-packages (from matplotlib>=3.3.0->pycaret) (9.5.0)\n",
      "Requirement already satisfied: pyparsing>=2.3.1 in c:\\users\\ys723\\appdata\\local\\programs\\python\\python310\\lib\\site-packages (from matplotlib>=3.3.0->pycaret) (2.4.7)\n",
      "Requirement already satisfied: python-dateutil>=2.7 in c:\\users\\ys723\\appdata\\local\\programs\\python\\python310\\lib\\site-packages (from matplotlib>=3.3.0->pycaret) (2.8.2)\n",
      "Requirement already satisfied: fastjsonschema in c:\\users\\ys723\\appdata\\local\\programs\\python\\python310\\lib\\site-packages (from nbformat>=4.2.0->pycaret) (2.17.1)\n",
      "Requirement already satisfied: jsonschema>=2.6 in c:\\users\\ys723\\appdata\\local\\programs\\python\\python310\\lib\\site-packages (from nbformat>=4.2.0->pycaret) (4.17.3)\n",
      "Requirement already satisfied: jupyter-core in c:\\users\\ys723\\appdata\\local\\programs\\python\\python310\\lib\\site-packages (from nbformat>=4.2.0->pycaret) (5.3.1)\n",
      "Requirement already satisfied: llvmlite<0.41,>=0.40.0dev0 in c:\\users\\ys723\\appdata\\local\\programs\\python\\python310\\lib\\site-packages (from numba>=0.55.0->pycaret) (0.40.1)\n",
      "Requirement already satisfied: pytz>=2020.1 in c:\\users\\ys723\\appdata\\local\\programs\\python\\python310\\lib\\site-packages (from pandas<2.0.0,>=1.3.0->pycaret) (2023.3)\n",
      "Requirement already satisfied: tenacity>=6.2.0 in c:\\users\\ys723\\appdata\\local\\programs\\python\\python310\\lib\\site-packages (from plotly>=5.0.0->pycaret) (8.2.2)\n",
      "Requirement already satisfied: dash<3.0.0,>=2.2.0 in c:\\users\\ys723\\appdata\\local\\programs\\python\\python310\\lib\\site-packages (from plotly-resampler>=0.8.3.1->pycaret) (2.11.1)\n",
      "Requirement already satisfied: jupyter-dash>=0.4.2 in c:\\users\\ys723\\appdata\\local\\programs\\python\\python310\\lib\\site-packages (from plotly-resampler>=0.8.3.1->pycaret) (0.4.2)\n",
      "Requirement already satisfied: orjson<4.0.0,>=3.8.0 in c:\\users\\ys723\\appdata\\local\\programs\\python\\python310\\lib\\site-packages (from plotly-resampler>=0.8.3.1->pycaret) (3.9.1)\n",
      "Requirement already satisfied: trace-updater>=0.0.8 in c:\\users\\ys723\\appdata\\local\\programs\\python\\python310\\lib\\site-packages (from plotly-resampler>=0.8.3.1->pycaret) (0.0.9.1)\n",
      "Requirement already satisfied: Cython!=0.29.18,!=0.29.31,>=0.29 in c:\\users\\ys723\\appdata\\local\\programs\\python\\python310\\lib\\site-packages (from pmdarima!=1.8.1,<3.0.0,>=1.8.0->pycaret) (0.29.36)\n",
      "Requirement already satisfied: urllib3 in c:\\users\\ys723\\appdata\\local\\programs\\python\\python310\\lib\\site-packages (from pmdarima!=1.8.1,<3.0.0,>=1.8.0->pycaret) (1.26.16)\n",
      "Requirement already satisfied: setuptools!=50.0.0,>=38.6.0 in c:\\users\\ys723\\appdata\\local\\programs\\python\\python310\\lib\\site-packages (from pmdarima!=1.8.1,<3.0.0,>=1.8.0->pycaret) (65.5.0)\n",
      "Requirement already satisfied: six in c:\\users\\ys723\\appdata\\local\\programs\\python\\python310\\lib\\site-packages (from pyod>=1.0.8->pycaret) (1.16.0)\n",
      "Requirement already satisfied: charset-normalizer<4,>=2 in c:\\users\\ys723\\appdata\\local\\programs\\python\\python310\\lib\\site-packages (from requests>=2.27.1->pycaret) (3.1.0)\n",
      "Requirement already satisfied: idna<4,>=2.5 in c:\\users\\ys723\\appdata\\local\\programs\\python\\python310\\lib\\site-packages (from requests>=2.27.1->pycaret) (2.10)\n",
      "Requirement already satisfied: certifi>=2017.4.17 in c:\\users\\ys723\\appdata\\local\\programs\\python\\python310\\lib\\site-packages (from requests>=2.27.1->pycaret) (2022.12.7)\n",
      "Requirement already satisfied: deprecated>=1.2.13 in c:\\users\\ys723\\appdata\\local\\programs\\python\\python310\\lib\\site-packages (from sktime!=0.17.1,!=0.17.2,!=0.18.0,>=0.16.1->pycaret) (1.2.14)\n",
      "Requirement already satisfied: scikit-base<0.6.0 in c:\\users\\ys723\\appdata\\local\\programs\\python\\python310\\lib\\site-packages (from sktime!=0.17.1,!=0.17.2,!=0.18.0,>=0.16.1->pycaret) (0.5.0)\n",
      "Requirement already satisfied: Flask<2.3.0,>=1.0.4 in c:\\users\\ys723\\appdata\\local\\programs\\python\\python310\\lib\\site-packages (from dash<3.0.0,>=2.2.0->plotly-resampler>=0.8.3.1->pycaret) (2.2.5)\n",
      "Requirement already satisfied: Werkzeug<2.3.0 in c:\\users\\ys723\\appdata\\local\\programs\\python\\python310\\lib\\site-packages (from dash<3.0.0,>=2.2.0->plotly-resampler>=0.8.3.1->pycaret) (2.2.3)\n",
      "Requirement already satisfied: dash-html-components==2.0.0 in c:\\users\\ys723\\appdata\\local\\programs\\python\\python310\\lib\\site-packages (from dash<3.0.0,>=2.2.0->plotly-resampler>=0.8.3.1->pycaret) (2.0.0)\n",
      "Requirement already satisfied: dash-core-components==2.0.0 in c:\\users\\ys723\\appdata\\local\\programs\\python\\python310\\lib\\site-packages (from dash<3.0.0,>=2.2.0->plotly-resampler>=0.8.3.1->pycaret) (2.0.0)\n",
      "Requirement already satisfied: dash-table==5.0.0 in c:\\users\\ys723\\appdata\\local\\programs\\python\\python310\\lib\\site-packages (from dash<3.0.0,>=2.2.0->plotly-resampler>=0.8.3.1->pycaret) (5.0.0)\n",
      "Requirement already satisfied: typing-extensions>=4.1.1 in c:\\users\\ys723\\appdata\\local\\programs\\python\\python310\\lib\\site-packages (from dash<3.0.0,>=2.2.0->plotly-resampler>=0.8.3.1->pycaret) (4.7.0)\n",
      "Requirement already satisfied: retrying in c:\\users\\ys723\\appdata\\local\\programs\\python\\python310\\lib\\site-packages (from dash<3.0.0,>=2.2.0->plotly-resampler>=0.8.3.1->pycaret) (1.3.4)\n",
      "Requirement already satisfied: ansi2html in c:\\users\\ys723\\appdata\\local\\programs\\python\\python310\\lib\\site-packages (from dash<3.0.0,>=2.2.0->plotly-resampler>=0.8.3.1->pycaret) (1.8.0)\n",
      "Requirement already satisfied: nest-asyncio in c:\\users\\ys723\\appdata\\local\\programs\\python\\python310\\lib\\site-packages (from dash<3.0.0,>=2.2.0->plotly-resampler>=0.8.3.1->pycaret) (1.5.6)\n",
      "Requirement already satisfied: wrapt<2,>=1.10 in c:\\users\\ys723\\appdata\\local\\programs\\python\\python310\\lib\\site-packages (from deprecated>=1.2.13->sktime!=0.17.1,!=0.17.2,!=0.18.0,>=0.16.1->pycaret) (1.15.0)\n",
      "Requirement already satisfied: comm>=0.1.1 in c:\\users\\ys723\\appdata\\local\\programs\\python\\python310\\lib\\site-packages (from ipykernel>=4.5.1->ipywidgets>=7.6.5->pycaret) (0.1.3)\n",
      "Requirement already satisfied: debugpy>=1.6.5 in c:\\users\\ys723\\appdata\\local\\programs\\python\\python310\\lib\\site-packages (from ipykernel>=4.5.1->ipywidgets>=7.6.5->pycaret) (1.6.7)\n",
      "Requirement already satisfied: jupyter-client>=6.1.12 in c:\\users\\ys723\\appdata\\local\\programs\\python\\python310\\lib\\site-packages (from ipykernel>=4.5.1->ipywidgets>=7.6.5->pycaret) (8.3.0)\n",
      "Requirement already satisfied: pyzmq>=20 in c:\\users\\ys723\\appdata\\local\\programs\\python\\python310\\lib\\site-packages (from ipykernel>=4.5.1->ipywidgets>=7.6.5->pycaret) (25.1.0)\n",
      "Requirement already satisfied: tornado>=6.1 in c:\\users\\ys723\\appdata\\local\\programs\\python\\python310\\lib\\site-packages (from ipykernel>=4.5.1->ipywidgets>=7.6.5->pycaret) (6.3.2)\n",
      "Requirement already satisfied: parso<0.9.0,>=0.8.0 in c:\\users\\ys723\\appdata\\local\\programs\\python\\python310\\lib\\site-packages (from jedi>=0.16->ipython>=5.5.0->pycaret) (0.8.3)\n",
      "Requirement already satisfied: attrs>=17.4.0 in c:\\users\\ys723\\appdata\\local\\programs\\python\\python310\\lib\\site-packages (from jsonschema>=2.6->nbformat>=4.2.0->pycaret) (23.1.0)\n",
      "Requirement already satisfied: pyrsistent!=0.17.0,!=0.17.1,!=0.17.2,>=0.14.0 in c:\\users\\ys723\\appdata\\local\\programs\\python\\python310\\lib\\site-packages (from jsonschema>=2.6->nbformat>=4.2.0->pycaret) (0.19.3)\n",
      "Requirement already satisfied: platformdirs>=2.5 in c:\\users\\ys723\\appdata\\local\\programs\\python\\python310\\lib\\site-packages (from jupyter-core->nbformat>=4.2.0->pycaret) (3.8.0)\n",
      "Requirement already satisfied: pywin32>=300 in c:\\users\\ys723\\appdata\\local\\programs\\python\\python310\\lib\\site-packages (from jupyter-core->nbformat>=4.2.0->pycaret) (306)\n",
      "Requirement already satisfied: wcwidth in c:\\users\\ys723\\appdata\\local\\programs\\python\\python310\\lib\\site-packages (from prompt-toolkit!=3.0.37,<3.1.0,>=3.0.30->ipython>=5.5.0->pycaret) (0.2.6)\n",
      "Requirement already satisfied: executing>=1.2.0 in c:\\users\\ys723\\appdata\\local\\programs\\python\\python310\\lib\\site-packages (from stack-data->ipython>=5.5.0->pycaret) (1.2.0)\n",
      "Requirement already satisfied: asttokens>=2.1.0 in c:\\users\\ys723\\appdata\\local\\programs\\python\\python310\\lib\\site-packages (from stack-data->ipython>=5.5.0->pycaret) (2.2.1)\n",
      "Requirement already satisfied: pure-eval in c:\\users\\ys723\\appdata\\local\\programs\\python\\python310\\lib\\site-packages (from stack-data->ipython>=5.5.0->pycaret) (0.2.2)\n",
      "Requirement already satisfied: itsdangerous>=2.0 in c:\\users\\ys723\\appdata\\local\\programs\\python\\python310\\lib\\site-packages (from Flask<2.3.0,>=1.0.4->dash<3.0.0,>=2.2.0->plotly-resampler>=0.8.3.1->pycaret) (2.1.2)\n",
      "Requirement already satisfied: click>=8.0 in c:\\users\\ys723\\appdata\\local\\programs\\python\\python310\\lib\\site-packages (from Flask<2.3.0,>=1.0.4->dash<3.0.0,>=2.2.0->plotly-resampler>=0.8.3.1->pycaret) (8.1.3)\n",
      "Requirement already satisfied: optuna in c:\\users\\ys723\\appdata\\local\\programs\\python\\python310\\lib\\site-packages (3.2.0)\n",
      "Requirement already satisfied: alembic>=1.5.0 in c:\\users\\ys723\\appdata\\local\\programs\\python\\python310\\lib\\site-packages (from optuna) (1.11.1)\n",
      "Requirement already satisfied: cmaes>=0.9.1 in c:\\users\\ys723\\appdata\\local\\programs\\python\\python310\\lib\\site-packages (from optuna) (0.9.1)\n",
      "Requirement already satisfied: colorlog in c:\\users\\ys723\\appdata\\local\\programs\\python\\python310\\lib\\site-packages (from optuna) (6.7.0)\n",
      "Requirement already satisfied: numpy in c:\\users\\ys723\\appdata\\local\\programs\\python\\python310\\lib\\site-packages (from optuna) (1.23.5)\n",
      "Requirement already satisfied: packaging>=20.0 in c:\\users\\ys723\\appdata\\local\\programs\\python\\python310\\lib\\site-packages (from optuna) (23.1)\n",
      "Requirement already satisfied: sqlalchemy>=1.3.0 in c:\\users\\ys723\\appdata\\local\\programs\\python\\python310\\lib\\site-packages (from optuna) (1.4.48)\n",
      "Requirement already satisfied: tqdm in c:\\users\\ys723\\appdata\\local\\programs\\python\\python310\\lib\\site-packages (from optuna) (4.65.0)\n",
      "Requirement already satisfied: PyYAML in c:\\users\\ys723\\appdata\\local\\programs\\python\\python310\\lib\\site-packages (from optuna) (6.0)\n",
      "Requirement already satisfied: Mako in c:\\users\\ys723\\appdata\\local\\programs\\python\\python310\\lib\\site-packages (from alembic>=1.5.0->optuna) (1.2.4)\n",
      "Requirement already satisfied: typing-extensions>=4 in c:\\users\\ys723\\appdata\\local\\programs\\python\\python310\\lib\\site-packages (from alembic>=1.5.0->optuna) (4.7.0)\n",
      "Requirement already satisfied: greenlet!=0.4.17 in c:\\users\\ys723\\appdata\\local\\programs\\python\\python310\\lib\\site-packages (from sqlalchemy>=1.3.0->optuna) (2.0.2)\n",
      "Requirement already satisfied: colorama in c:\\users\\ys723\\appdata\\local\\programs\\python\\python310\\lib\\site-packages (from colorlog->optuna) (0.4.6)\n",
      "Requirement already satisfied: MarkupSafe>=0.9.2 in c:\\users\\ys723\\appdata\\local\\programs\\python\\python310\\lib\\site-packages (from Mako->alembic>=1.5.0->optuna) (2.1.3)\n"
     ]
    }
   ],
   "source": [
    "!pip install category_encoders\n",
    "!pip install pycaret\n",
    "!pip install optuna"
   ]
  },
  {
   "cell_type": "code",
   "execution_count": 46,
   "id": "c460d496-d30d-4d83-99dd-ff2d520678ff",
   "metadata": {
    "colab": {
     "base_uri": "https://localhost:8080/"
    },
    "id": "c460d496-d30d-4d83-99dd-ff2d520678ff",
    "outputId": "c82c52f7-a9ca-46b8-8f1c-143042c5b7a8"
   },
   "outputs": [
    {
     "name": "stdout",
     "output_type": "stream",
     "text": [
      "Everything imported succesfully !\n"
     ]
    }
   ],
   "source": [
    "# For data manipulation and processing\n",
    "import pandas as pd\n",
    "import numpy as np\n",
    "import matplotlib.pyplot as plt\n",
    "import seaborn as sns\n",
    "import missingno as msno\n",
    "import pickle\n",
    "\n",
    "# For data processing\n",
    "from sklearn.preprocessing import RobustScaler\n",
    "import category_encoders as ce\n",
    "from sklearn.model_selection import train_test_split\n",
    "\n",
    "# For creating pipeline\n",
    "from sklearn.pipeline import Pipeline\n",
    "from sklearn.compose import ColumnTransformer\n",
    "from sklearn.preprocessing import FunctionTransformer\n",
    "from sklearn.preprocessing import PowerTransformer\n",
    "\n",
    "# For model training\n",
    "from sklearn.linear_model import LinearRegression\n",
    "from pycaret.regression import (\n",
    "    setup,\n",
    "    compare_models,\n",
    "    evaluate_model,\n",
    "    predict_model,\n",
    "    save_model,\n",
    "    load_model,\n",
    "    models,\n",
    ")\n",
    "from sklearn.metrics import r2_score\n",
    "\n",
    "# For hyper-parameter optimizatin\n",
    "import optuna\n",
    "\n",
    "print(\"Everything imported succesfully !\")"
   ]
  },
  {
   "cell_type": "markdown",
   "id": "72c9a2b6-6e1a-4517-ab34-b037683e3828",
   "metadata": {
    "id": "72c9a2b6-6e1a-4517-ab34-b037683e3828"
   },
   "source": [
    "## Loading the data from csv file\n",
    "\n",
    "- State FIPS: The Federal Information Processing Standards (FIPS) code for the state where the data pertains. It provides a unique identifier for each state in the dataset.\n",
    "- Area Name: The name of the area or state specified by the State FIPS code. It represents the geographical region to which the occupational employment growth projections apply.\n",
    "- Occupation Code: The code representing a specific occupation. It follows a standardized classification system (such as the Standard Occupational Classification - SOC) and uniquely identifies each occupation in the dataset.\n",
    "- Occupation Name: The name or title of the occupation. It provides a descriptive label for each occupation specified by the Occupation Code.\n",
    "- Base Year: The year for which the initial employment data is recorded or considered as the baseline. It represents the starting point for analyzing employment growth.\n",
    "- Base: The number of employed individuals in the specified occupation during the Base Year. It represents the initial employment count for each occupation.\n",
    "- Projected Year: The year for which the employment growth projection is made. It represents the future time point at which the projected employment numbers apply.\n",
    "- Projection: The projected number of employed individuals in the specified occupation during the Projected Year. It represents the estimated employment count after the projected growth or change.\n",
    "- Change: The absolute change in employment count between the Base Year and the Projected Year. It indicates the difference in the number of employed individuals for a specific occupation over the projection period.\n",
    "- Percent Change: The percentage change in employment count between the Base Year and the Projected Year. It represents the relative growth or decline in employment for a particular occupation.\n",
    "- Average Annual Openings: The average number of annual job openings expected for the specified occupation. It provides an estimate of the employment opportunities available each year due to factors like growth and replacement needs.d replacement needs."
   ]
  },
  {
   "cell_type": "code",
   "execution_count": 3,
   "id": "c181d132-5440-4349-844b-79d9fde9e00d",
   "metadata": {
    "id": "c181d132-5440-4349-844b-79d9fde9e00d"
   },
   "outputs": [],
   "source": [
    "# Let's load the data and explore it\n",
    "df = pd.read_csv(\"dataset.csv\")"
   ]
  },
  {
   "cell_type": "markdown",
   "id": "db501b2f-642f-4e32-b46a-7e00fa7571b8",
   "metadata": {
    "id": "db501b2f-642f-4e32-b46a-7e00fa7571b8"
   },
   "source": [
    "### Exploratory data analysis ( Part 1 )s."
   ]
  },
  {
   "cell_type": "code",
   "execution_count": 4,
   "id": "bc6ab326-12e1-435c-9aa6-27479830bbf9",
   "metadata": {
    "colab": {
     "base_uri": "https://localhost:8080/"
    },
    "id": "bc6ab326-12e1-435c-9aa6-27479830bbf9",
    "outputId": "32e65f63-f612-49b3-fe92-cdc1d53918dd"
   },
   "outputs": [
    {
     "name": "stdout",
     "output_type": "stream",
     "text": [
      "Shape of the dataframe :  (34982, 11)\n"
     ]
    }
   ],
   "source": [
    "# Let's check the shape of the dataset\n",
    "print(\"Shape of the dataframe : \", df.shape)"
   ]
  },
  {
   "cell_type": "code",
   "execution_count": 5,
   "id": "dc379ac8-72ab-467f-b5ba-d6884653cfa6",
   "metadata": {
    "colab": {
     "base_uri": "https://localhost:8080/",
     "height": 288
    },
    "id": "dc379ac8-72ab-467f-b5ba-d6884653cfa6",
    "outputId": "0546b50b-c9cd-4e06-8d5e-688d362ed241"
   },
   "outputs": [
    {
     "data": {
      "text/html": [
       "<div>\n",
       "<style scoped>\n",
       "    .dataframe tbody tr th:only-of-type {\n",
       "        vertical-align: middle;\n",
       "    }\n",
       "\n",
       "    .dataframe tbody tr th {\n",
       "        vertical-align: top;\n",
       "    }\n",
       "\n",
       "    .dataframe thead th {\n",
       "        text-align: right;\n",
       "    }\n",
       "</style>\n",
       "<table border=\"1\" class=\"dataframe\">\n",
       "  <thead>\n",
       "    <tr style=\"text-align: right;\">\n",
       "      <th></th>\n",
       "      <th>State FIPS</th>\n",
       "      <th>Area Name</th>\n",
       "      <th>Occupation Code</th>\n",
       "      <th>Occupation Name</th>\n",
       "      <th>Base Year</th>\n",
       "      <th>Base</th>\n",
       "      <th>Projected Year</th>\n",
       "      <th>Projection</th>\n",
       "      <th>Change</th>\n",
       "      <th>Percent Change</th>\n",
       "      <th>Average Annual Openings</th>\n",
       "    </tr>\n",
       "  </thead>\n",
       "  <tbody>\n",
       "    <tr>\n",
       "      <th>31493</th>\n",
       "      <td>51</td>\n",
       "      <td>Virginia</td>\n",
       "      <td>47-3016</td>\n",
       "      <td>Helpers--Roofers</td>\n",
       "      <td>2014</td>\n",
       "      <td>510</td>\n",
       "      <td>2024</td>\n",
       "      <td>580</td>\n",
       "      <td>70</td>\n",
       "      <td>14.3</td>\n",
       "      <td>10</td>\n",
       "    </tr>\n",
       "    <tr>\n",
       "      <th>31093</th>\n",
       "      <td>51</td>\n",
       "      <td>Virginia</td>\n",
       "      <td>17-3026</td>\n",
       "      <td>Industrial Engineering Technicians</td>\n",
       "      <td>2014</td>\n",
       "      <td>1050</td>\n",
       "      <td>2024</td>\n",
       "      <td>1060</td>\n",
       "      <td>10</td>\n",
       "      <td>0.6</td>\n",
       "      <td>30</td>\n",
       "    </tr>\n",
       "    <tr>\n",
       "      <th>12702</th>\n",
       "      <td>22</td>\n",
       "      <td>Louisiana</td>\n",
       "      <td>29-1067</td>\n",
       "      <td>Surgeons</td>\n",
       "      <td>2014</td>\n",
       "      <td>590</td>\n",
       "      <td>2024</td>\n",
       "      <td>630</td>\n",
       "      <td>40</td>\n",
       "      <td>6.8</td>\n",
       "      <td>20</td>\n",
       "    </tr>\n",
       "    <tr>\n",
       "      <th>34407</th>\n",
       "      <td>72</td>\n",
       "      <td>Puerto Rico</td>\n",
       "      <td>13-2099</td>\n",
       "      <td>Financial Specialists, All Other</td>\n",
       "      <td>2014</td>\n",
       "      <td>840</td>\n",
       "      <td>2024</td>\n",
       "      <td>800</td>\n",
       "      <td>-40</td>\n",
       "      <td>-5.2</td>\n",
       "      <td>10</td>\n",
       "    </tr>\n",
       "  </tbody>\n",
       "</table>\n",
       "</div>"
      ],
      "text/plain": [
       "       State FIPS    Area Name Occupation Code  \\\n",
       "31493          51     Virginia         47-3016   \n",
       "31093          51     Virginia         17-3026   \n",
       "12702          22    Louisiana         29-1067   \n",
       "34407          72  Puerto Rico         13-2099   \n",
       "\n",
       "                          Occupation Name  Base Year  Base  Projected Year  \\\n",
       "31493                    Helpers--Roofers       2014   510            2024   \n",
       "31093  Industrial Engineering Technicians       2014  1050            2024   \n",
       "12702                            Surgeons       2014   590            2024   \n",
       "34407    Financial Specialists, All Other       2014   840            2024   \n",
       "\n",
       "       Projection  Change  Percent Change  Average Annual Openings  \n",
       "31493         580      70            14.3                       10  \n",
       "31093        1060      10             0.6                       30  \n",
       "12702         630      40             6.8                       20  \n",
       "34407         800     -40            -5.2                       10  "
      ]
     },
     "execution_count": 5,
     "metadata": {},
     "output_type": "execute_result"
    }
   ],
   "source": [
    "# Let's check any 4 random rows from the dataset\n",
    "df.sample(4)"
   ]
  },
  {
   "cell_type": "code",
   "execution_count": 6,
   "id": "e5755d46-45e7-4b3e-9093-dcd285b38b9b",
   "metadata": {
    "colab": {
     "base_uri": "https://localhost:8080/"
    },
    "id": "e5755d46-45e7-4b3e-9093-dcd285b38b9b",
    "outputId": "f2d3440f-54d1-4957-d57b-d2d98ac49df0"
   },
   "outputs": [
    {
     "name": "stdout",
     "output_type": "stream",
     "text": [
      "<class 'pandas.core.frame.DataFrame'>\n",
      "RangeIndex: 34982 entries, 0 to 34981\n",
      "Data columns (total 11 columns):\n",
      " #   Column                   Non-Null Count  Dtype  \n",
      "---  ------                   --------------  -----  \n",
      " 0   State FIPS               34982 non-null  int64  \n",
      " 1   Area Name                34982 non-null  object \n",
      " 2   Occupation Code          34982 non-null  object \n",
      " 3   Occupation Name          34982 non-null  object \n",
      " 4   Base Year                34982 non-null  int64  \n",
      " 5   Base                     34982 non-null  int64  \n",
      " 6   Projected Year           34982 non-null  int64  \n",
      " 7   Projection               34982 non-null  int64  \n",
      " 8   Change                   34982 non-null  int64  \n",
      " 9   Percent Change           34982 non-null  float64\n",
      " 10  Average Annual Openings  34982 non-null  int64  \n",
      "dtypes: float64(1), int64(7), object(3)\n",
      "memory usage: 2.9+ MB\n"
     ]
    }
   ],
   "source": [
    "# Let's get some more basic infomraiton about data\n",
    "df.info()"
   ]
  },
  {
   "cell_type": "code",
   "execution_count": 7,
   "id": "50cc33d3-5db6-4abd-884b-ed537dbd3c98",
   "metadata": {
    "id": "50cc33d3-5db6-4abd-884b-ed537dbd3c98"
   },
   "outputs": [],
   "source": [
    "int_cols = df.select_dtypes(include=np.int64)\n",
    "float_cols = df.select_dtypes(include=np.float64)\n",
    "\n",
    "# Changing the datatype from int43 or float64 to int32 or float32\n",
    "df[int_cols.columns] = df[int_cols.columns].astype(np.int32)\n",
    "df[float_cols.columns] = df[float_cols.columns].astype(np.float32)"
   ]
  },
  {
   "cell_type": "markdown",
   "id": "24ae1608-eefc-4e75-bc34-b55505595b20",
   "metadata": {
    "id": "24ae1608-eefc-4e75-bc34-b55505595b20"
   },
   "source": [
    "- Before memory usage : 2.9mb\n",
    "- After memory usage : 1.9mb"
   ]
  },
  {
   "cell_type": "code",
   "execution_count": 8,
   "id": "ed4b13d3-e979-43ea-a790-4cb364f1091f",
   "metadata": {
    "colab": {
     "base_uri": "https://localhost:8080/"
    },
    "id": "ed4b13d3-e979-43ea-a790-4cb364f1091f",
    "outputId": "340f4edc-975d-488f-9295-232fe453fa05"
   },
   "outputs": [
    {
     "name": "stdout",
     "output_type": "stream",
     "text": [
      "Duplicate values :  0\n"
     ]
    }
   ],
   "source": [
    "# Checking if there are any duplicated values\n",
    "print(\"Duplicate values : \", df.duplicated().sum())"
   ]
  },
  {
   "cell_type": "code",
   "execution_count": 9,
   "id": "a8b1024a-9e43-4f1a-af5b-99b46a34747f",
   "metadata": {
    "colab": {
     "base_uri": "https://localhost:8080/",
     "height": 627
    },
    "id": "a8b1024a-9e43-4f1a-af5b-99b46a34747f",
    "outputId": "a4ee76e2-916c-40ba-e17c-55102ef7eca6"
   },
   "outputs": [
    {
     "name": "stdout",
     "output_type": "stream",
     "text": [
      "State FIPS                 0.0\n",
      "Area Name                  0.0\n",
      "Occupation Code            0.0\n",
      "Occupation Name            0.0\n",
      "Base Year                  0.0\n",
      "Base                       0.0\n",
      "Projected Year             0.0\n",
      "Projection                 0.0\n",
      "Change                     0.0\n",
      "Percent Change             0.0\n",
      "Average Annual Openings    0.0\n",
      "dtype: float64\n"
     ]
    },
    {
     "data": {
      "image/png": "[encoded data removed]",
      "text/plain": [
       "<Figure size 1500x300 with 3 Axes>"
      ]
     },
     "metadata": {},
     "output_type": "display_data"
    }
   ],
   "source": [
    "# Percentage of missing values\n",
    "print(df.isnull().mean() * 100)\n",
    "\n",
    "# Visualize missing values using a bar chart\n",
    "msno.bar(df, figsize=(15, 3), color=\"dodgerblue\", sort=\"ascending\", fontsize=12)\n",
    "plt.show()"
   ]
  },
  {
   "cell_type": "code",
   "execution_count": 10,
   "id": "c931d09c-e3ed-47e9-92ae-351216cb7885",
   "metadata": {
    "id": "c931d09c-e3ed-47e9-92ae-351216cb7885"
   },
   "outputs": [],
   "source": [
    "# Removing all the rows from dataframe which are summary every area name\n",
    "df.drop(df[df[\"Occupation Name\"] == \"Total, All Occupations\"].index, inplace=True)"
   ]
  },
  {
   "cell_type": "code",
   "execution_count": 11,
   "id": "12eb0831-300b-4d3c-a39e-62a2fc243382",
   "metadata": {
    "colab": {
     "base_uri": "https://localhost:8080/",
     "height": 464
    },
    "id": "12eb0831-300b-4d3c-a39e-62a2fc243382",
    "outputId": "017608c3-f24b-4377-dceb-dd490a601626"
   },
   "outputs": [
    {
     "data": {
      "image/png": "[encoded data removed]",
      "text/plain": [
       "<Figure size 1500x400 with 1 Axes>"
      ]
     },
     "metadata": {},
     "output_type": "display_data"
    }
   ],
   "source": [
    "plt.figure(figsize=(15, 4))\n",
    "\n",
    "# Plotting a bar plot to see data distribution across area names\n",
    "ax = sns.barplot(\n",
    "    y=df[\"Area Name\"].value_counts().values, x=df[\"Area Name\"].value_counts().index\n",
    ")\n",
    "\n",
    "# Rotate the x-axis labels vertically\n",
    "ax.set_xticklabels(ax.get_xticklabels(), rotation=90)\n",
    "\n",
    "plt.xlabel(\"Area Name\")\n",
    "plt.ylabel(\"Count\")\n",
    "plt.title(\"Barplot of Area Names\")\n",
    "plt.show()"
   ]
  },
  {
   "cell_type": "code",
   "execution_count": 12,
   "id": "3b66fd8e-7d69-4b43-b9de-04e59a06de3b",
   "metadata": {
    "colab": {
     "base_uri": "https://localhost:8080/",
     "height": 465
    },
    "id": "3b66fd8e-7d69-4b43-b9de-04e59a06de3b",
    "outputId": "a57860e3-e3c3-442e-b23c-3d79541b643c"
   },
   "outputs": [
    {
     "data": {
      "image/png": "[encoded data removed]",
      "text/plain": [
       "<Figure size 1200x500 with 4 Axes>"
      ]
     },
     "metadata": {},
     "output_type": "display_data"
    }
   ],
   "source": [
    "# Let's see if there are any outliers\n",
    "fig, ax = plt.subplots(2, 2, figsize=(12, 5))\n",
    "\n",
    "sns.boxplot(x=df[\"Base\"], ax=ax[0][0])\n",
    "sns.boxplot(x=df[\"Projection\"], ax=ax[0][1])\n",
    "sns.boxplot(x=df[\"Average Annual Openings\"], ax=ax[1][0])\n",
    "sns.boxplot(x=df[\"Percent Change\"], ax=ax[1][1])\n",
    "\n",
    "plt.subplots_adjust(hspace = 0.4,wspace = 0.2)\n",
    "plt.show()"
   ]
  },
  {
   "cell_type": "code",
   "execution_count": 13,
   "id": "bf5a74df-a553-4ead-a4f5-ad7a8cbddae0",
   "metadata": {
    "colab": {
     "base_uri": "https://localhost:8080/",
     "height": 391
    },
    "id": "bf5a74df-a553-4ead-a4f5-ad7a8cbddae0",
    "outputId": "cf1679bc-68ab-4638-ed77-e13d596159bd"
   },
   "outputs": [
    {
     "data": {
      "text/plain": [
       "<Axes: >"
      ]
     },
     "execution_count": 13,
     "metadata": {},
     "output_type": "execute_result"
    },
    {
     "data": {
      "image/png": "[encoded data removed]",
      "text/plain": [
       "<Figure size 1000x400 with 2 Axes>"
      ]
     },
     "metadata": {},
     "output_type": "display_data"
    }
   ],
   "source": [
    "# Let's see the correlation\n",
    "plt.figure(figsize=(10, 4))\n",
    "\n",
    "num_df = df[\n",
    "    [\"Base\", \"Projection\", \"Percent Change\", \"Average Annual Openings\"]\n",
    "].copy()\n",
    "sns.heatmap(data=num_df.corr(), annot=True, linewidths=0.5, cmap=\"Blues\")"
   ]
  },
  {
   "cell_type": "code",
   "execution_count": 14,
   "id": "8fbc4354-3abb-44f9-92be-35717463e6aa",
   "metadata": {
    "colab": {
     "base_uri": "https://localhost:8080/"
    },
    "id": "8fbc4354-3abb-44f9-92be-35717463e6aa",
    "outputId": "fc25fefc-5199-4917-8467-84e236cbf791"
   },
   "outputs": [
    {
     "name": "stdout",
     "output_type": "stream",
     "text": [
      "Total unique occupations are : 819\n"
     ]
    }
   ],
   "source": [
    "print(\"Total unique occupations are :\", len(df[\"Occupation Name\"].unique()))"
   ]
  },
  {
   "cell_type": "markdown",
   "id": "8b01121a-3b85-4142-88db-524acba4d6aa",
   "metadata": {
    "id": "8b01121a-3b85-4142-88db-524acba4d6aa"
   },
   "source": [
    "# Data processing\n",
    "\n",
    "In this phase we only need to do the following things\n",
    "\n",
    "- Drop unecessary columns\n",
    "- Train test and validation split\n",
    "- Encode the categorical data\n",
    "- Scale the feature values"
   ]
  },
  {
   "cell_type": "code",
   "execution_count": 15,
   "id": "907bcc95-2f6a-415c-b547-58995799b69f",
   "metadata": {
    "id": "907bcc95-2f6a-415c-b547-58995799b69f"
   },
   "outputs": [],
   "source": [
    "# Removing the columns from the dataset\n",
    "df.drop(\n",
    "    [\"State FIPS\", \"Occupation Code\", \"Projected Year\", \"Base Year\",\"Change\"],\n",
    "    axis=1,\n",
    "    inplace=True,\n",
    ")"
   ]
  },
  {
   "cell_type": "markdown",
   "id": "323c3bf6-5f9d-43e3-8795-d25b964833b4",
   "metadata": {
    "id": "323c3bf6-5f9d-43e3-8795-d25b964833b4"
   },
   "source": [
    "For the data processing we will create a pipeline but for now let's create a copy of the dataframe and on that copy we will explore all different kind of things and finally we will implemented best techniques on our actual dataset."
   ]
  },
  {
   "cell_type": "code",
   "execution_count": 16,
   "id": "8a84ece1-89a4-4992-be26-154e1de77cfa",
   "metadata": {
    "id": "8a84ece1-89a4-4992-be26-154e1de77cfa"
   },
   "outputs": [],
   "source": [
    "# Creating a copy of the dataframe\n",
    "temp_df = df.copy()\n",
    "temp_df.reset_index(inplace=True, drop=True)"
   ]
  },
  {
   "cell_type": "markdown",
   "id": "6ae71811-1386-4411-a67d-ad931bd01b38",
   "metadata": {
    "id": "6ae71811-1386-4411-a67d-ad931bd01b38"
   },
   "source": [
    "### Dealing with outliers\n",
    "From boxplot we got that there are alot of outliers in Base, projection , Average annual openings and percentage change, so instead of removing or capping the outliers we will transform our data using YEO-Johnson transformation."
   ]
  },
  {
   "cell_type": "code",
   "execution_count": 17,
   "id": "96902598-fae4-4e97-b74a-bc525c185c85",
   "metadata": {
    "id": "96902598-fae4-4e97-b74a-bc525c185c85"
   },
   "outputs": [],
   "source": [
    "# Intializing power transformer\n",
    "pt = PowerTransformer()\n",
    "\n",
    "cols = ['Base','Projection','Percent Change','Average Annual Openings']\n",
    "for col in cols:\n",
    "    temp_df[col] = pd.Series(pt.fit_transform(temp_df[col].values.reshape(-1, 1)).reshape(-1))"
   ]
  },
  {
   "cell_type": "code",
   "execution_count": 18,
   "id": "d5987a8a-df15-4014-8ef6-d8490e04dcea",
   "metadata": {
    "colab": {
     "base_uri": "https://localhost:8080/",
     "height": 465
    },
    "id": "d5987a8a-df15-4014-8ef6-d8490e04dcea",
    "outputId": "2caa650e-a752-49e8-ddc7-041b6feb8d93"
   },
   "outputs": [
    {
     "data": {
      "image/png": "[encoded data removed]",
      "text/plain": [
       "<Figure size 1200x500 with 4 Axes>"
      ]
     },
     "metadata": {},
     "output_type": "display_data"
    }
   ],
   "source": [
    "# Let's see if there are any outliers\n",
    "fig, ax = plt.subplots(2, 2, figsize=(12, 5))\n",
    "\n",
    "sns.boxplot(x=temp_df[\"Base\"], ax=ax[0][0])\n",
    "sns.boxplot(x=temp_df[\"Projection\"], ax=ax[0][1])\n",
    "sns.boxplot(x=temp_df[\"Average Annual Openings\"], ax=ax[1][0])\n",
    "sns.boxplot(x=temp_df[\"Percent Change\"], ax=ax[1][1])\n",
    "\n",
    "plt.subplots_adjust(hspace = 0.4,wspace = 0.2)\n",
    "plt.show()"
   ]
  },
  {
   "cell_type": "markdown",
   "id": "5242b51d-9998-4fad-896d-1f69559a93cc",
   "metadata": {
    "id": "5242b51d-9998-4fad-896d-1f69559a93cc"
   },
   "source": [
    "There are still some outliers but are less in number, so for now let's move on with this and after that we will also compare the model performance by removing the outliers."
   ]
  },
  {
   "cell_type": "code",
   "execution_count": 19,
   "id": "783635e5-c1ee-4f2b-9d37-7a02adab2cbf",
   "metadata": {},
   "outputs": [
    {
     "data": {
      "text/html": [
       "<div>\n",
       "<style scoped>\n",
       "    .dataframe tbody tr th:only-of-type {\n",
       "        vertical-align: middle;\n",
       "    }\n",
       "\n",
       "    .dataframe tbody tr th {\n",
       "        vertical-align: top;\n",
       "    }\n",
       "\n",
       "    .dataframe thead th {\n",
       "        text-align: right;\n",
       "    }\n",
       "</style>\n",
       "<table border=\"1\" class=\"dataframe\">\n",
       "  <thead>\n",
       "    <tr style=\"text-align: right;\">\n",
       "      <th></th>\n",
       "      <th>Area Name</th>\n",
       "      <th>Occupation Name</th>\n",
       "      <th>Base</th>\n",
       "      <th>Projection</th>\n",
       "      <th>Percent Change</th>\n",
       "      <th>Average Annual Openings</th>\n",
       "    </tr>\n",
       "  </thead>\n",
       "  <tbody>\n",
       "    <tr>\n",
       "      <th>1</th>\n",
       "      <td>United States</td>\n",
       "      <td>Chief Executives</td>\n",
       "      <td>343400</td>\n",
       "      <td>339400</td>\n",
       "      <td>-1.2</td>\n",
       "      <td>5840</td>\n",
       "    </tr>\n",
       "    <tr>\n",
       "      <th>2</th>\n",
       "      <td>United States</td>\n",
       "      <td>General and Operations Managers</td>\n",
       "      <td>2124100</td>\n",
       "      <td>2275200</td>\n",
       "      <td>7.1</td>\n",
       "      <td>68880</td>\n",
       "    </tr>\n",
       "    <tr>\n",
       "      <th>3</th>\n",
       "      <td>United States</td>\n",
       "      <td>Legislators</td>\n",
       "      <td>58300</td>\n",
       "      <td>57900</td>\n",
       "      <td>-0.7</td>\n",
       "      <td>1290</td>\n",
       "    </tr>\n",
       "  </tbody>\n",
       "</table>\n",
       "</div>"
      ],
      "text/plain": [
       "        Area Name                  Occupation Name     Base  Projection  \\\n",
       "1   United States                 Chief Executives   343400      339400   \n",
       "2   United States  General and Operations Managers  2124100     2275200   \n",
       "3   United States                      Legislators    58300       57900   \n",
       "\n",
       "   Percent Change  Average Annual Openings  \n",
       "1            -1.2                     5840  \n",
       "2             7.1                    68880  \n",
       "3            -0.7                     1290  "
      ]
     },
     "execution_count": 19,
     "metadata": {},
     "output_type": "execute_result"
    }
   ],
   "source": [
    "df.head(3)"
   ]
  },
  {
   "cell_type": "code",
   "execution_count": 20,
   "id": "75410b82-8742-45a6-844c-9384781f9a17",
   "metadata": {
    "id": "75410b82-8742-45a6-844c-9384781f9a17"
   },
   "outputs": [],
   "source": [
    "# Intializing the target encoder class\n",
    "Te_Area_name = ce.TargetEncoder(\n",
    "    smoothing=0.2, handle_missing=\"return_nan\", return_df=False\n",
    ")\n",
    "Te_Occup_name = ce.TargetEncoder(\n",
    "    smoothing=0.2, handle_missing=\"return_nan\", return_df=False\n",
    ")\n",
    "\n",
    "encoded_area_name = pd.Series(Te_Area_name.fit_transform(temp_df[\"Area Name\"].values.reshape(-1, 1), temp_df['Percent Change']).reshape(-1))\n",
    "encoded_area_name.reset_index(inplace=True, drop=True)\n",
    "temp_df[\"Area Name\"] = encoded_area_name\n",
    "\n",
    "encoded_occupation_name = pd.Series(Te_Occup_name.fit_transform(temp_df[\"Occupation Name\"].values.reshape(-1, 1), temp_df['Percent Change']).reshape(-1))\n",
    "encoded_occupation_name.reset_index(inplace=True, drop=True)\n",
    "temp_df[\"Occupation Name\"] = encoded_occupation_name"
   ]
  },
  {
   "cell_type": "code",
   "execution_count": 22,
   "id": "cb700683-b0c6-4daa-8216-9355c0c04e5a",
   "metadata": {
    "colab": {
     "base_uri": "https://localhost:8080/",
     "height": 206
    },
    "id": "cb700683-b0c6-4daa-8216-9355c0c04e5a",
    "outputId": "65688570-d51e-401e-9951-b087748212b5"
   },
   "outputs": [
    {
     "data": {
      "text/html": [
       "<div>\n",
       "<style scoped>\n",
       "    .dataframe tbody tr th:only-of-type {\n",
       "        vertical-align: middle;\n",
       "    }\n",
       "\n",
       "    .dataframe tbody tr th {\n",
       "        vertical-align: top;\n",
       "    }\n",
       "\n",
       "    .dataframe thead th {\n",
       "        text-align: right;\n",
       "    }\n",
       "</style>\n",
       "<table border=\"1\" class=\"dataframe\">\n",
       "  <thead>\n",
       "    <tr style=\"text-align: right;\">\n",
       "      <th></th>\n",
       "      <th>Area Name</th>\n",
       "      <th>Base</th>\n",
       "      <th>Projection</th>\n",
       "      <th>Change</th>\n",
       "      <th>Average Annual Openings</th>\n",
       "    </tr>\n",
       "  </thead>\n",
       "  <tbody>\n",
       "    <tr>\n",
       "      <th>0</th>\n",
       "      <td>-0.306644</td>\n",
       "      <td>2.052887</td>\n",
       "      <td>2.017435</td>\n",
       "      <td>-0.695090</td>\n",
       "      <td>2.216103</td>\n",
       "    </tr>\n",
       "    <tr>\n",
       "      <th>1</th>\n",
       "      <td>-0.306644</td>\n",
       "      <td>2.558075</td>\n",
       "      <td>2.549425</td>\n",
       "      <td>-0.061524</td>\n",
       "      <td>3.224358</td>\n",
       "    </tr>\n",
       "    <tr>\n",
       "      <th>2</th>\n",
       "      <td>-0.306644</td>\n",
       "      <td>1.509094</td>\n",
       "      <td>1.471608</td>\n",
       "      <td>-0.657421</td>\n",
       "      <td>1.588200</td>\n",
       "    </tr>\n",
       "    <tr>\n",
       "      <th>3</th>\n",
       "      <td>-0.306644</td>\n",
       "      <td>1.301963</td>\n",
       "      <td>1.280786</td>\n",
       "      <td>-0.245806</td>\n",
       "      <td>1.536445</td>\n",
       "    </tr>\n",
       "    <tr>\n",
       "      <th>4</th>\n",
       "      <td>-0.306644</td>\n",
       "      <td>1.884109</td>\n",
       "      <td>1.877938</td>\n",
       "      <td>0.115464</td>\n",
       "      <td>2.255201</td>\n",
       "    </tr>\n",
       "  </tbody>\n",
       "</table>\n",
       "</div>"
      ],
      "text/plain": [
       "   Area Name      Base  Projection    Change  Average Annual Openings\n",
       "0  -0.306644  2.052887    2.017435 -0.695090                 2.216103\n",
       "1  -0.306644  2.558075    2.549425 -0.061524                 3.224358\n",
       "2  -0.306644  1.509094    1.471608 -0.657421                 1.588200\n",
       "3  -0.306644  1.301963    1.280786 -0.245806                 1.536445\n",
       "4  -0.306644  1.884109    1.877938  0.115464                 2.255201"
      ]
     },
     "execution_count": 22,
     "metadata": {},
     "output_type": "execute_result"
    }
   ],
   "source": [
    "# Let's now do feature scaling (Since our data have outliers so we will use Robust scaling as feature scaling technique)\n",
    "scaler = RobustScaler()\n",
    "\n",
    "scaled_data = scaler.fit_transform(temp_df[[\"Area Name\", \"Base\", \"Projection\", \"Percent Change\",\"Average Annual Openings\"]])\n",
    "\n",
    "scaled_data = pd.DataFrame(\n",
    "    scaled_data,\n",
    "    columns=[\"Area Name\", \"Base\", \"Projection\", \"Change\", \"Average Annual Openings\"],\n",
    ")\n",
    "scaled_data.head(5)"
   ]
  },
  {
   "cell_type": "markdown",
   "id": "dbd8a012-3ece-4a7c-b1f0-dcd88cc2fdaf",
   "metadata": {
    "id": "dbd8a012-3ece-4a7c-b1f0-dcd88cc2fdaf"
   },
   "source": [
    "### Train, test and validation split"
   ]
  },
  {
   "cell_type": "code",
   "execution_count": 37,
   "id": "6818b9ef-bbf3-4ae2-8fa3-ca5bc5feabca",
   "metadata": {
    "colab": {
     "base_uri": "https://localhost:8080/"
    },
    "id": "6818b9ef-bbf3-4ae2-8fa3-ca5bc5feabca",
    "outputId": "ac54a2cc-afff-4c8d-8604-9546c6e44370"
   },
   "outputs": [
    {
     "name": "stdout",
     "output_type": "stream",
     "text": [
      "Train data :  (24448, 5)\n",
      "Test data :  (5240, 5)\n",
      "Val data :  (5240, 5)\n"
     ]
    }
   ],
   "source": [
    "# Seperating the data into train and test datasets\n",
    "X = df.drop([\"Percent Change\"], axis=1)\n",
    "y = df[\"Percent Change\"]\n",
    "\n",
    "# Let's do the train test and validation split 85:15 and then 85:15\n",
    "X_train_Val, X_test, y_train_val, y_test = train_test_split(\n",
    "    X, y, test_size=0.15, random_state=1\n",
    ")\n",
    "X_train, X_val, y_train, y_val = train_test_split(\n",
    "    X_train_Val, y_train_val, test_size=0.1765, random_state=1)\n",
    "\n",
    "\n",
    "# Complete dataset = 34982\n",
    "print(\"Train data : \", X_train.shape)\n",
    "print(\"Test data : \", X_val.shape)\n",
    "print(\"Val data : \", X_test.shape)"
   ]
  },
  {
   "cell_type": "code",
   "execution_count": 38,
   "id": "XcQhg4vrfOnv",
   "metadata": {
    "id": "XcQhg4vrfOnv"
   },
   "outputs": [],
   "source": [
    "Yeo_john_trans = ColumnTransformer(transformers = [\n",
    "    (\"Yeo_Johnson_Transformation\",PowerTransformer(),[2,3,4])\n",
    "],remainder='passthrough')\n",
    "\n",
    "target_encode_transformer = ColumnTransformer(transformers=[\n",
    "        (\"Target_Encoding\",ce.TargetEncoder(smoothing=0.2, handle_missing=\"return_nan\", return_df=False),[3,4])\n",
    "    ],remainder=\"passthrough\")\n",
    "\n",
    "scaling_transformer = ColumnTransformer(\n",
    "    transformers=[(\"Robust_scaler\", RobustScaler(), [2,3,4])],\n",
    "    remainder=\"passthrough\",\n",
    ")\n",
    "\n",
    "pipe = Pipeline(\n",
    "    steps=[\n",
    "        (\"Yeo-John\",Yeo_john_trans),\n",
    "        (\"Target_Encoder\", target_encode_transformer),\n",
    "        (\"Robust_Scaling\", scaling_transformer)\n",
    "    ]\n",
    ")"
   ]
  },
  {
   "cell_type": "code",
   "execution_count": 39,
   "id": "mE4vg26Km-Jq",
   "metadata": {
    "id": "mE4vg26Km-Jq"
   },
   "outputs": [],
   "source": [
    "# Process the training data and testing data\n",
    "X_train = pipe.fit_transform(X_train, y_train)\n",
    "X_test = pipe.transform(X_test)"
   ]
  },
  {
   "cell_type": "markdown",
   "id": "skvAFUqRqNhP",
   "metadata": {
    "id": "skvAFUqRqNhP"
   },
   "source": [
    "### Comparision of various regression models"
   ]
  },
  {
   "cell_type": "code",
   "execution_count": 40,
   "id": "pHDWVtOrr02K",
   "metadata": {
    "id": "pHDWVtOrr02K"
   },
   "outputs": [],
   "source": [
    "y_train = np.array(y_train.values)\n",
    "y_test = np.array(y_test.values)"
   ]
  },
  {
   "cell_type": "code",
   "execution_count": 41,
   "id": "XBb-VAXmqRwy",
   "metadata": {
    "colab": {
     "base_uri": "https://localhost:8080/",
     "height": 300
    },
    "id": "XBb-VAXmqRwy",
    "outputId": "7bd5a262-9005-4a9a-f83d-dda324e416fc"
   },
   "outputs": [
    {
     "data": {
      "text/html": [
       "<style type=\"text/css\">\n",
       "</style>\n",
       "<table id=\"T_400ea\">\n",
       "  <thead>\n",
       "    <tr>\n",
       "      <th class=\"blank level0\" >&nbsp;</th>\n",
       "      <th id=\"T_400ea_level0_col0\" class=\"col_heading level0 col0\" >Description</th>\n",
       "      <th id=\"T_400ea_level0_col1\" class=\"col_heading level0 col1\" >Value</th>\n",
       "    </tr>\n",
       "  </thead>\n",
       "  <tbody>\n",
       "    <tr>\n",
       "      <th id=\"T_400ea_level0_row0\" class=\"row_heading level0 row0\" >0</th>\n",
       "      <td id=\"T_400ea_row0_col0\" class=\"data row0 col0\" >Session id</td>\n",
       "      <td id=\"T_400ea_row0_col1\" class=\"data row0 col1\" >3194</td>\n",
       "    </tr>\n",
       "    <tr>\n",
       "      <th id=\"T_400ea_level0_row1\" class=\"row_heading level0 row1\" >1</th>\n",
       "      <td id=\"T_400ea_row1_col0\" class=\"data row1 col0\" >Target</td>\n",
       "      <td id=\"T_400ea_row1_col1\" class=\"data row1 col1\" >target</td>\n",
       "    </tr>\n",
       "    <tr>\n",
       "      <th id=\"T_400ea_level0_row2\" class=\"row_heading level0 row2\" >2</th>\n",
       "      <td id=\"T_400ea_row2_col0\" class=\"data row2 col0\" >Target type</td>\n",
       "      <td id=\"T_400ea_row2_col1\" class=\"data row2 col1\" >Regression</td>\n",
       "    </tr>\n",
       "    <tr>\n",
       "      <th id=\"T_400ea_level0_row3\" class=\"row_heading level0 row3\" >3</th>\n",
       "      <td id=\"T_400ea_row3_col0\" class=\"data row3 col0\" >Original data shape</td>\n",
       "      <td id=\"T_400ea_row3_col1\" class=\"data row3 col1\" >(24448, 6)</td>\n",
       "    </tr>\n",
       "    <tr>\n",
       "      <th id=\"T_400ea_level0_row4\" class=\"row_heading level0 row4\" >4</th>\n",
       "      <td id=\"T_400ea_row4_col0\" class=\"data row4 col0\" >Transformed data shape</td>\n",
       "      <td id=\"T_400ea_row4_col1\" class=\"data row4 col1\" >(24448, 6)</td>\n",
       "    </tr>\n",
       "    <tr>\n",
       "      <th id=\"T_400ea_level0_row5\" class=\"row_heading level0 row5\" >5</th>\n",
       "      <td id=\"T_400ea_row5_col0\" class=\"data row5 col0\" >Transformed train set shape</td>\n",
       "      <td id=\"T_400ea_row5_col1\" class=\"data row5 col1\" >(17113, 6)</td>\n",
       "    </tr>\n",
       "    <tr>\n",
       "      <th id=\"T_400ea_level0_row6\" class=\"row_heading level0 row6\" >6</th>\n",
       "      <td id=\"T_400ea_row6_col0\" class=\"data row6 col0\" >Transformed test set shape</td>\n",
       "      <td id=\"T_400ea_row6_col1\" class=\"data row6 col1\" >(7335, 6)</td>\n",
       "    </tr>\n",
       "    <tr>\n",
       "      <th id=\"T_400ea_level0_row7\" class=\"row_heading level0 row7\" >7</th>\n",
       "      <td id=\"T_400ea_row7_col0\" class=\"data row7 col0\" >Categorical features</td>\n",
       "      <td id=\"T_400ea_row7_col1\" class=\"data row7 col1\" >5</td>\n",
       "    </tr>\n",
       "  </tbody>\n",
       "</table>\n"
      ],
      "text/plain": [
       "<pandas.io.formats.style.Styler at 0x1cf5b87d7b0>"
      ]
     },
     "metadata": {},
     "output_type": "display_data"
    }
   ],
   "source": [
    "pycaret_setup = setup(data=X_train, target=y_train, preprocess=False)"
   ]
  },
  {
   "cell_type": "code",
   "execution_count": 42,
   "id": "fucb-EInssG6",
   "metadata": {
    "colab": {
     "base_uri": "https://localhost:8080/",
     "height": 864
    },
    "id": "fucb-EInssG6",
    "outputId": "768ce33e-f456-4389-8b85-032e44174e55"
   },
   "outputs": [
    {
     "data": {
      "text/html": [
       "<div>\n",
       "<style scoped>\n",
       "    .dataframe tbody tr th:only-of-type {\n",
       "        vertical-align: middle;\n",
       "    }\n",
       "\n",
       "    .dataframe tbody tr th {\n",
       "        vertical-align: top;\n",
       "    }\n",
       "\n",
       "    .dataframe thead th {\n",
       "        text-align: right;\n",
       "    }\n",
       "</style>\n",
       "<table border=\"1\" class=\"dataframe\">\n",
       "  <thead>\n",
       "    <tr style=\"text-align: right;\">\n",
       "      <th></th>\n",
       "      <th>Name</th>\n",
       "      <th>Reference</th>\n",
       "      <th>Turbo</th>\n",
       "    </tr>\n",
       "    <tr>\n",
       "      <th>ID</th>\n",
       "      <th></th>\n",
       "      <th></th>\n",
       "      <th></th>\n",
       "    </tr>\n",
       "  </thead>\n",
       "  <tbody>\n",
       "    <tr>\n",
       "      <th>lr</th>\n",
       "      <td>Linear Regression</td>\n",
       "      <td>sklearn.linear_model._base.LinearRegression</td>\n",
       "      <td>True</td>\n",
       "    </tr>\n",
       "    <tr>\n",
       "      <th>lasso</th>\n",
       "      <td>Lasso Regression</td>\n",
       "      <td>sklearn.linear_model._coordinate_descent.Lasso</td>\n",
       "      <td>True</td>\n",
       "    </tr>\n",
       "    <tr>\n",
       "      <th>ridge</th>\n",
       "      <td>Ridge Regression</td>\n",
       "      <td>sklearn.linear_model._ridge.Ridge</td>\n",
       "      <td>True</td>\n",
       "    </tr>\n",
       "    <tr>\n",
       "      <th>en</th>\n",
       "      <td>Elastic Net</td>\n",
       "      <td>sklearn.linear_model._coordinate_descent.Elast...</td>\n",
       "      <td>True</td>\n",
       "    </tr>\n",
       "    <tr>\n",
       "      <th>lar</th>\n",
       "      <td>Least Angle Regression</td>\n",
       "      <td>sklearn.linear_model._least_angle.Lars</td>\n",
       "      <td>True</td>\n",
       "    </tr>\n",
       "    <tr>\n",
       "      <th>llar</th>\n",
       "      <td>Lasso Least Angle Regression</td>\n",
       "      <td>sklearn.linear_model._least_angle.LassoLars</td>\n",
       "      <td>True</td>\n",
       "    </tr>\n",
       "    <tr>\n",
       "      <th>omp</th>\n",
       "      <td>Orthogonal Matching Pursuit</td>\n",
       "      <td>sklearn.linear_model._omp.OrthogonalMatchingPu...</td>\n",
       "      <td>True</td>\n",
       "    </tr>\n",
       "    <tr>\n",
       "      <th>br</th>\n",
       "      <td>Bayesian Ridge</td>\n",
       "      <td>sklearn.linear_model._bayes.BayesianRidge</td>\n",
       "      <td>True</td>\n",
       "    </tr>\n",
       "    <tr>\n",
       "      <th>ard</th>\n",
       "      <td>Automatic Relevance Determination</td>\n",
       "      <td>sklearn.linear_model._bayes.ARDRegression</td>\n",
       "      <td>False</td>\n",
       "    </tr>\n",
       "    <tr>\n",
       "      <th>par</th>\n",
       "      <td>Passive Aggressive Regressor</td>\n",
       "      <td>sklearn.linear_model._passive_aggressive.Passi...</td>\n",
       "      <td>True</td>\n",
       "    </tr>\n",
       "    <tr>\n",
       "      <th>ransac</th>\n",
       "      <td>Random Sample Consensus</td>\n",
       "      <td>sklearn.linear_model._ransac.RANSACRegressor</td>\n",
       "      <td>False</td>\n",
       "    </tr>\n",
       "    <tr>\n",
       "      <th>tr</th>\n",
       "      <td>TheilSen Regressor</td>\n",
       "      <td>sklearn.linear_model._theil_sen.TheilSenRegressor</td>\n",
       "      <td>False</td>\n",
       "    </tr>\n",
       "    <tr>\n",
       "      <th>huber</th>\n",
       "      <td>Huber Regressor</td>\n",
       "      <td>sklearn.linear_model._huber.HuberRegressor</td>\n",
       "      <td>True</td>\n",
       "    </tr>\n",
       "    <tr>\n",
       "      <th>kr</th>\n",
       "      <td>Kernel Ridge</td>\n",
       "      <td>sklearn.kernel_ridge.KernelRidge</td>\n",
       "      <td>False</td>\n",
       "    </tr>\n",
       "    <tr>\n",
       "      <th>svm</th>\n",
       "      <td>Support Vector Regression</td>\n",
       "      <td>sklearn.svm._classes.SVR</td>\n",
       "      <td>False</td>\n",
       "    </tr>\n",
       "    <tr>\n",
       "      <th>knn</th>\n",
       "      <td>K Neighbors Regressor</td>\n",
       "      <td>sklearn.neighbors._regression.KNeighborsRegressor</td>\n",
       "      <td>True</td>\n",
       "    </tr>\n",
       "    <tr>\n",
       "      <th>dt</th>\n",
       "      <td>Decision Tree Regressor</td>\n",
       "      <td>sklearn.tree._classes.DecisionTreeRegressor</td>\n",
       "      <td>True</td>\n",
       "    </tr>\n",
       "    <tr>\n",
       "      <th>rf</th>\n",
       "      <td>Random Forest Regressor</td>\n",
       "      <td>sklearn.ensemble._forest.RandomForestRegressor</td>\n",
       "      <td>True</td>\n",
       "    </tr>\n",
       "    <tr>\n",
       "      <th>et</th>\n",
       "      <td>Extra Trees Regressor</td>\n",
       "      <td>sklearn.ensemble._forest.ExtraTreesRegressor</td>\n",
       "      <td>True</td>\n",
       "    </tr>\n",
       "    <tr>\n",
       "      <th>ada</th>\n",
       "      <td>AdaBoost Regressor</td>\n",
       "      <td>sklearn.ensemble._weight_boosting.AdaBoostRegr...</td>\n",
       "      <td>True</td>\n",
       "    </tr>\n",
       "    <tr>\n",
       "      <th>gbr</th>\n",
       "      <td>Gradient Boosting Regressor</td>\n",
       "      <td>sklearn.ensemble._gb.GradientBoostingRegressor</td>\n",
       "      <td>True</td>\n",
       "    </tr>\n",
       "    <tr>\n",
       "      <th>mlp</th>\n",
       "      <td>MLP Regressor</td>\n",
       "      <td>sklearn.neural_network._multilayer_perceptron....</td>\n",
       "      <td>False</td>\n",
       "    </tr>\n",
       "    <tr>\n",
       "      <th>lightgbm</th>\n",
       "      <td>Light Gradient Boosting Machine</td>\n",
       "      <td>lightgbm.sklearn.LGBMRegressor</td>\n",
       "      <td>True</td>\n",
       "    </tr>\n",
       "    <tr>\n",
       "      <th>dummy</th>\n",
       "      <td>Dummy Regressor</td>\n",
       "      <td>sklearn.dummy.DummyRegressor</td>\n",
       "      <td>True</td>\n",
       "    </tr>\n",
       "  </tbody>\n",
       "</table>\n",
       "</div>"
      ],
      "text/plain": [
       "                                       Name  \\\n",
       "ID                                            \n",
       "lr                        Linear Regression   \n",
       "lasso                      Lasso Regression   \n",
       "ridge                      Ridge Regression   \n",
       "en                              Elastic Net   \n",
       "lar                  Least Angle Regression   \n",
       "llar           Lasso Least Angle Regression   \n",
       "omp             Orthogonal Matching Pursuit   \n",
       "br                           Bayesian Ridge   \n",
       "ard       Automatic Relevance Determination   \n",
       "par            Passive Aggressive Regressor   \n",
       "ransac              Random Sample Consensus   \n",
       "tr                       TheilSen Regressor   \n",
       "huber                       Huber Regressor   \n",
       "kr                             Kernel Ridge   \n",
       "svm               Support Vector Regression   \n",
       "knn                   K Neighbors Regressor   \n",
       "dt                  Decision Tree Regressor   \n",
       "rf                  Random Forest Regressor   \n",
       "et                    Extra Trees Regressor   \n",
       "ada                      AdaBoost Regressor   \n",
       "gbr             Gradient Boosting Regressor   \n",
       "mlp                           MLP Regressor   \n",
       "lightgbm    Light Gradient Boosting Machine   \n",
       "dummy                       Dummy Regressor   \n",
       "\n",
       "                                                  Reference  Turbo  \n",
       "ID                                                                  \n",
       "lr              sklearn.linear_model._base.LinearRegression   True  \n",
       "lasso        sklearn.linear_model._coordinate_descent.Lasso   True  \n",
       "ridge                     sklearn.linear_model._ridge.Ridge   True  \n",
       "en        sklearn.linear_model._coordinate_descent.Elast...   True  \n",
       "lar                  sklearn.linear_model._least_angle.Lars   True  \n",
       "llar            sklearn.linear_model._least_angle.LassoLars   True  \n",
       "omp       sklearn.linear_model._omp.OrthogonalMatchingPu...   True  \n",
       "br                sklearn.linear_model._bayes.BayesianRidge   True  \n",
       "ard               sklearn.linear_model._bayes.ARDRegression  False  \n",
       "par       sklearn.linear_model._passive_aggressive.Passi...   True  \n",
       "ransac         sklearn.linear_model._ransac.RANSACRegressor  False  \n",
       "tr        sklearn.linear_model._theil_sen.TheilSenRegressor  False  \n",
       "huber            sklearn.linear_model._huber.HuberRegressor   True  \n",
       "kr                         sklearn.kernel_ridge.KernelRidge  False  \n",
       "svm                                sklearn.svm._classes.SVR  False  \n",
       "knn       sklearn.neighbors._regression.KNeighborsRegressor   True  \n",
       "dt              sklearn.tree._classes.DecisionTreeRegressor   True  \n",
       "rf           sklearn.ensemble._forest.RandomForestRegressor   True  \n",
       "et             sklearn.ensemble._forest.ExtraTreesRegressor   True  \n",
       "ada       sklearn.ensemble._weight_boosting.AdaBoostRegr...   True  \n",
       "gbr          sklearn.ensemble._gb.GradientBoostingRegressor   True  \n",
       "mlp       sklearn.neural_network._multilayer_perceptron....  False  \n",
       "lightgbm                     lightgbm.sklearn.LGBMRegressor   True  \n",
       "dummy                          sklearn.dummy.DummyRegressor   True  "
      ]
     },
     "execution_count": 42,
     "metadata": {},
     "output_type": "execute_result"
    }
   ],
   "source": [
    "# list of all the regression models\n",
    "models()"
   ]
  },
  {
   "attachments": {
    "2e1c0acc-7b61-47c1-97a9-e532dc3a0753.png": {
     "image/png": "[encoded data removed]"
    },
    "a430212b-fc3f-4de1-aafa-8b81397ac1e2.png": {
     "image/png": "[encoded data removed]"
    }
   },
   "cell_type": "markdown",
   "id": "facea7c8-44c9-4bda-ad75-95c2cc7be045",
   "metadata": {},
   "source": [
    "By creating embeddings for occupation we were getting these results\n",
    "![image.png](attachment:2e1c0acc-7b61-47c1-97a9-e532dc3a0753.png)\n",
    "\n",
    "By doing target encoding but without transformation\n",
    "![image.png](attachment:a430212b-fc3f-4de1-aafa-8b81397ac1e2.png)"
   ]
  },
  {
   "cell_type": "code",
   "execution_count": 43,
   "id": "w7Tvw5yMs_I9",
   "metadata": {
    "colab": {
     "base_uri": "https://localhost:8080/",
     "height": 613,
     "referenced_widgets": [
      "9f6a0d70dd984163bcaaaae40481a332",
      "002903aaec094fc593599e543639d0bf",
      "8bfa72e702594596960e7737cdd38ac2",
      "411b4ee299d042b4be553b1f29c6bd6c",
      "224f506f7dc147ffa9ead8f91359b767",
      "6feb0429c7c64258ab320153b9b35db3",
      "a532da16817447f6865bc183b3f8984c",
      "0710088cfaa241d9b9ae1ce7247d7c8a",
      "dd74afae0bb741a0b070ae1b7f3e97cd",
      "94d62db1c2954fe78ea268f09eabd8ef",
      "13eacad0b7a24a7a8f8876d82f71c3d8"
     ]
    },
    "id": "w7Tvw5yMs_I9",
    "outputId": "29a48f8a-10f6-4acc-eeb9-dc5c66e3532c"
   },
   "outputs": [
    {
     "data": {
      "text/html": [],
      "text/plain": [
       "<IPython.core.display.HTML object>"
      ]
     },
     "metadata": {},
     "output_type": "display_data"
    },
    {
     "data": {
      "text/html": [
       "<style type=\"text/css\">\n",
       "#T_6d088 th {\n",
       "  text-align: left;\n",
       "}\n",
       "#T_6d088_row0_col0, #T_6d088_row0_col1, #T_6d088_row0_col5, #T_6d088_row0_col6, #T_6d088_row1_col0, #T_6d088_row1_col1, #T_6d088_row1_col5, #T_6d088_row1_col6, #T_6d088_row2_col0, #T_6d088_row2_col1, #T_6d088_row2_col2, #T_6d088_row2_col3, #T_6d088_row2_col5, #T_6d088_row2_col6, #T_6d088_row3_col0, #T_6d088_row3_col1, #T_6d088_row3_col2, #T_6d088_row3_col3, #T_6d088_row3_col4, #T_6d088_row3_col5, #T_6d088_row3_col6, #T_6d088_row4_col0, #T_6d088_row4_col2, #T_6d088_row4_col3, #T_6d088_row4_col4, #T_6d088_row5_col0, #T_6d088_row5_col1, #T_6d088_row5_col2, #T_6d088_row5_col3, #T_6d088_row5_col4, #T_6d088_row5_col5, #T_6d088_row5_col6, #T_6d088_row6_col0, #T_6d088_row6_col1, #T_6d088_row6_col2, #T_6d088_row6_col3, #T_6d088_row6_col4, #T_6d088_row6_col5, #T_6d088_row6_col6, #T_6d088_row7_col0, #T_6d088_row7_col1, #T_6d088_row7_col2, #T_6d088_row7_col3, #T_6d088_row7_col4, #T_6d088_row7_col5, #T_6d088_row7_col6, #T_6d088_row8_col0, #T_6d088_row8_col1, #T_6d088_row8_col2, #T_6d088_row8_col3, #T_6d088_row8_col4, #T_6d088_row8_col5, #T_6d088_row8_col6, #T_6d088_row9_col0, #T_6d088_row9_col1, #T_6d088_row9_col2, #T_6d088_row9_col3, #T_6d088_row9_col4, #T_6d088_row9_col5, #T_6d088_row9_col6, #T_6d088_row10_col0, #T_6d088_row10_col1, #T_6d088_row10_col2, #T_6d088_row10_col3, #T_6d088_row10_col4, #T_6d088_row10_col5, #T_6d088_row10_col6, #T_6d088_row11_col0, #T_6d088_row11_col1, #T_6d088_row11_col2, #T_6d088_row11_col3, #T_6d088_row11_col4, #T_6d088_row11_col5, #T_6d088_row11_col6, #T_6d088_row12_col0, #T_6d088_row12_col1, #T_6d088_row12_col2, #T_6d088_row12_col3, #T_6d088_row12_col4, #T_6d088_row12_col5, #T_6d088_row12_col6, #T_6d088_row13_col0, #T_6d088_row13_col1, #T_6d088_row13_col2, #T_6d088_row13_col3, #T_6d088_row13_col4, #T_6d088_row13_col5, #T_6d088_row13_col6, #T_6d088_row14_col0, #T_6d088_row14_col1, #T_6d088_row14_col2, #T_6d088_row14_col3, #T_6d088_row14_col4, #T_6d088_row14_col5, #T_6d088_row14_col6, #T_6d088_row15_col0, #T_6d088_row15_col1, #T_6d088_row15_col2, #T_6d088_row15_col3, #T_6d088_row15_col4, #T_6d088_row15_col5, #T_6d088_row15_col6, #T_6d088_row16_col0, #T_6d088_row16_col1, #T_6d088_row16_col2, #T_6d088_row16_col3, #T_6d088_row16_col4, #T_6d088_row16_col5, #T_6d088_row16_col6, #T_6d088_row17_col0, #T_6d088_row17_col1, #T_6d088_row17_col2, #T_6d088_row17_col3, #T_6d088_row17_col4, #T_6d088_row17_col5, #T_6d088_row17_col6 {\n",
       "  text-align: left;\n",
       "}\n",
       "#T_6d088_row0_col2, #T_6d088_row0_col3, #T_6d088_row0_col4, #T_6d088_row1_col2, #T_6d088_row1_col3, #T_6d088_row1_col4, #T_6d088_row2_col4, #T_6d088_row4_col1, #T_6d088_row4_col5, #T_6d088_row4_col6 {\n",
       "  text-align: left;\n",
       "  background-color: yellow;\n",
       "}\n",
       "#T_6d088_row0_col7, #T_6d088_row2_col7, #T_6d088_row3_col7, #T_6d088_row4_col7, #T_6d088_row5_col7, #T_6d088_row6_col7, #T_6d088_row7_col7, #T_6d088_row8_col7, #T_6d088_row9_col7, #T_6d088_row10_col7, #T_6d088_row11_col7, #T_6d088_row12_col7, #T_6d088_row13_col7, #T_6d088_row14_col7, #T_6d088_row15_col7, #T_6d088_row16_col7, #T_6d088_row17_col7 {\n",
       "  text-align: left;\n",
       "  background-color: lightgrey;\n",
       "}\n",
       "#T_6d088_row1_col7 {\n",
       "  text-align: left;\n",
       "  background-color: yellow;\n",
       "  background-color: lightgrey;\n",
       "}\n",
       "</style>\n",
       "<table id=\"T_6d088\">\n",
       "  <thead>\n",
       "    <tr>\n",
       "      <th class=\"blank level0\" >&nbsp;</th>\n",
       "      <th id=\"T_6d088_level0_col0\" class=\"col_heading level0 col0\" >Model</th>\n",
       "      <th id=\"T_6d088_level0_col1\" class=\"col_heading level0 col1\" >MAE</th>\n",
       "      <th id=\"T_6d088_level0_col2\" class=\"col_heading level0 col2\" >MSE</th>\n",
       "      <th id=\"T_6d088_level0_col3\" class=\"col_heading level0 col3\" >RMSE</th>\n",
       "      <th id=\"T_6d088_level0_col4\" class=\"col_heading level0 col4\" >R2</th>\n",
       "      <th id=\"T_6d088_level0_col5\" class=\"col_heading level0 col5\" >RMSLE</th>\n",
       "      <th id=\"T_6d088_level0_col6\" class=\"col_heading level0 col6\" >MAPE</th>\n",
       "      <th id=\"T_6d088_level0_col7\" class=\"col_heading level0 col7\" >TT (Sec)</th>\n",
       "    </tr>\n",
       "  </thead>\n",
       "  <tbody>\n",
       "    <tr>\n",
       "      <th id=\"T_6d088_level0_row0\" class=\"row_heading level0 row0\" >lr</th>\n",
       "      <td id=\"T_6d088_row0_col0\" class=\"data row0 col0\" >Linear Regression</td>\n",
       "      <td id=\"T_6d088_row0_col1\" class=\"data row0 col1\" >2.2152</td>\n",
       "      <td id=\"T_6d088_row0_col2\" class=\"data row0 col2\" >17.4981</td>\n",
       "      <td id=\"T_6d088_row0_col3\" class=\"data row0 col3\" >4.1237</td>\n",
       "      <td id=\"T_6d088_row0_col4\" class=\"data row0 col4\" >0.8866</td>\n",
       "      <td id=\"T_6d088_row0_col5\" class=\"data row0 col5\" >0.3997</td>\n",
       "      <td id=\"T_6d088_row0_col6\" class=\"data row0 col6\" >0.4615</td>\n",
       "      <td id=\"T_6d088_row0_col7\" class=\"data row0 col7\" >2.1275</td>\n",
       "    </tr>\n",
       "    <tr>\n",
       "      <th id=\"T_6d088_level0_row1\" class=\"row_heading level0 row1\" >lar</th>\n",
       "      <td id=\"T_6d088_row1_col0\" class=\"data row1 col0\" >Least Angle Regression</td>\n",
       "      <td id=\"T_6d088_row1_col1\" class=\"data row1 col1\" >2.2152</td>\n",
       "      <td id=\"T_6d088_row1_col2\" class=\"data row1 col2\" >17.4981</td>\n",
       "      <td id=\"T_6d088_row1_col3\" class=\"data row1 col3\" >4.1237</td>\n",
       "      <td id=\"T_6d088_row1_col4\" class=\"data row1 col4\" >0.8866</td>\n",
       "      <td id=\"T_6d088_row1_col5\" class=\"data row1 col5\" >0.3997</td>\n",
       "      <td id=\"T_6d088_row1_col6\" class=\"data row1 col6\" >0.4615</td>\n",
       "      <td id=\"T_6d088_row1_col7\" class=\"data row1 col7\" >0.1325</td>\n",
       "    </tr>\n",
       "    <tr>\n",
       "      <th id=\"T_6d088_level0_row2\" class=\"row_heading level0 row2\" >br</th>\n",
       "      <td id=\"T_6d088_row2_col0\" class=\"data row2 col0\" >Bayesian Ridge</td>\n",
       "      <td id=\"T_6d088_row2_col1\" class=\"data row2 col1\" >2.2154</td>\n",
       "      <td id=\"T_6d088_row2_col2\" class=\"data row2 col2\" >17.4982</td>\n",
       "      <td id=\"T_6d088_row2_col3\" class=\"data row2 col3\" >4.1238</td>\n",
       "      <td id=\"T_6d088_row2_col4\" class=\"data row2 col4\" >0.8866</td>\n",
       "      <td id=\"T_6d088_row2_col5\" class=\"data row2 col5\" >0.3998</td>\n",
       "      <td id=\"T_6d088_row2_col6\" class=\"data row2 col6\" >0.4616</td>\n",
       "      <td id=\"T_6d088_row2_col7\" class=\"data row2 col7\" >0.1475</td>\n",
       "    </tr>\n",
       "    <tr>\n",
       "      <th id=\"T_6d088_level0_row3\" class=\"row_heading level0 row3\" >ridge</th>\n",
       "      <td id=\"T_6d088_row3_col0\" class=\"data row3 col0\" >Ridge Regression</td>\n",
       "      <td id=\"T_6d088_row3_col1\" class=\"data row3 col1\" >2.4108</td>\n",
       "      <td id=\"T_6d088_row3_col2\" class=\"data row3 col2\" >17.7663</td>\n",
       "      <td id=\"T_6d088_row3_col3\" class=\"data row3 col3\" >4.1823</td>\n",
       "      <td id=\"T_6d088_row3_col4\" class=\"data row3 col4\" >0.8847</td>\n",
       "      <td id=\"T_6d088_row3_col5\" class=\"data row3 col5\" >0.4206</td>\n",
       "      <td id=\"T_6d088_row3_col6\" class=\"data row3 col6\" >0.5175</td>\n",
       "      <td id=\"T_6d088_row3_col7\" class=\"data row3 col7\" >1.2800</td>\n",
       "    </tr>\n",
       "    <tr>\n",
       "      <th id=\"T_6d088_level0_row4\" class=\"row_heading level0 row4\" >huber</th>\n",
       "      <td id=\"T_6d088_row4_col0\" class=\"data row4 col0\" >Huber Regressor</td>\n",
       "      <td id=\"T_6d088_row4_col1\" class=\"data row4 col1\" >1.9392</td>\n",
       "      <td id=\"T_6d088_row4_col2\" class=\"data row4 col2\" >20.2608</td>\n",
       "      <td id=\"T_6d088_row4_col3\" class=\"data row4 col3\" >4.4035</td>\n",
       "      <td id=\"T_6d088_row4_col4\" class=\"data row4 col4\" >0.8689</td>\n",
       "      <td id=\"T_6d088_row4_col5\" class=\"data row4 col5\" >0.3896</td>\n",
       "      <td id=\"T_6d088_row4_col6\" class=\"data row4 col6\" >0.3386</td>\n",
       "      <td id=\"T_6d088_row4_col7\" class=\"data row4 col7\" >0.1975</td>\n",
       "    </tr>\n",
       "    <tr>\n",
       "      <th id=\"T_6d088_level0_row5\" class=\"row_heading level0 row5\" >par</th>\n",
       "      <td id=\"T_6d088_row5_col0\" class=\"data row5 col0\" >Passive Aggressive Regressor</td>\n",
       "      <td id=\"T_6d088_row5_col1\" class=\"data row5 col1\" >3.4504</td>\n",
       "      <td id=\"T_6d088_row5_col2\" class=\"data row5 col2\" >30.0988</td>\n",
       "      <td id=\"T_6d088_row5_col3\" class=\"data row5 col3\" >5.2561</td>\n",
       "      <td id=\"T_6d088_row5_col4\" class=\"data row5 col4\" >0.8051</td>\n",
       "      <td id=\"T_6d088_row5_col5\" class=\"data row5 col5\" >0.4935</td>\n",
       "      <td id=\"T_6d088_row5_col6\" class=\"data row5 col6\" >0.5782</td>\n",
       "      <td id=\"T_6d088_row5_col7\" class=\"data row5 col7\" >0.1600</td>\n",
       "    </tr>\n",
       "    <tr>\n",
       "      <th id=\"T_6d088_level0_row6\" class=\"row_heading level0 row6\" >gbr</th>\n",
       "      <td id=\"T_6d088_row6_col0\" class=\"data row6 col0\" >Gradient Boosting Regressor</td>\n",
       "      <td id=\"T_6d088_row6_col1\" class=\"data row6 col1\" >4.4417</td>\n",
       "      <td id=\"T_6d088_row6_col2\" class=\"data row6 col2\" >45.6660</td>\n",
       "      <td id=\"T_6d088_row6_col3\" class=\"data row6 col3\" >6.7554</td>\n",
       "      <td id=\"T_6d088_row6_col4\" class=\"data row6 col4\" >0.7026</td>\n",
       "      <td id=\"T_6d088_row6_col5\" class=\"data row6 col5\" >0.6368</td>\n",
       "      <td id=\"T_6d088_row6_col6\" class=\"data row6 col6\" >0.9826</td>\n",
       "      <td id=\"T_6d088_row6_col7\" class=\"data row6 col7\" >0.6925</td>\n",
       "    </tr>\n",
       "    <tr>\n",
       "      <th id=\"T_6d088_level0_row7\" class=\"row_heading level0 row7\" >rf</th>\n",
       "      <td id=\"T_6d088_row7_col0\" class=\"data row7 col0\" >Random Forest Regressor</td>\n",
       "      <td id=\"T_6d088_row7_col1\" class=\"data row7 col1\" >4.5787</td>\n",
       "      <td id=\"T_6d088_row7_col2\" class=\"data row7 col2\" >48.6057</td>\n",
       "      <td id=\"T_6d088_row7_col3\" class=\"data row7 col3\" >6.9694</td>\n",
       "      <td id=\"T_6d088_row7_col4\" class=\"data row7 col4\" >0.6835</td>\n",
       "      <td id=\"T_6d088_row7_col5\" class=\"data row7 col5\" >0.6515</td>\n",
       "      <td id=\"T_6d088_row7_col6\" class=\"data row7 col6\" >1.0132</td>\n",
       "      <td id=\"T_6d088_row7_col7\" class=\"data row7 col7\" >1.0975</td>\n",
       "    </tr>\n",
       "    <tr>\n",
       "      <th id=\"T_6d088_level0_row8\" class=\"row_heading level0 row8\" >et</th>\n",
       "      <td id=\"T_6d088_row8_col0\" class=\"data row8 col0\" >Extra Trees Regressor</td>\n",
       "      <td id=\"T_6d088_row8_col1\" class=\"data row8 col1\" >4.7823</td>\n",
       "      <td id=\"T_6d088_row8_col2\" class=\"data row8 col2\" >52.2433</td>\n",
       "      <td id=\"T_6d088_row8_col3\" class=\"data row8 col3\" >7.2251</td>\n",
       "      <td id=\"T_6d088_row8_col4\" class=\"data row8 col4\" >0.6598</td>\n",
       "      <td id=\"T_6d088_row8_col5\" class=\"data row8 col5\" >0.6658</td>\n",
       "      <td id=\"T_6d088_row8_col6\" class=\"data row8 col6\" >1.0468</td>\n",
       "      <td id=\"T_6d088_row8_col7\" class=\"data row8 col7\" >0.7675</td>\n",
       "    </tr>\n",
       "    <tr>\n",
       "      <th id=\"T_6d088_level0_row9\" class=\"row_heading level0 row9\" >lightgbm</th>\n",
       "      <td id=\"T_6d088_row9_col0\" class=\"data row9 col0\" >Light Gradient Boosting Machine</td>\n",
       "      <td id=\"T_6d088_row9_col1\" class=\"data row9 col1\" >4.9194</td>\n",
       "      <td id=\"T_6d088_row9_col2\" class=\"data row9 col2\" >57.1742</td>\n",
       "      <td id=\"T_6d088_row9_col3\" class=\"data row9 col3\" >7.5585</td>\n",
       "      <td id=\"T_6d088_row9_col4\" class=\"data row9 col4\" >0.6277</td>\n",
       "      <td id=\"T_6d088_row9_col5\" class=\"data row9 col5\" >0.6752</td>\n",
       "      <td id=\"T_6d088_row9_col6\" class=\"data row9 col6\" >1.0935</td>\n",
       "      <td id=\"T_6d088_row9_col7\" class=\"data row9 col7\" >0.3800</td>\n",
       "    </tr>\n",
       "    <tr>\n",
       "      <th id=\"T_6d088_level0_row10\" class=\"row_heading level0 row10\" >en</th>\n",
       "      <td id=\"T_6d088_row10_col0\" class=\"data row10 col0\" >Elastic Net</td>\n",
       "      <td id=\"T_6d088_row10_col1\" class=\"data row10 col1\" >4.8459</td>\n",
       "      <td id=\"T_6d088_row10_col2\" class=\"data row10 col2\" >57.6336</td>\n",
       "      <td id=\"T_6d088_row10_col3\" class=\"data row10 col3\" >7.5881</td>\n",
       "      <td id=\"T_6d088_row10_col4\" class=\"data row10 col4\" >0.6248</td>\n",
       "      <td id=\"T_6d088_row10_col5\" class=\"data row10 col5\" >0.6610</td>\n",
       "      <td id=\"T_6d088_row10_col6\" class=\"data row10 col6\" >1.0791</td>\n",
       "      <td id=\"T_6d088_row10_col7\" class=\"data row10 col7\" >1.3950</td>\n",
       "    </tr>\n",
       "    <tr>\n",
       "      <th id=\"T_6d088_level0_row11\" class=\"row_heading level0 row11\" >lasso</th>\n",
       "      <td id=\"T_6d088_row11_col0\" class=\"data row11 col0\" >Lasso Regression</td>\n",
       "      <td id=\"T_6d088_row11_col1\" class=\"data row11 col1\" >4.8789</td>\n",
       "      <td id=\"T_6d088_row11_col2\" class=\"data row11 col2\" >58.2403</td>\n",
       "      <td id=\"T_6d088_row11_col3\" class=\"data row11 col3\" >7.6280</td>\n",
       "      <td id=\"T_6d088_row11_col4\" class=\"data row11 col4\" >0.6208</td>\n",
       "      <td id=\"T_6d088_row11_col5\" class=\"data row11 col5\" >0.6614</td>\n",
       "      <td id=\"T_6d088_row11_col6\" class=\"data row11 col6\" >1.0803</td>\n",
       "      <td id=\"T_6d088_row11_col7\" class=\"data row11 col7\" >1.2825</td>\n",
       "    </tr>\n",
       "    <tr>\n",
       "      <th id=\"T_6d088_level0_row12\" class=\"row_heading level0 row12\" >llar</th>\n",
       "      <td id=\"T_6d088_row12_col0\" class=\"data row12 col0\" >Lasso Least Angle Regression</td>\n",
       "      <td id=\"T_6d088_row12_col1\" class=\"data row12 col1\" >4.8789</td>\n",
       "      <td id=\"T_6d088_row12_col2\" class=\"data row12 col2\" >58.2403</td>\n",
       "      <td id=\"T_6d088_row12_col3\" class=\"data row12 col3\" >7.6280</td>\n",
       "      <td id=\"T_6d088_row12_col4\" class=\"data row12 col4\" >0.6208</td>\n",
       "      <td id=\"T_6d088_row12_col5\" class=\"data row12 col5\" >0.6614</td>\n",
       "      <td id=\"T_6d088_row12_col6\" class=\"data row12 col6\" >1.0803</td>\n",
       "      <td id=\"T_6d088_row12_col7\" class=\"data row12 col7\" >0.1375</td>\n",
       "    </tr>\n",
       "    <tr>\n",
       "      <th id=\"T_6d088_level0_row13\" class=\"row_heading level0 row13\" >knn</th>\n",
       "      <td id=\"T_6d088_row13_col0\" class=\"data row13 col0\" >K Neighbors Regressor</td>\n",
       "      <td id=\"T_6d088_row13_col1\" class=\"data row13 col1\" >5.2391</td>\n",
       "      <td id=\"T_6d088_row13_col2\" class=\"data row13 col2\" >61.9926</td>\n",
       "      <td id=\"T_6d088_row13_col3\" class=\"data row13 col3\" >7.8707</td>\n",
       "      <td id=\"T_6d088_row13_col4\" class=\"data row13 col4\" >0.5964</td>\n",
       "      <td id=\"T_6d088_row13_col5\" class=\"data row13 col5\" >0.7085</td>\n",
       "      <td id=\"T_6d088_row13_col6\" class=\"data row13 col6\" >1.1681</td>\n",
       "      <td id=\"T_6d088_row13_col7\" class=\"data row13 col7\" >0.1700</td>\n",
       "    </tr>\n",
       "    <tr>\n",
       "      <th id=\"T_6d088_level0_row14\" class=\"row_heading level0 row14\" >ada</th>\n",
       "      <td id=\"T_6d088_row14_col0\" class=\"data row14 col0\" >AdaBoost Regressor</td>\n",
       "      <td id=\"T_6d088_row14_col1\" class=\"data row14 col1\" >6.2491</td>\n",
       "      <td id=\"T_6d088_row14_col2\" class=\"data row14 col2\" >78.6400</td>\n",
       "      <td id=\"T_6d088_row14_col3\" class=\"data row14 col3\" >8.8591</td>\n",
       "      <td id=\"T_6d088_row14_col4\" class=\"data row14 col4\" >0.4878</td>\n",
       "      <td id=\"T_6d088_row14_col5\" class=\"data row14 col5\" >0.7620</td>\n",
       "      <td id=\"T_6d088_row14_col6\" class=\"data row14 col6\" >1.2989</td>\n",
       "      <td id=\"T_6d088_row14_col7\" class=\"data row14 col7\" >0.3975</td>\n",
       "    </tr>\n",
       "    <tr>\n",
       "      <th id=\"T_6d088_level0_row15\" class=\"row_heading level0 row15\" >dt</th>\n",
       "      <td id=\"T_6d088_row15_col0\" class=\"data row15 col0\" >Decision Tree Regressor</td>\n",
       "      <td id=\"T_6d088_row15_col1\" class=\"data row15 col1\" >6.2396</td>\n",
       "      <td id=\"T_6d088_row15_col2\" class=\"data row15 col2\" >84.7974</td>\n",
       "      <td id=\"T_6d088_row15_col3\" class=\"data row15 col3\" >9.2066</td>\n",
       "      <td id=\"T_6d088_row15_col4\" class=\"data row15 col4\" >0.4471</td>\n",
       "      <td id=\"T_6d088_row15_col5\" class=\"data row15 col5\" >0.7823</td>\n",
       "      <td id=\"T_6d088_row15_col6\" class=\"data row15 col6\" >1.3979</td>\n",
       "      <td id=\"T_6d088_row15_col7\" class=\"data row15 col7\" >0.1850</td>\n",
       "    </tr>\n",
       "    <tr>\n",
       "      <th id=\"T_6d088_level0_row16\" class=\"row_heading level0 row16\" >omp</th>\n",
       "      <td id=\"T_6d088_row16_col0\" class=\"data row16 col0\" >Orthogonal Matching Pursuit</td>\n",
       "      <td id=\"T_6d088_row16_col1\" class=\"data row16 col1\" >6.6018</td>\n",
       "      <td id=\"T_6d088_row16_col2\" class=\"data row16 col2\" >88.8660</td>\n",
       "      <td id=\"T_6d088_row16_col3\" class=\"data row16 col3\" >9.4254</td>\n",
       "      <td id=\"T_6d088_row16_col4\" class=\"data row16 col4\" >0.4212</td>\n",
       "      <td id=\"T_6d088_row16_col5\" class=\"data row16 col5\" >0.7929</td>\n",
       "      <td id=\"T_6d088_row16_col6\" class=\"data row16 col6\" >1.5529</td>\n",
       "      <td id=\"T_6d088_row16_col7\" class=\"data row16 col7\" >0.1425</td>\n",
       "    </tr>\n",
       "    <tr>\n",
       "      <th id=\"T_6d088_level0_row17\" class=\"row_heading level0 row17\" >dummy</th>\n",
       "      <td id=\"T_6d088_row17_col0\" class=\"data row17 col0\" >Dummy Regressor</td>\n",
       "      <td id=\"T_6d088_row17_col1\" class=\"data row17 col1\" >8.9510</td>\n",
       "      <td id=\"T_6d088_row17_col2\" class=\"data row17 col2\" >153.5496</td>\n",
       "      <td id=\"T_6d088_row17_col3\" class=\"data row17 col3\" >12.3909</td>\n",
       "      <td id=\"T_6d088_row17_col4\" class=\"data row17 col4\" >-0.0003</td>\n",
       "      <td id=\"T_6d088_row17_col5\" class=\"data row17 col5\" >0.8245</td>\n",
       "      <td id=\"T_6d088_row17_col6\" class=\"data row17 col6\" >1.9829</td>\n",
       "      <td id=\"T_6d088_row17_col7\" class=\"data row17 col7\" >0.1475</td>\n",
       "    </tr>\n",
       "  </tbody>\n",
       "</table>\n"
      ],
      "text/plain": [
       "<pandas.io.formats.style.Styler at 0x1cf1340b070>"
      ]
     },
     "metadata": {},
     "output_type": "display_data"
    },
    {
     "data": {
      "text/html": [],
      "text/plain": [
       "<IPython.core.display.HTML object>"
      ]
     },
     "metadata": {},
     "output_type": "display_data"
    }
   ],
   "source": [
    "best_model = compare_models(fold=4, cross_validation=True)"
   ]
  },
  {
   "cell_type": "code",
   "execution_count": 44,
   "id": "OFcbYkww2Gus",
   "metadata": {
    "id": "OFcbYkww2Gus"
   },
   "outputs": [
    {
     "data": {
      "application/vnd.jupyter.widget-view+json": {
       "model_id": "a8eed0b483274c10aca40c893a0e760c",
       "version_major": 2,
       "version_minor": 0
      },
      "text/plain": [
       "interactive(children=(ToggleButtons(description='Plot Type:', icons=('',), options=(('Pipeline Plot', 'pipelin…"
      ]
     },
     "metadata": {},
     "output_type": "display_data"
    }
   ],
   "source": [
    "evaluate_model(best_model)"
   ]
  },
  {
   "cell_type": "markdown",
   "id": "TOWKwRILtrRy",
   "metadata": {
    "id": "TOWKwRILtrRy"
   },
   "source": [
    "### Hyper_Parameter optimization using Optuna"
   ]
  },
  {
   "cell_type": "code",
   "execution_count": 47,
   "id": "OJ-9NaBHttIJ",
   "metadata": {
    "id": "OJ-9NaBHttIJ"
   },
   "outputs": [
    {
     "name": "stderr",
     "output_type": "stream",
     "text": [
      "[I 2023-07-14 15:54:45,164] A new study created in memory with name: no-name-9b043c75-20c3-40bc-9ca3-59efcdef726c\n",
      "[I 2023-07-14 15:54:45,190] Trial 0 finished with value: -0.8993384123002892 and parameters: {'copy_X': True, 'fit_intercept': False, 'n_jobs': 13, 'positive': False}. Best is trial 0 with value: -0.8993384123002892.\n",
      "[I 2023-07-14 15:54:45,218] Trial 1 finished with value: -0.9095121651143312 and parameters: {'copy_X': False, 'fit_intercept': True, 'n_jobs': 9, 'positive': False}. Best is trial 1 with value: -0.9095121651143312.\n",
      "[I 2023-07-14 15:54:45,253] Trial 2 finished with value: -0.9095121651143312 and parameters: {'copy_X': True, 'fit_intercept': True, 'n_jobs': 2, 'positive': False}. Best is trial 1 with value: -0.9095121651143312.\n",
      "[I 2023-07-14 15:54:45,284] Trial 3 finished with value: -0.6240071422873374 and parameters: {'copy_X': False, 'fit_intercept': True, 'n_jobs': 2, 'positive': True}. Best is trial 1 with value: -0.9095121651143312.\n",
      "[I 2023-07-14 15:54:45,329] Trial 4 finished with value: -0.9095121651143312 and parameters: {'copy_X': True, 'fit_intercept': True, 'n_jobs': -1, 'positive': False}. Best is trial 1 with value: -0.9095121651143312.\n",
      "[I 2023-07-14 15:54:45,353] Trial 5 finished with value: -0.8993384123002892 and parameters: {'copy_X': False, 'fit_intercept': False, 'n_jobs': -1, 'positive': False}. Best is trial 1 with value: -0.9095121651143312.\n",
      "[I 2023-07-14 15:54:45,377] Trial 6 finished with value: -0.8993384123002892 and parameters: {'copy_X': False, 'fit_intercept': False, 'n_jobs': 6, 'positive': False}. Best is trial 1 with value: -0.9095121651143312.\n",
      "[I 2023-07-14 15:54:45,404] Trial 7 finished with value: -0.9095121651143312 and parameters: {'copy_X': True, 'fit_intercept': True, 'n_jobs': 11, 'positive': False}. Best is trial 1 with value: -0.9095121651143312.\n",
      "[I 2023-07-14 15:54:45,427] Trial 8 finished with value: -0.6240071422873374 and parameters: {'copy_X': False, 'fit_intercept': True, 'n_jobs': 12, 'positive': True}. Best is trial 1 with value: -0.9095121651143312.\n",
      "[I 2023-07-14 15:54:45,457] Trial 9 finished with value: -0.6240071422873374 and parameters: {'copy_X': True, 'fit_intercept': True, 'n_jobs': 2, 'positive': True}. Best is trial 1 with value: -0.9095121651143312.\n",
      "[I 2023-07-14 15:54:45,496] Trial 10 finished with value: -0.5269171780414992 and parameters: {'copy_X': False, 'fit_intercept': False, 'n_jobs': 16, 'positive': True}. Best is trial 1 with value: -0.9095121651143312.\n",
      "[I 2023-07-14 15:54:45,539] Trial 11 finished with value: -0.9095121651143312 and parameters: {'copy_X': True, 'fit_intercept': True, 'n_jobs': 7, 'positive': False}. Best is trial 1 with value: -0.9095121651143312.\n",
      "[I 2023-07-14 15:54:45,577] Trial 12 finished with value: -0.9095121651143312 and parameters: {'copy_X': False, 'fit_intercept': True, 'n_jobs': 5, 'positive': False}. Best is trial 1 with value: -0.9095121651143312.\n",
      "[I 2023-07-14 15:54:45,618] Trial 13 finished with value: -0.9095121651143312 and parameters: {'copy_X': True, 'fit_intercept': True, 'n_jobs': 9, 'positive': False}. Best is trial 1 with value: -0.9095121651143312.\n",
      "[I 2023-07-14 15:54:45,657] Trial 14 finished with value: -0.9095121651143312 and parameters: {'copy_X': True, 'fit_intercept': True, 'n_jobs': 3, 'positive': False}. Best is trial 1 with value: -0.9095121651143312.\n",
      "[I 2023-07-14 15:54:45,699] Trial 15 finished with value: -0.9095121651143312 and parameters: {'copy_X': False, 'fit_intercept': True, 'n_jobs': 9, 'positive': False}. Best is trial 1 with value: -0.9095121651143312.\n",
      "[I 2023-07-14 15:54:45,735] Trial 16 finished with value: -0.9095121651143312 and parameters: {'copy_X': True, 'fit_intercept': True, 'n_jobs': 5, 'positive': False}. Best is trial 1 with value: -0.9095121651143312.\n",
      "[I 2023-07-14 15:54:45,781] Trial 17 finished with value: -0.9095121651143312 and parameters: {'copy_X': False, 'fit_intercept': True, 'n_jobs': 10, 'positive': False}. Best is trial 1 with value: -0.9095121651143312.\n",
      "[I 2023-07-14 15:54:45,818] Trial 18 finished with value: -0.5269171780414992 and parameters: {'copy_X': True, 'fit_intercept': False, 'n_jobs': 15, 'positive': True}. Best is trial 1 with value: -0.9095121651143312.\n",
      "[I 2023-07-14 15:54:45,855] Trial 19 finished with value: -0.9095121651143312 and parameters: {'copy_X': False, 'fit_intercept': True, 'n_jobs': 4, 'positive': False}. Best is trial 1 with value: -0.9095121651143312.\n",
      "[I 2023-07-14 15:54:45,895] Trial 20 finished with value: -0.9095121651143312 and parameters: {'copy_X': True, 'fit_intercept': True, 'n_jobs': 8, 'positive': False}. Best is trial 1 with value: -0.9095121651143312.\n",
      "[I 2023-07-14 15:54:45,934] Trial 21 finished with value: -0.9095121651143312 and parameters: {'copy_X': True, 'fit_intercept': True, 'n_jobs': 0, 'positive': False}. Best is trial 1 with value: -0.9095121651143312.\n",
      "[I 2023-07-14 15:54:45,981] Trial 22 finished with value: -0.9095121651143312 and parameters: {'copy_X': True, 'fit_intercept': True, 'n_jobs': 0, 'positive': False}. Best is trial 1 with value: -0.9095121651143312.\n",
      "[I 2023-07-14 15:54:46,027] Trial 23 finished with value: -0.9095121651143312 and parameters: {'copy_X': True, 'fit_intercept': True, 'n_jobs': 1, 'positive': False}. Best is trial 1 with value: -0.9095121651143312.\n",
      "[I 2023-07-14 15:54:46,073] Trial 24 finished with value: -0.9095121651143312 and parameters: {'copy_X': True, 'fit_intercept': True, 'n_jobs': -1, 'positive': False}. Best is trial 1 with value: -0.9095121651143312.\n",
      "[I 2023-07-14 15:54:46,121] Trial 25 finished with value: -0.9095121651143312 and parameters: {'copy_X': True, 'fit_intercept': True, 'n_jobs': 3, 'positive': False}. Best is trial 1 with value: -0.9095121651143312.\n",
      "[I 2023-07-14 15:54:46,161] Trial 26 finished with value: -0.5269171780414992 and parameters: {'copy_X': False, 'fit_intercept': False, 'n_jobs': 7, 'positive': True}. Best is trial 1 with value: -0.9095121651143312.\n",
      "[I 2023-07-14 15:54:46,208] Trial 27 finished with value: -0.9095121651143312 and parameters: {'copy_X': True, 'fit_intercept': True, 'n_jobs': 1, 'positive': False}. Best is trial 1 with value: -0.9095121651143312.\n",
      "[I 2023-07-14 15:54:46,262] Trial 28 finished with value: -0.9095121651143312 and parameters: {'copy_X': False, 'fit_intercept': True, 'n_jobs': -1, 'positive': False}. Best is trial 1 with value: -0.9095121651143312.\n",
      "[I 2023-07-14 15:54:46,315] Trial 29 finished with value: -0.8993384123002892 and parameters: {'copy_X': True, 'fit_intercept': False, 'n_jobs': 14, 'positive': False}. Best is trial 1 with value: -0.9095121651143312.\n",
      "[I 2023-07-14 15:54:46,364] Trial 30 finished with value: -0.9095121651143312 and parameters: {'copy_X': True, 'fit_intercept': True, 'n_jobs': 12, 'positive': False}. Best is trial 1 with value: -0.9095121651143312.\n",
      "[I 2023-07-14 15:54:46,412] Trial 31 finished with value: -0.9095121651143312 and parameters: {'copy_X': True, 'fit_intercept': True, 'n_jobs': 11, 'positive': False}. Best is trial 1 with value: -0.9095121651143312.\n",
      "[I 2023-07-14 15:54:46,464] Trial 32 finished with value: -0.9095121651143312 and parameters: {'copy_X': True, 'fit_intercept': True, 'n_jobs': 10, 'positive': False}. Best is trial 1 with value: -0.9095121651143312.\n",
      "[I 2023-07-14 15:54:46,514] Trial 33 finished with value: -0.9095121651143312 and parameters: {'copy_X': True, 'fit_intercept': True, 'n_jobs': 13, 'positive': False}. Best is trial 1 with value: -0.9095121651143312.\n",
      "[I 2023-07-14 15:54:46,564] Trial 34 finished with value: -0.9095121651143312 and parameters: {'copy_X': True, 'fit_intercept': True, 'n_jobs': 9, 'positive': False}. Best is trial 1 with value: -0.9095121651143312.\n",
      "[I 2023-07-14 15:54:46,611] Trial 35 finished with value: -0.5269171780414992 and parameters: {'copy_X': False, 'fit_intercept': False, 'n_jobs': 11, 'positive': True}. Best is trial 1 with value: -0.9095121651143312.\n",
      "[I 2023-07-14 15:54:46,663] Trial 36 finished with value: -0.9095121651143312 and parameters: {'copy_X': False, 'fit_intercept': True, 'n_jobs': 6, 'positive': False}. Best is trial 1 with value: -0.9095121651143312.\n",
      "[I 2023-07-14 15:54:46,714] Trial 37 finished with value: -0.6240071422873374 and parameters: {'copy_X': True, 'fit_intercept': True, 'n_jobs': 1, 'positive': True}. Best is trial 1 with value: -0.9095121651143312.\n",
      "[I 2023-07-14 15:54:46,784] Trial 38 finished with value: -0.8993384123002892 and parameters: {'copy_X': False, 'fit_intercept': False, 'n_jobs': 8, 'positive': False}. Best is trial 1 with value: -0.9095121651143312.\n",
      "[I 2023-07-14 15:54:46,842] Trial 39 finished with value: -0.9095121651143312 and parameters: {'copy_X': True, 'fit_intercept': True, 'n_jobs': 2, 'positive': False}. Best is trial 1 with value: -0.9095121651143312.\n",
      "[I 2023-07-14 15:54:46,908] Trial 40 finished with value: -0.6240071422873374 and parameters: {'copy_X': False, 'fit_intercept': True, 'n_jobs': 13, 'positive': True}. Best is trial 1 with value: -0.9095121651143312.\n",
      "[I 2023-07-14 15:54:46,952] Trial 41 finished with value: -0.9095121651143312 and parameters: {'copy_X': True, 'fit_intercept': True, 'n_jobs': 7, 'positive': False}. Best is trial 1 with value: -0.9095121651143312.\n",
      "[I 2023-07-14 15:54:46,991] Trial 42 finished with value: -0.9095121651143312 and parameters: {'copy_X': True, 'fit_intercept': True, 'n_jobs': 6, 'positive': False}. Best is trial 1 with value: -0.9095121651143312.\n",
      "[I 2023-07-14 15:54:47,023] Trial 43 finished with value: -0.9095121651143312 and parameters: {'copy_X': True, 'fit_intercept': True, 'n_jobs': 10, 'positive': False}. Best is trial 1 with value: -0.9095121651143312.\n",
      "[I 2023-07-14 15:54:47,054] Trial 44 finished with value: -0.9095121651143312 and parameters: {'copy_X': True, 'fit_intercept': True, 'n_jobs': 4, 'positive': False}. Best is trial 1 with value: -0.9095121651143312.\n",
      "[I 2023-07-14 15:54:47,090] Trial 45 finished with value: -0.9095121651143312 and parameters: {'copy_X': True, 'fit_intercept': True, 'n_jobs': 11, 'positive': False}. Best is trial 1 with value: -0.9095121651143312.\n",
      "[I 2023-07-14 15:54:47,123] Trial 46 finished with value: -0.9095121651143312 and parameters: {'copy_X': True, 'fit_intercept': True, 'n_jobs': 12, 'positive': False}. Best is trial 1 with value: -0.9095121651143312.\n",
      "[I 2023-07-14 15:54:47,157] Trial 47 finished with value: -0.9095121651143312 and parameters: {'copy_X': False, 'fit_intercept': True, 'n_jobs': 5, 'positive': False}. Best is trial 1 with value: -0.9095121651143312.\n",
      "[I 2023-07-14 15:54:47,194] Trial 48 finished with value: -0.8993384123002892 and parameters: {'copy_X': True, 'fit_intercept': False, 'n_jobs': 3, 'positive': False}. Best is trial 1 with value: -0.9095121651143312.\n",
      "[I 2023-07-14 15:54:47,234] Trial 49 finished with value: -0.6240071422873374 and parameters: {'copy_X': True, 'fit_intercept': True, 'n_jobs': 0, 'positive': True}. Best is trial 1 with value: -0.9095121651143312.\n",
      "[I 2023-07-14 15:54:47,273] Trial 50 finished with value: -0.9095121651143312 and parameters: {'copy_X': False, 'fit_intercept': True, 'n_jobs': 9, 'positive': False}. Best is trial 1 with value: -0.9095121651143312.\n",
      "[I 2023-07-14 15:54:47,313] Trial 51 finished with value: -0.9095121651143312 and parameters: {'copy_X': False, 'fit_intercept': True, 'n_jobs': 8, 'positive': False}. Best is trial 1 with value: -0.9095121651143312.\n",
      "[I 2023-07-14 15:54:47,348] Trial 52 finished with value: -0.9095121651143312 and parameters: {'copy_X': False, 'fit_intercept': True, 'n_jobs': 7, 'positive': False}. Best is trial 1 with value: -0.9095121651143312.\n",
      "[I 2023-07-14 15:54:47,383] Trial 53 finished with value: -0.9095121651143312 and parameters: {'copy_X': False, 'fit_intercept': True, 'n_jobs': 5, 'positive': False}. Best is trial 1 with value: -0.9095121651143312.\n",
      "[I 2023-07-14 15:54:47,418] Trial 54 finished with value: -0.9095121651143312 and parameters: {'copy_X': False, 'fit_intercept': True, 'n_jobs': 4, 'positive': False}. Best is trial 1 with value: -0.9095121651143312.\n",
      "[I 2023-07-14 15:54:47,454] Trial 55 finished with value: -0.9095121651143312 and parameters: {'copy_X': False, 'fit_intercept': True, 'n_jobs': 2, 'positive': False}. Best is trial 1 with value: -0.9095121651143312.\n",
      "[I 2023-07-14 15:54:47,490] Trial 56 finished with value: -0.9095121651143312 and parameters: {'copy_X': True, 'fit_intercept': True, 'n_jobs': 6, 'positive': False}. Best is trial 1 with value: -0.9095121651143312.\n",
      "[I 2023-07-14 15:54:47,525] Trial 57 finished with value: -0.9095121651143312 and parameters: {'copy_X': True, 'fit_intercept': True, 'n_jobs': -1, 'positive': False}. Best is trial 1 with value: -0.9095121651143312.\n",
      "[I 2023-07-14 15:54:47,560] Trial 58 finished with value: -0.8993384123002892 and parameters: {'copy_X': False, 'fit_intercept': False, 'n_jobs': 10, 'positive': False}. Best is trial 1 with value: -0.9095121651143312.\n",
      "[I 2023-07-14 15:54:47,594] Trial 59 finished with value: -0.9095121651143312 and parameters: {'copy_X': True, 'fit_intercept': True, 'n_jobs': 8, 'positive': False}. Best is trial 1 with value: -0.9095121651143312.\n",
      "[I 2023-07-14 15:54:47,631] Trial 60 finished with value: -0.6240071422873374 and parameters: {'copy_X': True, 'fit_intercept': True, 'n_jobs': 1, 'positive': True}. Best is trial 1 with value: -0.9095121651143312.\n",
      "[I 2023-07-14 15:54:47,672] Trial 61 finished with value: -0.9095121651143312 and parameters: {'copy_X': True, 'fit_intercept': True, 'n_jobs': 9, 'positive': False}. Best is trial 1 with value: -0.9095121651143312.\n",
      "[I 2023-07-14 15:54:47,714] Trial 62 finished with value: -0.9095121651143312 and parameters: {'copy_X': True, 'fit_intercept': True, 'n_jobs': 3, 'positive': False}. Best is trial 1 with value: -0.9095121651143312.\n",
      "[I 2023-07-14 15:54:47,756] Trial 63 finished with value: -0.9095121651143312 and parameters: {'copy_X': True, 'fit_intercept': True, 'n_jobs': 9, 'positive': False}. Best is trial 1 with value: -0.9095121651143312.\n",
      "[I 2023-07-14 15:54:47,796] Trial 64 finished with value: -0.9095121651143312 and parameters: {'copy_X': True, 'fit_intercept': True, 'n_jobs': 7, 'positive': False}. Best is trial 1 with value: -0.9095121651143312.\n",
      "[I 2023-07-14 15:54:47,837] Trial 65 finished with value: -0.9095121651143312 and parameters: {'copy_X': True, 'fit_intercept': True, 'n_jobs': 11, 'positive': False}. Best is trial 1 with value: -0.9095121651143312.\n",
      "[I 2023-07-14 15:54:47,881] Trial 66 finished with value: -0.9095121651143312 and parameters: {'copy_X': False, 'fit_intercept': True, 'n_jobs': 10, 'positive': False}. Best is trial 1 with value: -0.9095121651143312.\n",
      "[I 2023-07-14 15:54:47,925] Trial 67 finished with value: -0.9095121651143312 and parameters: {'copy_X': True, 'fit_intercept': True, 'n_jobs': 4, 'positive': False}. Best is trial 1 with value: -0.9095121651143312.\n",
      "[I 2023-07-14 15:54:47,966] Trial 68 finished with value: -0.8993384123002892 and parameters: {'copy_X': True, 'fit_intercept': False, 'n_jobs': 0, 'positive': False}. Best is trial 1 with value: -0.9095121651143312.\n",
      "[I 2023-07-14 15:54:48,008] Trial 69 finished with value: -0.9095121651143312 and parameters: {'copy_X': False, 'fit_intercept': True, 'n_jobs': 6, 'positive': False}. Best is trial 1 with value: -0.9095121651143312.\n",
      "[I 2023-07-14 15:54:48,050] Trial 70 finished with value: -0.6240071422873374 and parameters: {'copy_X': True, 'fit_intercept': True, 'n_jobs': 9, 'positive': True}. Best is trial 1 with value: -0.9095121651143312.\n",
      "[I 2023-07-14 15:54:48,089] Trial 71 finished with value: -0.9095121651143312 and parameters: {'copy_X': True, 'fit_intercept': True, 'n_jobs': 3, 'positive': False}. Best is trial 1 with value: -0.9095121651143312.\n",
      "[I 2023-07-14 15:54:48,127] Trial 72 finished with value: -0.9095121651143312 and parameters: {'copy_X': True, 'fit_intercept': True, 'n_jobs': 5, 'positive': False}. Best is trial 1 with value: -0.9095121651143312.\n",
      "[I 2023-07-14 15:54:48,175] Trial 73 finished with value: -0.9095121651143312 and parameters: {'copy_X': True, 'fit_intercept': True, 'n_jobs': 2, 'positive': False}. Best is trial 1 with value: -0.9095121651143312.\n",
      "[I 2023-07-14 15:54:48,217] Trial 74 finished with value: -0.9095121651143312 and parameters: {'copy_X': True, 'fit_intercept': True, 'n_jobs': 8, 'positive': False}. Best is trial 1 with value: -0.9095121651143312.\n",
      "[I 2023-07-14 15:54:48,263] Trial 75 finished with value: -0.9095121651143312 and parameters: {'copy_X': True, 'fit_intercept': True, 'n_jobs': 14, 'positive': False}. Best is trial 1 with value: -0.9095121651143312.\n",
      "[I 2023-07-14 15:54:48,304] Trial 76 finished with value: -0.9095121651143312 and parameters: {'copy_X': True, 'fit_intercept': True, 'n_jobs': 5, 'positive': False}. Best is trial 1 with value: -0.9095121651143312.\n",
      "[I 2023-07-14 15:54:48,344] Trial 77 finished with value: -0.9095121651143312 and parameters: {'copy_X': True, 'fit_intercept': True, 'n_jobs': 12, 'positive': False}. Best is trial 1 with value: -0.9095121651143312.\n",
      "[I 2023-07-14 15:54:48,385] Trial 78 finished with value: -0.9095121651143312 and parameters: {'copy_X': False, 'fit_intercept': True, 'n_jobs': 0, 'positive': False}. Best is trial 1 with value: -0.9095121651143312.\n",
      "[I 2023-07-14 15:54:48,423] Trial 79 finished with value: -0.8993384123002892 and parameters: {'copy_X': True, 'fit_intercept': False, 'n_jobs': 7, 'positive': False}. Best is trial 1 with value: -0.9095121651143312.\n",
      "[I 2023-07-14 15:54:48,461] Trial 80 finished with value: -0.9095121651143312 and parameters: {'copy_X': False, 'fit_intercept': True, 'n_jobs': 2, 'positive': False}. Best is trial 1 with value: -0.9095121651143312.\n",
      "[I 2023-07-14 15:54:48,499] Trial 81 finished with value: -0.9095121651143312 and parameters: {'copy_X': False, 'fit_intercept': True, 'n_jobs': 10, 'positive': False}. Best is trial 1 with value: -0.9095121651143312.\n",
      "[I 2023-07-14 15:54:48,537] Trial 82 finished with value: -0.9095121651143312 and parameters: {'copy_X': False, 'fit_intercept': True, 'n_jobs': 11, 'positive': False}. Best is trial 1 with value: -0.9095121651143312.\n",
      "[I 2023-07-14 15:54:48,576] Trial 83 finished with value: -0.9095121651143312 and parameters: {'copy_X': False, 'fit_intercept': True, 'n_jobs': 8, 'positive': False}. Best is trial 1 with value: -0.9095121651143312.\n",
      "[I 2023-07-14 15:54:48,616] Trial 84 finished with value: -0.9095121651143312 and parameters: {'copy_X': False, 'fit_intercept': True, 'n_jobs': 1, 'positive': False}. Best is trial 1 with value: -0.9095121651143312.\n",
      "[I 2023-07-14 15:54:48,657] Trial 85 finished with value: -0.6240071422873374 and parameters: {'copy_X': False, 'fit_intercept': True, 'n_jobs': 9, 'positive': True}. Best is trial 1 with value: -0.9095121651143312.\n",
      "[I 2023-07-14 15:54:48,701] Trial 86 finished with value: -0.9095121651143312 and parameters: {'copy_X': True, 'fit_intercept': True, 'n_jobs': 6, 'positive': False}. Best is trial 1 with value: -0.9095121651143312.\n",
      "[I 2023-07-14 15:54:48,743] Trial 87 finished with value: -0.9095121651143312 and parameters: {'copy_X': True, 'fit_intercept': True, 'n_jobs': 4, 'positive': False}. Best is trial 1 with value: -0.9095121651143312.\n",
      "[I 2023-07-14 15:54:48,781] Trial 88 finished with value: -0.9095121651143312 and parameters: {'copy_X': False, 'fit_intercept': True, 'n_jobs': 10, 'positive': False}. Best is trial 1 with value: -0.9095121651143312.\n",
      "[I 2023-07-14 15:54:48,821] Trial 89 finished with value: -0.9095121651143312 and parameters: {'copy_X': True, 'fit_intercept': True, 'n_jobs': 7, 'positive': False}. Best is trial 1 with value: -0.9095121651143312.\n",
      "[I 2023-07-14 15:54:48,862] Trial 90 finished with value: -0.8993384123002892 and parameters: {'copy_X': True, 'fit_intercept': False, 'n_jobs': 3, 'positive': False}. Best is trial 1 with value: -0.9095121651143312.\n",
      "[I 2023-07-14 15:54:48,908] Trial 91 finished with value: -0.9095121651143312 and parameters: {'copy_X': True, 'fit_intercept': True, 'n_jobs': 5, 'positive': False}. Best is trial 1 with value: -0.9095121651143312.\n",
      "[I 2023-07-14 15:54:48,984] Trial 92 finished with value: -0.9095121651143312 and parameters: {'copy_X': True, 'fit_intercept': True, 'n_jobs': 16, 'positive': False}. Best is trial 1 with value: -0.9095121651143312.\n",
      "[I 2023-07-14 15:54:49,029] Trial 93 finished with value: -0.9095121651143312 and parameters: {'copy_X': True, 'fit_intercept': True, 'n_jobs': 6, 'positive': False}. Best is trial 1 with value: -0.9095121651143312.\n",
      "[I 2023-07-14 15:54:49,070] Trial 94 finished with value: -0.9095121651143312 and parameters: {'copy_X': True, 'fit_intercept': True, 'n_jobs': 9, 'positive': False}. Best is trial 1 with value: -0.9095121651143312.\n",
      "[I 2023-07-14 15:54:49,110] Trial 95 finished with value: -0.9095121651143312 and parameters: {'copy_X': True, 'fit_intercept': True, 'n_jobs': 8, 'positive': False}. Best is trial 1 with value: -0.9095121651143312.\n",
      "[I 2023-07-14 15:54:49,154] Trial 96 finished with value: -0.9095121651143312 and parameters: {'copy_X': False, 'fit_intercept': True, 'n_jobs': 4, 'positive': False}. Best is trial 1 with value: -0.9095121651143312.\n",
      "[I 2023-07-14 15:54:49,203] Trial 97 finished with value: -0.6240071422873374 and parameters: {'copy_X': True, 'fit_intercept': True, 'n_jobs': -1, 'positive': True}. Best is trial 1 with value: -0.9095121651143312.\n",
      "[I 2023-07-14 15:54:49,249] Trial 98 finished with value: -0.9095121651143312 and parameters: {'copy_X': False, 'fit_intercept': True, 'n_jobs': 5, 'positive': False}. Best is trial 1 with value: -0.9095121651143312.\n",
      "[I 2023-07-14 15:54:49,290] Trial 99 finished with value: -0.9095121651143312 and parameters: {'copy_X': True, 'fit_intercept': True, 'n_jobs': 3, 'positive': False}. Best is trial 1 with value: -0.9095121651143312.\n"
     ]
    }
   ],
   "source": [
    "def objective(trial):\n",
    "  \"\"\"Objective function for Optuna.\"\"\"\n",
    "  copy_X = trial.suggest_categorical(\"copy_X\", [True, False])\n",
    "  fit_intercept = trial.suggest_categorical(\"fit_intercept\", [True, False])\n",
    "  n_jobs = trial.suggest_int(\"n_jobs\", -1, 16)\n",
    "  positive = trial.suggest_categorical(\"positive\", [True, False])\n",
    "\n",
    "  model = LinearRegression(copy_X=copy_X, fit_intercept=fit_intercept, n_jobs=n_jobs, positive=positive)\n",
    "\n",
    "  score = model.fit(X_train, y_train).score(X_test, y_test)\n",
    "  return -1.0 * score  # Negative sign to score\n",
    "\n",
    "study = optuna.create_study()\n",
    "study.optimize(objective, n_trials=100)"
   ]
  },
  {
   "cell_type": "code",
   "execution_count": null,
   "id": "13abb440-0e47-4d27-9c9a-47187885e44f",
   "metadata": {},
   "outputs": [],
   "source": [
    "[I 2023-07-14 15:54:45,218] Trial 1 finished with value: -0.9095121651143312 and \n",
    "    parameters: {'copy_X': False, 'fit_intercept': True, 'n_jobs': 9, 'positive': False}. \n",
    "Best is trial 1 with value: -0.9095121651143312."
   ]
  },
  {
   "cell_type": "markdown",
   "id": "Hu8LHx_mtt0m",
   "metadata": {
    "id": "Hu8LHx_mtt0m"
   },
   "source": [
    "### Model training and evaluation"
   ]
  },
  {
   "cell_type": "code",
   "execution_count": 48,
   "id": "ifv1t7zFtvFw",
   "metadata": {
    "id": "ifv1t7zFtvFw"
   },
   "outputs": [],
   "source": [
    "# Instantiate linear regression model\n",
    "model = LinearRegression(copy_X=False, fit_intercept=True, n_jobs=9, positive=False)"
   ]
  },
  {
   "cell_type": "code",
   "execution_count": 51,
   "id": "psbMMRFkVm3R",
   "metadata": {
    "id": "psbMMRFkVm3R"
   },
   "outputs": [
    {
     "name": "stdout",
     "output_type": "stream",
     "text": [
      "R2 Score of model :  0.9095121651143312\n"
     ]
    }
   ],
   "source": [
    "# Training the model\n",
    "model.fit(X_train,y_train)\n",
    "\n",
    "# Making predictions\n",
    "y_pred = model.predict(X_test)\n",
    "print(\"R2 Score of model : \",r2_score(y_test,y_pred))"
   ]
  },
  {
   "cell_type": "code",
   "execution_count": 52,
   "id": "NPPRcw5kXXh9",
   "metadata": {
    "id": "NPPRcw5kXXh9"
   },
   "outputs": [],
   "source": [
    "# Save the model to a file using pickle\n",
    "with open(\"model_file.pkl\", \"wb\") as f:\n",
    "    pickle.dump(model, f)"
   ]
  }
 ],
 "metadata": {
  "accelerator": "GPU",
  "colab": {
   "gpuType": "T4",
   "provenance": []
  },
  "kernelspec": {
   "display_name": "Python 3 (ipykernel)",
   "language": "python",
   "name": "python3"
  },
  "language_info": {
   "codemirror_mode": {
    "name": "ipython",
    "version": 3
   },
   "file_extension": ".py",
   "mimetype": "text/x-python",
   "name": "python",
   "nbconvert_exporter": "python",
   "pygments_lexer": "ipython3",
   "version": "3.10.0"
  },
  "widgets": {
   "application/vnd.jupyter.widget-state+json": {
    "002903aaec094fc593599e543639d0bf": {
     "model_module": "@jupyter-widgets/controls",
     "model_module_version": "1.5.0",
     "model_name": "HTMLModel",
     "state": {
      "_dom_classes": [],
      "_model_module": "@jupyter-widgets/controls",
      "_model_module_version": "1.5.0",
      "_model_name": "HTMLModel",
      "_view_count": null,
      "_view_module": "@jupyter-widgets/controls",
      "_view_module_version": "1.5.0",
      "_view_name": "HTMLView",
      "description": "",
      "description_tooltip": null,
      "layout": "IPY_MODEL_6feb0429c7c64258ab320153b9b35db3",
      "placeholder": "​",
      "style": "IPY_MODEL_a532da16817447f6865bc183b3f8984c",
      "value": "Processing: 100%"
     }
    },
    "0710088cfaa241d9b9ae1ce7247d7c8a": {
     "model_module": "@jupyter-widgets/base",
     "model_module_version": "1.2.0",
     "model_name": "LayoutModel",
     "state": {
      "_model_module": "@jupyter-widgets/base",
      "_model_module_version": "1.2.0",
      "_model_name": "LayoutModel",
      "_view_count": null,
      "_view_module": "@jupyter-widgets/base",
      "_view_module_version": "1.2.0",
      "_view_name": "LayoutView",
      "align_content": null,
      "align_items": null,
      "align_self": null,
      "border": null,
      "bottom": null,
      "display": null,
      "flex": null,
      "flex_flow": null,
      "grid_area": null,
      "grid_auto_columns": null,
      "grid_auto_flow": null,
      "grid_auto_rows": null,
      "grid_column": null,
      "grid_gap": null,
      "grid_row": null,
      "grid_template_areas": null,
      "grid_template_columns": null,
      "grid_template_rows": null,
      "height": null,
      "justify_content": null,
      "justify_items": null,
      "left": null,
      "margin": null,
      "max_height": null,
      "max_width": null,
      "min_height": null,
      "min_width": null,
      "object_fit": null,
      "object_position": null,
      "order": null,
      "overflow": null,
      "overflow_x": null,
      "overflow_y": null,
      "padding": null,
      "right": null,
      "top": null,
      "visibility": null,
      "width": null
     }
    },
    "13eacad0b7a24a7a8f8876d82f71c3d8": {
     "model_module": "@jupyter-widgets/controls",
     "model_module_version": "1.5.0",
     "model_name": "DescriptionStyleModel",
     "state": {
      "_model_module": "@jupyter-widgets/controls",
      "_model_module_version": "1.5.0",
      "_model_name": "DescriptionStyleModel",
      "_view_count": null,
      "_view_module": "@jupyter-widgets/base",
      "_view_module_version": "1.2.0",
      "_view_name": "StyleView",
      "description_width": ""
     }
    },
    "224f506f7dc147ffa9ead8f91359b767": {
     "model_module": "@jupyter-widgets/base",
     "model_module_version": "1.2.0",
     "model_name": "LayoutModel",
     "state": {
      "_model_module": "@jupyter-widgets/base",
      "_model_module_version": "1.2.0",
      "_model_name": "LayoutModel",
      "_view_count": null,
      "_view_module": "@jupyter-widgets/base",
      "_view_module_version": "1.2.0",
      "_view_name": "LayoutView",
      "align_content": null,
      "align_items": null,
      "align_self": null,
      "border": null,
      "bottom": null,
      "display": null,
      "flex": null,
      "flex_flow": null,
      "grid_area": null,
      "grid_auto_columns": null,
      "grid_auto_flow": null,
      "grid_auto_rows": null,
      "grid_column": null,
      "grid_gap": null,
      "grid_row": null,
      "grid_template_areas": null,
      "grid_template_columns": null,
      "grid_template_rows": null,
      "height": null,
      "justify_content": null,
      "justify_items": null,
      "left": null,
      "margin": null,
      "max_height": null,
      "max_width": null,
      "min_height": null,
      "min_width": null,
      "object_fit": null,
      "object_position": null,
      "order": null,
      "overflow": null,
      "overflow_x": null,
      "overflow_y": null,
      "padding": null,
      "right": null,
      "top": null,
      "visibility": "hidden",
      "width": null
     }
    },
    "411b4ee299d042b4be553b1f29c6bd6c": {
     "model_module": "@jupyter-widgets/controls",
     "model_module_version": "1.5.0",
     "model_name": "HTMLModel",
     "state": {
      "_dom_classes": [],
      "_model_module": "@jupyter-widgets/controls",
      "_model_module_version": "1.5.0",
      "_model_name": "HTMLModel",
      "_view_count": null,
      "_view_module": "@jupyter-widgets/controls",
      "_view_module_version": "1.5.0",
      "_view_name": "HTMLView",
      "description": "",
      "description_tooltip": null,
      "layout": "IPY_MODEL_94d62db1c2954fe78ea268f09eabd8ef",
      "placeholder": "​",
      "style": "IPY_MODEL_13eacad0b7a24a7a8f8876d82f71c3d8",
      "value": " 81/81 [05:04&lt;00:00,  2.20s/it]"
     }
    },
    "6feb0429c7c64258ab320153b9b35db3": {
     "model_module": "@jupyter-widgets/base",
     "model_module_version": "1.2.0",
     "model_name": "LayoutModel",
     "state": {
      "_model_module": "@jupyter-widgets/base",
      "_model_module_version": "1.2.0",
      "_model_name": "LayoutModel",
      "_view_count": null,
      "_view_module": "@jupyter-widgets/base",
      "_view_module_version": "1.2.0",
      "_view_name": "LayoutView",
      "align_content": null,
      "align_items": null,
      "align_self": null,
      "border": null,
      "bottom": null,
      "display": null,
      "flex": null,
      "flex_flow": null,
      "grid_area": null,
      "grid_auto_columns": null,
      "grid_auto_flow": null,
      "grid_auto_rows": null,
      "grid_column": null,
      "grid_gap": null,
      "grid_row": null,
      "grid_template_areas": null,
      "grid_template_columns": null,
      "grid_template_rows": null,
      "height": null,
      "justify_content": null,
      "justify_items": null,
      "left": null,
      "margin": null,
      "max_height": null,
      "max_width": null,
      "min_height": null,
      "min_width": null,
      "object_fit": null,
      "object_position": null,
      "order": null,
      "overflow": null,
      "overflow_x": null,
      "overflow_y": null,
      "padding": null,
      "right": null,
      "top": null,
      "visibility": null,
      "width": null
     }
    },
    "8bfa72e702594596960e7737cdd38ac2": {
     "model_module": "@jupyter-widgets/controls",
     "model_module_version": "1.5.0",
     "model_name": "FloatProgressModel",
     "state": {
      "_dom_classes": [],
      "_model_module": "@jupyter-widgets/controls",
      "_model_module_version": "1.5.0",
      "_model_name": "FloatProgressModel",
      "_view_count": null,
      "_view_module": "@jupyter-widgets/controls",
      "_view_module_version": "1.5.0",
      "_view_name": "ProgressView",
      "bar_style": "",
      "description": "",
      "description_tooltip": null,
      "layout": "IPY_MODEL_0710088cfaa241d9b9ae1ce7247d7c8a",
      "max": 81,
      "min": 0,
      "orientation": "horizontal",
      "style": "IPY_MODEL_dd74afae0bb741a0b070ae1b7f3e97cd",
      "value": 81
     }
    },
    "94d62db1c2954fe78ea268f09eabd8ef": {
     "model_module": "@jupyter-widgets/base",
     "model_module_version": "1.2.0",
     "model_name": "LayoutModel",
     "state": {
      "_model_module": "@jupyter-widgets/base",
      "_model_module_version": "1.2.0",
      "_model_name": "LayoutModel",
      "_view_count": null,
      "_view_module": "@jupyter-widgets/base",
      "_view_module_version": "1.2.0",
      "_view_name": "LayoutView",
      "align_content": null,
      "align_items": null,
      "align_self": null,
      "border": null,
      "bottom": null,
      "display": null,
      "flex": null,
      "flex_flow": null,
      "grid_area": null,
      "grid_auto_columns": null,
      "grid_auto_flow": null,
      "grid_auto_rows": null,
      "grid_column": null,
      "grid_gap": null,
      "grid_row": null,
      "grid_template_areas": null,
      "grid_template_columns": null,
      "grid_template_rows": null,
      "height": null,
      "justify_content": null,
      "justify_items": null,
      "left": null,
      "margin": null,
      "max_height": null,
      "max_width": null,
      "min_height": null,
      "min_width": null,
      "object_fit": null,
      "object_position": null,
      "order": null,
      "overflow": null,
      "overflow_x": null,
      "overflow_y": null,
      "padding": null,
      "right": null,
      "top": null,
      "visibility": null,
      "width": null
     }
    },
    "9f6a0d70dd984163bcaaaae40481a332": {
     "model_module": "@jupyter-widgets/controls",
     "model_module_version": "1.5.0",
     "model_name": "HBoxModel",
     "state": {
      "_dom_classes": [],
      "_model_module": "@jupyter-widgets/controls",
      "_model_module_version": "1.5.0",
      "_model_name": "HBoxModel",
      "_view_count": null,
      "_view_module": "@jupyter-widgets/controls",
      "_view_module_version": "1.5.0",
      "_view_name": "HBoxView",
      "box_style": "",
      "children": [
       "IPY_MODEL_002903aaec094fc593599e543639d0bf",
       "IPY_MODEL_8bfa72e702594596960e7737cdd38ac2",
       "IPY_MODEL_411b4ee299d042b4be553b1f29c6bd6c"
      ],
      "layout": "IPY_MODEL_224f506f7dc147ffa9ead8f91359b767"
     }
    },
    "a532da16817447f6865bc183b3f8984c": {
     "model_module": "@jupyter-widgets/controls",
     "model_module_version": "1.5.0",
     "model_name": "DescriptionStyleModel",
     "state": {
      "_model_module": "@jupyter-widgets/controls",
      "_model_module_version": "1.5.0",
      "_model_name": "DescriptionStyleModel",
      "_view_count": null,
      "_view_module": "@jupyter-widgets/base",
      "_view_module_version": "1.2.0",
      "_view_name": "StyleView",
      "description_width": ""
     }
    },
    "dd74afae0bb741a0b070ae1b7f3e97cd": {
     "model_module": "@jupyter-widgets/controls",
     "model_module_version": "1.5.0",
     "model_name": "ProgressStyleModel",
     "state": {
      "_model_module": "@jupyter-widgets/controls",
      "_model_module_version": "1.5.0",
      "_model_name": "ProgressStyleModel",
      "_view_count": null,
      "_view_module": "@jupyter-widgets/base",
      "_view_module_version": "1.2.0",
      "_view_name": "StyleView",
      "bar_color": null,
      "description_width": ""
     }
    }
   }
  }
 },
 "nbformat": 4,
 "nbformat_minor": 5
}
