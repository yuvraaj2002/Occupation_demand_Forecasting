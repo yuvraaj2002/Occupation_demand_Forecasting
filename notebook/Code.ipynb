{
 "cells": [
  {
   "cell_type": "markdown",
   "id": "71e944cb-dbf0-4d7e-a799-cc1f52eedb40",
   "metadata": {
    "id": "71e944cb-dbf0-4d7e-a799-cc1f52eedb40"
   },
   "source": [
    "### Importing the libraries"
   ]
  },
  {
   "cell_type": "code",
   "source": [
    "#!pip install category_encoders\n",
    "#!pip install pycaret\n",
    "#!pip install optuna"
   ],
   "metadata": {
    "id": "1QhMqOo6-q1s"
   },
   "id": "1QhMqOo6-q1s",
   "execution_count": 93,
   "outputs": []
  },
  {
   "cell_type": "code",
   "execution_count": 94,
   "id": "c460d496-d30d-4d83-99dd-ff2d520678ff",
   "metadata": {
    "colab": {
     "base_uri": "https://localhost:8080/"
    },
    "id": "c460d496-d30d-4d83-99dd-ff2d520678ff",
    "outputId": "cca0db32-0b00-4abb-fc1b-ac45d069335b"
   },
   "outputs": [
    {
     "output_type": "stream",
     "name": "stdout",
     "text": [
      "Everything imported succesfully !\n"
     ]
    }
   ],
   "source": [
    "# For data manipulation and processing\n",
    "import pandas as pd\n",
    "import numpy as np\n",
    "import matplotlib.pyplot as plt\n",
    "import seaborn as sns\n",
    "import missingno as msno\n",
    "\n",
    "# For data processing\n",
    "from sklearn.preprocessing import RobustScaler\n",
    "import category_encoders as ce\n",
    "from sklearn.model_selection import train_test_split\n",
    "\n",
    "# For creating pipeline\n",
    "from sklearn.pipeline import Pipeline\n",
    "from sklearn.compose import ColumnTransformer\n",
    "from sklearn.preprocessing import FunctionTransformer\n",
    "\n",
    "# For model training\n",
    "import tensorflow as tf\n",
    "import tensorflow_hub as hub\n",
    "from sklearn.ensemble import RandomForestRegressor\n",
    "from pycaret.regression import (\n",
    "    setup,\n",
    "    compare_models,\n",
    "    evaluate_model,\n",
    "    predict_model,\n",
    "    save_model,\n",
    "    load_model,\n",
    "    models,\n",
    ")\n",
    "\n",
    "# For hyper-parameter optimizatin\n",
    "import optuna\n",
    "\n",
    "print(\"Everything imported succesfully !\")"
   ]
  },
  {
   "cell_type": "markdown",
   "id": "72c9a2b6-6e1a-4517-ab34-b037683e3828",
   "metadata": {
    "id": "72c9a2b6-6e1a-4517-ab34-b037683e3828"
   },
   "source": [
    "## Loading the data from csv file\n",
    "\n",
    "- State FIPS: The Federal Information Processing Standards (FIPS) code for the state where the data pertains. It provides a unique identifier for each state in the dataset.\n",
    "- Area Name: The name of the area or state specified by the State FIPS code. It represents the geographical region to which the occupational employment growth projections apply.\n",
    "- Occupation Code: The code representing a specific occupation. It follows a standardized classification system (such as the Standard Occupational Classification - SOC) and uniquely identifies each occupation in the dataset.\n",
    "- Occupation Name: The name or title of the occupation. It provides a descriptive label for each occupation specified by the Occupation Code.\n",
    "- Base Year: The year for which the initial employment data is recorded or considered as the baseline. It represents the starting point for analyzing employment growth.\n",
    "- Base: The number of employed individuals in the specified occupation during the Base Year. It represents the initial employment count for each occupation.\n",
    "- Projected Year: The year for which the employment growth projection is made. It represents the future time point at which the projected employment numbers apply.\n",
    "- Projection: The projected number of employed individuals in the specified occupation during the Projected Year. It represents the estimated employment count after the projected growth or change.\n",
    "- Change: The absolute change in employment count between the Base Year and the Projected Year. It indicates the difference in the number of employed individuals for a specific occupation over the projection period.\n",
    "- Percent Change: The percentage change in employment count between the Base Year and the Projected Year. It represents the relative growth or decline in employment for a particular occupation.\n",
    "- Average Annual Openings: The average number of annual job openings expected for the specified occupation. It provides an estimate of the employment opportunities available each year due to factors like growth and replacement needs.d replacement needs."
   ]
  },
  {
   "cell_type": "code",
   "execution_count": 36,
   "id": "c181d132-5440-4349-844b-79d9fde9e00d",
   "metadata": {
    "id": "c181d132-5440-4349-844b-79d9fde9e00d"
   },
   "outputs": [],
   "source": [
    "# Let's load the data and explore it\n",
    "df = pd.read_csv(\"/content/dataset.csv\")"
   ]
  },
  {
   "cell_type": "markdown",
   "id": "db501b2f-642f-4e32-b46a-7e00fa7571b8",
   "metadata": {
    "id": "db501b2f-642f-4e32-b46a-7e00fa7571b8"
   },
   "source": [
    "### Exploratory data analysis ( Part 1 )s."
   ]
  },
  {
   "cell_type": "code",
   "execution_count": 37,
   "id": "bc6ab326-12e1-435c-9aa6-27479830bbf9",
   "metadata": {
    "colab": {
     "base_uri": "https://localhost:8080/"
    },
    "id": "bc6ab326-12e1-435c-9aa6-27479830bbf9",
    "outputId": "cb4ba39c-b283-4a8f-a588-d0f8847626d6"
   },
   "outputs": [
    {
     "output_type": "stream",
     "name": "stdout",
     "text": [
      "Shape of the dataframe :  (34982, 11)\n"
     ]
    }
   ],
   "source": [
    "# Let's check the shape of the dataset\n",
    "print(\"Shape of the dataframe : \", df.shape)"
   ]
  },
  {
   "cell_type": "code",
   "execution_count": 38,
   "id": "dc379ac8-72ab-467f-b5ba-d6884653cfa6",
   "metadata": {
    "colab": {
     "base_uri": "https://localhost:8080/",
     "height": 288
    },
    "id": "dc379ac8-72ab-467f-b5ba-d6884653cfa6",
    "outputId": "926248d0-d5d0-433e-fe22-362751fa4811"
   },
   "outputs": [
    {
     "output_type": "execute_result",
     "data": {
      "text/plain": [
       "       State FIPS     Area Name Occupation Code  \\\n",
       "3951            6    California         43-4141   \n",
       "28746          47     Tennessee         43-4171   \n",
       "34709          72   Puerto Rico         43-4161   \n",
       "26445          42  Pennsylvania         51-4041   \n",
       "\n",
       "                                         Occupation Name  Base Year   Base  \\\n",
       "3951                                 New Accounts Clerks       2014   5500   \n",
       "28746               Receptionists and Information Clerks       2014  20190   \n",
       "34709  Human Resources Assistants, Except Payroll and...       2014   1580   \n",
       "26445                                         Machinists       2014  19830   \n",
       "\n",
       "       Projected Year  Projection  Change  Percent Change  \\\n",
       "3951             2024        4200   -1300           -23.6   \n",
       "28746            2024       24050    3860            19.2   \n",
       "34709            2024        1470    -110            -6.7   \n",
       "26445            2024       22230    2400            12.1   \n",
       "\n",
       "       Average Annual Openings  \n",
       "3951                       130  \n",
       "28746                      930  \n",
       "34709                       20  \n",
       "26445                      810  "
      ],
      "text/html": [
       "\n",
       "\n",
       "  <div id=\"df-be89624a-4320-458d-9ec1-be7b33fa0008\">\n",
       "    <div class=\"colab-df-container\">\n",
       "      <div>\n",
       "<style scoped>\n",
       "    .dataframe tbody tr th:only-of-type {\n",
       "        vertical-align: middle;\n",
       "    }\n",
       "\n",
       "    .dataframe tbody tr th {\n",
       "        vertical-align: top;\n",
       "    }\n",
       "\n",
       "    .dataframe thead th {\n",
       "        text-align: right;\n",
       "    }\n",
       "</style>\n",
       "<table border=\"1\" class=\"dataframe\">\n",
       "  <thead>\n",
       "    <tr style=\"text-align: right;\">\n",
       "      <th></th>\n",
       "      <th>State FIPS</th>\n",
       "      <th>Area Name</th>\n",
       "      <th>Occupation Code</th>\n",
       "      <th>Occupation Name</th>\n",
       "      <th>Base Year</th>\n",
       "      <th>Base</th>\n",
       "      <th>Projected Year</th>\n",
       "      <th>Projection</th>\n",
       "      <th>Change</th>\n",
       "      <th>Percent Change</th>\n",
       "      <th>Average Annual Openings</th>\n",
       "    </tr>\n",
       "  </thead>\n",
       "  <tbody>\n",
       "    <tr>\n",
       "      <th>3951</th>\n",
       "      <td>6</td>\n",
       "      <td>California</td>\n",
       "      <td>43-4141</td>\n",
       "      <td>New Accounts Clerks</td>\n",
       "      <td>2014</td>\n",
       "      <td>5500</td>\n",
       "      <td>2024</td>\n",
       "      <td>4200</td>\n",
       "      <td>-1300</td>\n",
       "      <td>-23.6</td>\n",
       "      <td>130</td>\n",
       "    </tr>\n",
       "    <tr>\n",
       "      <th>28746</th>\n",
       "      <td>47</td>\n",
       "      <td>Tennessee</td>\n",
       "      <td>43-4171</td>\n",
       "      <td>Receptionists and Information Clerks</td>\n",
       "      <td>2014</td>\n",
       "      <td>20190</td>\n",
       "      <td>2024</td>\n",
       "      <td>24050</td>\n",
       "      <td>3860</td>\n",
       "      <td>19.2</td>\n",
       "      <td>930</td>\n",
       "    </tr>\n",
       "    <tr>\n",
       "      <th>34709</th>\n",
       "      <td>72</td>\n",
       "      <td>Puerto Rico</td>\n",
       "      <td>43-4161</td>\n",
       "      <td>Human Resources Assistants, Except Payroll and...</td>\n",
       "      <td>2014</td>\n",
       "      <td>1580</td>\n",
       "      <td>2024</td>\n",
       "      <td>1470</td>\n",
       "      <td>-110</td>\n",
       "      <td>-6.7</td>\n",
       "      <td>20</td>\n",
       "    </tr>\n",
       "    <tr>\n",
       "      <th>26445</th>\n",
       "      <td>42</td>\n",
       "      <td>Pennsylvania</td>\n",
       "      <td>51-4041</td>\n",
       "      <td>Machinists</td>\n",
       "      <td>2014</td>\n",
       "      <td>19830</td>\n",
       "      <td>2024</td>\n",
       "      <td>22230</td>\n",
       "      <td>2400</td>\n",
       "      <td>12.1</td>\n",
       "      <td>810</td>\n",
       "    </tr>\n",
       "  </tbody>\n",
       "</table>\n",
       "</div>\n",
       "      <button class=\"colab-df-convert\" onclick=\"convertToInteractive('df-be89624a-4320-458d-9ec1-be7b33fa0008')\"\n",
       "              title=\"Convert this dataframe to an interactive table.\"\n",
       "              style=\"display:none;\">\n",
       "\n",
       "  <svg xmlns=\"http://www.w3.org/2000/svg\" height=\"24px\"viewBox=\"0 0 24 24\"\n",
       "       width=\"24px\">\n",
       "    <path d=\"M0 0h24v24H0V0z\" fill=\"none\"/>\n",
       "    <path d=\"M18.56 5.44l.94 2.06.94-2.06 2.06-.94-2.06-.94-.94-2.06-.94 2.06-2.06.94zm-11 1L8.5 8.5l.94-2.06 2.06-.94-2.06-.94L8.5 2.5l-.94 2.06-2.06.94zm10 10l.94 2.06.94-2.06 2.06-.94-2.06-.94-.94-2.06-.94 2.06-2.06.94z\"/><path d=\"M17.41 7.96l-1.37-1.37c-.4-.4-.92-.59-1.43-.59-.52 0-1.04.2-1.43.59L10.3 9.45l-7.72 7.72c-.78.78-.78 2.05 0 2.83L4 21.41c.39.39.9.59 1.41.59.51 0 1.02-.2 1.41-.59l7.78-7.78 2.81-2.81c.8-.78.8-2.07 0-2.86zM5.41 20L4 18.59l7.72-7.72 1.47 1.35L5.41 20z\"/>\n",
       "  </svg>\n",
       "      </button>\n",
       "\n",
       "\n",
       "\n",
       "    <div id=\"df-50964ffa-6fdc-4a2f-b679-08cbc32af903\">\n",
       "      <button class=\"colab-df-quickchart\" onclick=\"quickchart('df-50964ffa-6fdc-4a2f-b679-08cbc32af903')\"\n",
       "              title=\"Suggest charts.\"\n",
       "              style=\"display:none;\">\n",
       "\n",
       "<svg xmlns=\"http://www.w3.org/2000/svg\" height=\"24px\"viewBox=\"0 0 24 24\"\n",
       "     width=\"24px\">\n",
       "    <g>\n",
       "        <path d=\"M19 3H5c-1.1 0-2 .9-2 2v14c0 1.1.9 2 2 2h14c1.1 0 2-.9 2-2V5c0-1.1-.9-2-2-2zM9 17H7v-7h2v7zm4 0h-2V7h2v10zm4 0h-2v-4h2v4z\"/>\n",
       "    </g>\n",
       "</svg>\n",
       "      </button>\n",
       "    </div>\n",
       "\n",
       "<style>\n",
       "  .colab-df-quickchart {\n",
       "    background-color: #E8F0FE;\n",
       "    border: none;\n",
       "    border-radius: 50%;\n",
       "    cursor: pointer;\n",
       "    display: none;\n",
       "    fill: #1967D2;\n",
       "    height: 32px;\n",
       "    padding: 0 0 0 0;\n",
       "    width: 32px;\n",
       "  }\n",
       "\n",
       "  .colab-df-quickchart:hover {\n",
       "    background-color: #E2EBFA;\n",
       "    box-shadow: 0px 1px 2px rgba(60, 64, 67, 0.3), 0px 1px 3px 1px rgba(60, 64, 67, 0.15);\n",
       "    fill: #174EA6;\n",
       "  }\n",
       "\n",
       "  [theme=dark] .colab-df-quickchart {\n",
       "    background-color: #3B4455;\n",
       "    fill: #D2E3FC;\n",
       "  }\n",
       "\n",
       "  [theme=dark] .colab-df-quickchart:hover {\n",
       "    background-color: #434B5C;\n",
       "    box-shadow: 0px 1px 3px 1px rgba(0, 0, 0, 0.15);\n",
       "    filter: drop-shadow(0px 1px 2px rgba(0, 0, 0, 0.3));\n",
       "    fill: #FFFFFF;\n",
       "  }\n",
       "</style>\n",
       "\n",
       "    <script>\n",
       "      async function quickchart(key) {\n",
       "        const containerElement = document.querySelector('#' + key);\n",
       "        const charts = await google.colab.kernel.invokeFunction(\n",
       "            'suggestCharts', [key], {});\n",
       "      }\n",
       "    </script>\n",
       "\n",
       "      <script>\n",
       "\n",
       "function displayQuickchartButton(domScope) {\n",
       "  let quickchartButtonEl =\n",
       "    domScope.querySelector('#df-50964ffa-6fdc-4a2f-b679-08cbc32af903 button.colab-df-quickchart');\n",
       "  quickchartButtonEl.style.display =\n",
       "    google.colab.kernel.accessAllowed ? 'block' : 'none';\n",
       "}\n",
       "\n",
       "        displayQuickchartButton(document);\n",
       "      </script>\n",
       "      <style>\n",
       "    .colab-df-container {\n",
       "      display:flex;\n",
       "      flex-wrap:wrap;\n",
       "      gap: 12px;\n",
       "    }\n",
       "\n",
       "    .colab-df-convert {\n",
       "      background-color: #E8F0FE;\n",
       "      border: none;\n",
       "      border-radius: 50%;\n",
       "      cursor: pointer;\n",
       "      display: none;\n",
       "      fill: #1967D2;\n",
       "      height: 32px;\n",
       "      padding: 0 0 0 0;\n",
       "      width: 32px;\n",
       "    }\n",
       "\n",
       "    .colab-df-convert:hover {\n",
       "      background-color: #E2EBFA;\n",
       "      box-shadow: 0px 1px 2px rgba(60, 64, 67, 0.3), 0px 1px 3px 1px rgba(60, 64, 67, 0.15);\n",
       "      fill: #174EA6;\n",
       "    }\n",
       "\n",
       "    [theme=dark] .colab-df-convert {\n",
       "      background-color: #3B4455;\n",
       "      fill: #D2E3FC;\n",
       "    }\n",
       "\n",
       "    [theme=dark] .colab-df-convert:hover {\n",
       "      background-color: #434B5C;\n",
       "      box-shadow: 0px 1px 3px 1px rgba(0, 0, 0, 0.15);\n",
       "      filter: drop-shadow(0px 1px 2px rgba(0, 0, 0, 0.3));\n",
       "      fill: #FFFFFF;\n",
       "    }\n",
       "  </style>\n",
       "\n",
       "      <script>\n",
       "        const buttonEl =\n",
       "          document.querySelector('#df-be89624a-4320-458d-9ec1-be7b33fa0008 button.colab-df-convert');\n",
       "        buttonEl.style.display =\n",
       "          google.colab.kernel.accessAllowed ? 'block' : 'none';\n",
       "\n",
       "        async function convertToInteractive(key) {\n",
       "          const element = document.querySelector('#df-be89624a-4320-458d-9ec1-be7b33fa0008');\n",
       "          const dataTable =\n",
       "            await google.colab.kernel.invokeFunction('convertToInteractive',\n",
       "                                                     [key], {});\n",
       "          if (!dataTable) return;\n",
       "\n",
       "          const docLinkHtml = 'Like what you see? Visit the ' +\n",
       "            '<a target=\"_blank\" href=https://colab.research.google.com/notebooks/data_table.ipynb>data table notebook</a>'\n",
       "            + ' to learn more about interactive tables.';\n",
       "          element.innerHTML = '';\n",
       "          dataTable['output_type'] = 'display_data';\n",
       "          await google.colab.output.renderOutput(dataTable, element);\n",
       "          const docLink = document.createElement('div');\n",
       "          docLink.innerHTML = docLinkHtml;\n",
       "          element.appendChild(docLink);\n",
       "        }\n",
       "      </script>\n",
       "    </div>\n",
       "  </div>\n"
      ]
     },
     "metadata": {},
     "execution_count": 38
    }
   ],
   "source": [
    "# Let's check any 4 random rows from the dataset\n",
    "df.sample(4)"
   ]
  },
  {
   "cell_type": "code",
   "execution_count": 39,
   "id": "e5755d46-45e7-4b3e-9093-dcd285b38b9b",
   "metadata": {
    "colab": {
     "base_uri": "https://localhost:8080/"
    },
    "id": "e5755d46-45e7-4b3e-9093-dcd285b38b9b",
    "outputId": "07c7bda4-d628-449d-ddc8-cba29b6412ea"
   },
   "outputs": [
    {
     "output_type": "stream",
     "name": "stdout",
     "text": [
      "<class 'pandas.core.frame.DataFrame'>\n",
      "RangeIndex: 34982 entries, 0 to 34981\n",
      "Data columns (total 11 columns):\n",
      " #   Column                   Non-Null Count  Dtype  \n",
      "---  ------                   --------------  -----  \n",
      " 0   State FIPS               34982 non-null  int64  \n",
      " 1   Area Name                34982 non-null  object \n",
      " 2   Occupation Code          34982 non-null  object \n",
      " 3   Occupation Name          34982 non-null  object \n",
      " 4   Base Year                34982 non-null  int64  \n",
      " 5   Base                     34982 non-null  int64  \n",
      " 6   Projected Year           34982 non-null  int64  \n",
      " 7   Projection               34982 non-null  int64  \n",
      " 8   Change                   34982 non-null  int64  \n",
      " 9   Percent Change           34982 non-null  float64\n",
      " 10  Average Annual Openings  34982 non-null  int64  \n",
      "dtypes: float64(1), int64(7), object(3)\n",
      "memory usage: 2.9+ MB\n"
     ]
    }
   ],
   "source": [
    "# Let's get some more basic infomraiton about data\n",
    "df.info()"
   ]
  },
  {
   "cell_type": "code",
   "execution_count": 40,
   "id": "50cc33d3-5db6-4abd-884b-ed537dbd3c98",
   "metadata": {
    "id": "50cc33d3-5db6-4abd-884b-ed537dbd3c98"
   },
   "outputs": [],
   "source": [
    "int_cols = df.select_dtypes(include=np.int64)\n",
    "float_cols = df.select_dtypes(include=np.float64)\n",
    "\n",
    "# Changing the datatype from int43 or float64 to int32 or float32\n",
    "df[int_cols.columns] = df[int_cols.columns].astype(np.int32)\n",
    "df[float_cols.columns] = df[float_cols.columns].astype(np.float32)"
   ]
  },
  {
   "cell_type": "markdown",
   "id": "24ae1608-eefc-4e75-bc34-b55505595b20",
   "metadata": {
    "id": "24ae1608-eefc-4e75-bc34-b55505595b20"
   },
   "source": [
    "- Before memory usage : 2.9mb\n",
    "- After memory usage : 1.9mb"
   ]
  },
  {
   "cell_type": "code",
   "execution_count": 41,
   "id": "ed4b13d3-e979-43ea-a790-4cb364f1091f",
   "metadata": {
    "colab": {
     "base_uri": "https://localhost:8080/"
    },
    "id": "ed4b13d3-e979-43ea-a790-4cb364f1091f",
    "outputId": "0edbe9cd-f0b2-44ce-a116-a9f4a31d5a3c"
   },
   "outputs": [
    {
     "output_type": "stream",
     "name": "stdout",
     "text": [
      "Duplicate values :  0\n"
     ]
    }
   ],
   "source": [
    "# Checking if there are any duplicated values\n",
    "print(\"Duplicate values : \", df.duplicated().sum())"
   ]
  },
  {
   "cell_type": "code",
   "execution_count": 42,
   "id": "a8b1024a-9e43-4f1a-af5b-99b46a34747f",
   "metadata": {
    "colab": {
     "base_uri": "https://localhost:8080/",
     "height": 645
    },
    "id": "a8b1024a-9e43-4f1a-af5b-99b46a34747f",
    "outputId": "cb3e9a1d-9bb1-42af-8f70-b88ae7af1b71"
   },
   "outputs": [
    {
     "output_type": "stream",
     "name": "stdout",
     "text": [
      "State FIPS                 0.0\n",
      "Area Name                  0.0\n",
      "Occupation Code            0.0\n",
      "Occupation Name            0.0\n",
      "Base Year                  0.0\n",
      "Base                       0.0\n",
      "Projected Year             0.0\n",
      "Projection                 0.0\n",
      "Change                     0.0\n",
      "Percent Change             0.0\n",
      "Average Annual Openings    0.0\n",
      "dtype: float64\n"
     ]
    },
    {
     "output_type": "display_data",
     "data": {
      "text/plain": [
       "<Figure size 1500x300 with 3 Axes>"
      ],
      "image/png": "[encoded data removed]"
     },
     "metadata": {}
    }
   ],
   "source": [
    "# Percentage of missing values\n",
    "print(df.isnull().mean() * 100)\n",
    "\n",
    "# Visualize missing values using a bar chart\n",
    "msno.bar(df, figsize=(15, 3), color=\"dodgerblue\", sort=\"ascending\", fontsize=12)\n",
    "plt.show()"
   ]
  },
  {
   "cell_type": "code",
   "execution_count": 43,
   "id": "c931d09c-e3ed-47e9-92ae-351216cb7885",
   "metadata": {
    "id": "c931d09c-e3ed-47e9-92ae-351216cb7885"
   },
   "outputs": [],
   "source": [
    "# Removing all the rows from dataframe which are summary every area name\n",
    "df.drop(df[df[\"Occupation Name\"] == \"Total, All Occupations\"].index, inplace=True)"
   ]
  },
  {
   "cell_type": "code",
   "execution_count": 44,
   "id": "12eb0831-300b-4d3c-a39e-62a2fc243382",
   "metadata": {
    "colab": {
     "base_uri": "https://localhost:8080/",
     "height": 480
    },
    "id": "12eb0831-300b-4d3c-a39e-62a2fc243382",
    "outputId": "1d1f5a00-52f6-4b96-820b-ba40f32c23fe"
   },
   "outputs": [
    {
     "output_type": "display_data",
     "data": {
      "text/plain": [
       "<Figure size 1500x400 with 1 Axes>"
      ],
      "image/png": "[encoded data removed]"
     },
     "metadata": {}
    }
   ],
   "source": [
    "plt.figure(figsize=(15, 4))\n",
    "\n",
    "# Plotting a bar plot to see data distribution across area names\n",
    "ax = sns.barplot(\n",
    "    y=df[\"Area Name\"].value_counts().values, x=df[\"Area Name\"].value_counts().index\n",
    ")\n",
    "\n",
    "# Rotate the x-axis labels vertically\n",
    "ax.set_xticklabels(ax.get_xticklabels(), rotation=90)\n",
    "\n",
    "plt.xlabel(\"Area Name\")\n",
    "plt.ylabel(\"Count\")\n",
    "plt.title(\"Barplot of Area Names\")\n",
    "plt.show()"
   ]
  },
  {
   "cell_type": "code",
   "execution_count": 45,
   "id": "3b66fd8e-7d69-4b43-b9de-04e59a06de3b",
   "metadata": {
    "colab": {
     "base_uri": "https://localhost:8080/",
     "height": 286
    },
    "id": "3b66fd8e-7d69-4b43-b9de-04e59a06de3b",
    "outputId": "ce527516-0c39-42f7-f72b-b541594b303e"
   },
   "outputs": [
    {
     "output_type": "display_data",
     "data": {
      "text/plain": [
       "<Figure size 1500x300 with 3 Axes>"
      ],
      "image/png": "[encoded data removed]"
     },
     "metadata": {}
    }
   ],
   "source": [
    "# Let's see if there are any outliers\n",
    "fig, ax = plt.subplots(1, 3, figsize=(15, 3))\n",
    "\n",
    "sns.boxplot(x=df[\"Base\"], ax=ax[0])\n",
    "sns.boxplot(x=df[\"Projection\"], ax=ax[1])\n",
    "sns.boxplot(x=df[\"Average Annual Openings\"], ax=ax[2])\n",
    "\n",
    "plt.show()"
   ]
  },
  {
   "cell_type": "code",
   "execution_count": 46,
   "id": "8fbc4354-3abb-44f9-92be-35717463e6aa",
   "metadata": {
    "colab": {
     "base_uri": "https://localhost:8080/"
    },
    "id": "8fbc4354-3abb-44f9-92be-35717463e6aa",
    "outputId": "82b5f104-da7e-4d47-f715-351f9b648f05"
   },
   "outputs": [
    {
     "output_type": "stream",
     "name": "stdout",
     "text": [
      "Total unique occupations are : 819\n"
     ]
    }
   ],
   "source": [
    "print(\"Total unique occupations are :\", len(df[\"Occupation Name\"].unique()))"
   ]
  },
  {
   "cell_type": "markdown",
   "id": "8b01121a-3b85-4142-88db-524acba4d6aa",
   "metadata": {
    "id": "8b01121a-3b85-4142-88db-524acba4d6aa"
   },
   "source": [
    "### Data processing\n",
    "\n",
    "In this phase we only need to do the following things\n",
    "\n",
    "- Drop unecessary columns\n",
    "- Train test and validation split\n",
    "- Encode the categorical data\n",
    "- Scale the feature values"
   ]
  },
  {
   "cell_type": "code",
   "execution_count": 48,
   "id": "907bcc95-2f6a-415c-b547-58995799b69f",
   "metadata": {
    "id": "907bcc95-2f6a-415c-b547-58995799b69f"
   },
   "outputs": [],
   "source": [
    "# Removing the columns from the dataset\n",
    "df.drop(\n",
    "    [\"State FIPS\", \"Occupation Code\", \"Projected Year\", \"Base Year\"],\n",
    "    axis=1,\n",
    "    inplace=True,\n",
    ")"
   ]
  },
  {
   "cell_type": "code",
   "execution_count": 49,
   "id": "b99ca40f-0d40-4447-b789-1a68cc2fd284",
   "metadata": {
    "colab": {
     "base_uri": "https://localhost:8080/",
     "height": 557
    },
    "id": "b99ca40f-0d40-4447-b789-1a68cc2fd284",
    "outputId": "ef04a915-594f-4264-df91-14da8ec5921c"
   },
   "outputs": [
    {
     "output_type": "execute_result",
     "data": {
      "text/plain": [
       "<Axes: >"
      ]
     },
     "metadata": {},
     "execution_count": 49
    },
    {
     "output_type": "display_data",
     "data": {
      "text/plain": [
       "<Figure size 1000x400 with 2 Axes>"
      ],
      "image/png": "[encoded data removed]"
     },
     "metadata": {}
    }
   ],
   "source": [
    "# Let's see the correlation\n",
    "plt.figure(figsize=(10, 4))\n",
    "\n",
    "num_df = df[\n",
    "    [\"Base\", \"Projection\", \"Change\", \"Percent Change\", \"Average Annual Openings\"]\n",
    "].copy()\n",
    "sns.heatmap(data=num_df.corr(), annot=True, linewidths=0.5, cmap=\"Blues\")"
   ]
  },
  {
   "cell_type": "code",
   "execution_count": 69,
   "id": "37f49b2c-37cc-41d9-bf9f-70db6cf09b48",
   "metadata": {
    "id": "37f49b2c-37cc-41d9-bf9f-70db6cf09b48"
   },
   "outputs": [],
   "source": [
    "# Seperating the data into train and test datasets\n",
    "X = df.drop([\"Percent Change\"], axis=1)\n",
    "y = df[\"Percent Change\"]\n",
    "\n",
    "# Let's do the train test and validation split 85:15 and then 85:15\n",
    "X_train_Val, X_test, y_train_val, y_test = train_test_split(\n",
    "    X, y, test_size=0.15, random_state=1\n",
    ")\n",
    "X_train, X_val, y_train, y_val = train_test_split(\n",
    "    X_train_Val, y_train_val, test_size=0.1765, random_state=1\n",
    ")"
   ]
  },
  {
   "cell_type": "code",
   "execution_count": 61,
   "id": "9ad8af70-6b34-4364-bc02-6f3762a4b97f",
   "metadata": {
    "colab": {
     "base_uri": "https://localhost:8080/"
    },
    "id": "9ad8af70-6b34-4364-bc02-6f3762a4b97f",
    "outputId": "b4ad8d6d-64e2-46a4-fe5c-d1a1148be4ba"
   },
   "outputs": [
    {
     "output_type": "stream",
     "name": "stdout",
     "text": [
      "Train data :  (24448, 6)\n",
      "Test data :  (5240, 6)\n",
      "Val data :  (5240, 6)\n"
     ]
    }
   ],
   "source": [
    "# Complete dataset = 34982\n",
    "print(\"Train data : \", X_train.shape)\n",
    "print(\"Test data : \", X_val.shape)\n",
    "print(\"Val data : \", X_test.shape)"
   ]
  },
  {
   "cell_type": "markdown",
   "id": "6ae71811-1386-4411-a67d-ad931bd01b38",
   "metadata": {
    "id": "6ae71811-1386-4411-a67d-ad931bd01b38"
   },
   "source": [
    "For the data processing we will create a pipeline but for now let's create a copy of the dataframe and on that copy we will explore all different kind of things and finally we will implemented best techniques on our actual dataset."
   ]
  },
  {
   "cell_type": "code",
   "execution_count": 62,
   "id": "1865fb27-28e9-4a93-b7c0-49e205e3f3fc",
   "metadata": {
    "id": "1865fb27-28e9-4a93-b7c0-49e205e3f3fc"
   },
   "outputs": [],
   "source": [
    "# Creating a copy of dataframe\n",
    "temp_df = X_train.copy()\n",
    "temp_df.reset_index(inplace=True, drop=True)"
   ]
  },
  {
   "cell_type": "code",
   "execution_count": 63,
   "id": "75410b82-8742-45a6-844c-9384781f9a17",
   "metadata": {
    "id": "75410b82-8742-45a6-844c-9384781f9a17"
   },
   "outputs": [],
   "source": [
    "# Intializing the target encoder class\n",
    "Te_Area_name = ce.TargetEncoder(\n",
    "    smoothing=0.2, handle_missing=\"return_nan\", return_df=False\n",
    ")\n",
    "\n",
    "encoded_area_name = pd.Series(\n",
    "    Te_Area_name.fit_transform(\n",
    "        temp_df[\"Area Name\"].values.reshape(-1, 1), y_train\n",
    "    ).reshape(-1)\n",
    ")\n",
    "encoded_area_name.reset_index(inplace=True, drop=True)\n",
    "temp_df[\"Area Name\"] = encoded_area_name"
   ]
  },
  {
   "cell_type": "code",
   "execution_count": 64,
   "id": "cb700683-b0c6-4daa-8216-9355c0c04e5a",
   "metadata": {
    "colab": {
     "base_uri": "https://localhost:8080/",
     "height": 206
    },
    "id": "cb700683-b0c6-4daa-8216-9355c0c04e5a",
    "outputId": "fc764105-2851-4ebf-cca3-ff54cf46fabf"
   },
   "outputs": [
    {
     "output_type": "execute_result",
     "data": {
      "text/plain": [
       "   Area Name      Base  Projection    Change  Average Annual Openings\n",
       "0   0.478885  1.019868    0.945946  0.310345                      0.8\n",
       "1  -0.597050 -0.221854   -0.222222 -0.172414                     -0.2\n",
       "2   1.204897  0.870861    0.882883  1.137931                      0.7\n",
       "3   0.655762 -0.205298   -0.204204 -0.137931                     -0.2\n",
       "4   0.133873 -0.254967   -0.249249 -0.137931                     -0.2"
      ],
      "text/html": [
       "\n",
       "\n",
       "  <div id=\"df-bedd6fa5-0686-4d94-8c62-4bfe2c535c88\">\n",
       "    <div class=\"colab-df-container\">\n",
       "      <div>\n",
       "<style scoped>\n",
       "    .dataframe tbody tr th:only-of-type {\n",
       "        vertical-align: middle;\n",
       "    }\n",
       "\n",
       "    .dataframe tbody tr th {\n",
       "        vertical-align: top;\n",
       "    }\n",
       "\n",
       "    .dataframe thead th {\n",
       "        text-align: right;\n",
       "    }\n",
       "</style>\n",
       "<table border=\"1\" class=\"dataframe\">\n",
       "  <thead>\n",
       "    <tr style=\"text-align: right;\">\n",
       "      <th></th>\n",
       "      <th>Area Name</th>\n",
       "      <th>Base</th>\n",
       "      <th>Projection</th>\n",
       "      <th>Change</th>\n",
       "      <th>Average Annual Openings</th>\n",
       "    </tr>\n",
       "  </thead>\n",
       "  <tbody>\n",
       "    <tr>\n",
       "      <th>0</th>\n",
       "      <td>0.478885</td>\n",
       "      <td>1.019868</td>\n",
       "      <td>0.945946</td>\n",
       "      <td>0.310345</td>\n",
       "      <td>0.8</td>\n",
       "    </tr>\n",
       "    <tr>\n",
       "      <th>1</th>\n",
       "      <td>-0.597050</td>\n",
       "      <td>-0.221854</td>\n",
       "      <td>-0.222222</td>\n",
       "      <td>-0.172414</td>\n",
       "      <td>-0.2</td>\n",
       "    </tr>\n",
       "    <tr>\n",
       "      <th>2</th>\n",
       "      <td>1.204897</td>\n",
       "      <td>0.870861</td>\n",
       "      <td>0.882883</td>\n",
       "      <td>1.137931</td>\n",
       "      <td>0.7</td>\n",
       "    </tr>\n",
       "    <tr>\n",
       "      <th>3</th>\n",
       "      <td>0.655762</td>\n",
       "      <td>-0.205298</td>\n",
       "      <td>-0.204204</td>\n",
       "      <td>-0.137931</td>\n",
       "      <td>-0.2</td>\n",
       "    </tr>\n",
       "    <tr>\n",
       "      <th>4</th>\n",
       "      <td>0.133873</td>\n",
       "      <td>-0.254967</td>\n",
       "      <td>-0.249249</td>\n",
       "      <td>-0.137931</td>\n",
       "      <td>-0.2</td>\n",
       "    </tr>\n",
       "  </tbody>\n",
       "</table>\n",
       "</div>\n",
       "      <button class=\"colab-df-convert\" onclick=\"convertToInteractive('df-bedd6fa5-0686-4d94-8c62-4bfe2c535c88')\"\n",
       "              title=\"Convert this dataframe to an interactive table.\"\n",
       "              style=\"display:none;\">\n",
       "\n",
       "  <svg xmlns=\"http://www.w3.org/2000/svg\" height=\"24px\"viewBox=\"0 0 24 24\"\n",
       "       width=\"24px\">\n",
       "    <path d=\"M0 0h24v24H0V0z\" fill=\"none\"/>\n",
       "    <path d=\"M18.56 5.44l.94 2.06.94-2.06 2.06-.94-2.06-.94-.94-2.06-.94 2.06-2.06.94zm-11 1L8.5 8.5l.94-2.06 2.06-.94-2.06-.94L8.5 2.5l-.94 2.06-2.06.94zm10 10l.94 2.06.94-2.06 2.06-.94-2.06-.94-.94-2.06-.94 2.06-2.06.94z\"/><path d=\"M17.41 7.96l-1.37-1.37c-.4-.4-.92-.59-1.43-.59-.52 0-1.04.2-1.43.59L10.3 9.45l-7.72 7.72c-.78.78-.78 2.05 0 2.83L4 21.41c.39.39.9.59 1.41.59.51 0 1.02-.2 1.41-.59l7.78-7.78 2.81-2.81c.8-.78.8-2.07 0-2.86zM5.41 20L4 18.59l7.72-7.72 1.47 1.35L5.41 20z\"/>\n",
       "  </svg>\n",
       "      </button>\n",
       "\n",
       "\n",
       "\n",
       "    <div id=\"df-94571b57-8325-4cde-a7e7-52115693f65c\">\n",
       "      <button class=\"colab-df-quickchart\" onclick=\"quickchart('df-94571b57-8325-4cde-a7e7-52115693f65c')\"\n",
       "              title=\"Suggest charts.\"\n",
       "              style=\"display:none;\">\n",
       "\n",
       "<svg xmlns=\"http://www.w3.org/2000/svg\" height=\"24px\"viewBox=\"0 0 24 24\"\n",
       "     width=\"24px\">\n",
       "    <g>\n",
       "        <path d=\"M19 3H5c-1.1 0-2 .9-2 2v14c0 1.1.9 2 2 2h14c1.1 0 2-.9 2-2V5c0-1.1-.9-2-2-2zM9 17H7v-7h2v7zm4 0h-2V7h2v10zm4 0h-2v-4h2v4z\"/>\n",
       "    </g>\n",
       "</svg>\n",
       "      </button>\n",
       "    </div>\n",
       "\n",
       "<style>\n",
       "  .colab-df-quickchart {\n",
       "    background-color: #E8F0FE;\n",
       "    border: none;\n",
       "    border-radius: 50%;\n",
       "    cursor: pointer;\n",
       "    display: none;\n",
       "    fill: #1967D2;\n",
       "    height: 32px;\n",
       "    padding: 0 0 0 0;\n",
       "    width: 32px;\n",
       "  }\n",
       "\n",
       "  .colab-df-quickchart:hover {\n",
       "    background-color: #E2EBFA;\n",
       "    box-shadow: 0px 1px 2px rgba(60, 64, 67, 0.3), 0px 1px 3px 1px rgba(60, 64, 67, 0.15);\n",
       "    fill: #174EA6;\n",
       "  }\n",
       "\n",
       "  [theme=dark] .colab-df-quickchart {\n",
       "    background-color: #3B4455;\n",
       "    fill: #D2E3FC;\n",
       "  }\n",
       "\n",
       "  [theme=dark] .colab-df-quickchart:hover {\n",
       "    background-color: #434B5C;\n",
       "    box-shadow: 0px 1px 3px 1px rgba(0, 0, 0, 0.15);\n",
       "    filter: drop-shadow(0px 1px 2px rgba(0, 0, 0, 0.3));\n",
       "    fill: #FFFFFF;\n",
       "  }\n",
       "</style>\n",
       "\n",
       "    <script>\n",
       "      async function quickchart(key) {\n",
       "        const containerElement = document.querySelector('#' + key);\n",
       "        const charts = await google.colab.kernel.invokeFunction(\n",
       "            'suggestCharts', [key], {});\n",
       "      }\n",
       "    </script>\n",
       "\n",
       "      <script>\n",
       "\n",
       "function displayQuickchartButton(domScope) {\n",
       "  let quickchartButtonEl =\n",
       "    domScope.querySelector('#df-94571b57-8325-4cde-a7e7-52115693f65c button.colab-df-quickchart');\n",
       "  quickchartButtonEl.style.display =\n",
       "    google.colab.kernel.accessAllowed ? 'block' : 'none';\n",
       "}\n",
       "\n",
       "        displayQuickchartButton(document);\n",
       "      </script>\n",
       "      <style>\n",
       "    .colab-df-container {\n",
       "      display:flex;\n",
       "      flex-wrap:wrap;\n",
       "      gap: 12px;\n",
       "    }\n",
       "\n",
       "    .colab-df-convert {\n",
       "      background-color: #E8F0FE;\n",
       "      border: none;\n",
       "      border-radius: 50%;\n",
       "      cursor: pointer;\n",
       "      display: none;\n",
       "      fill: #1967D2;\n",
       "      height: 32px;\n",
       "      padding: 0 0 0 0;\n",
       "      width: 32px;\n",
       "    }\n",
       "\n",
       "    .colab-df-convert:hover {\n",
       "      background-color: #E2EBFA;\n",
       "      box-shadow: 0px 1px 2px rgba(60, 64, 67, 0.3), 0px 1px 3px 1px rgba(60, 64, 67, 0.15);\n",
       "      fill: #174EA6;\n",
       "    }\n",
       "\n",
       "    [theme=dark] .colab-df-convert {\n",
       "      background-color: #3B4455;\n",
       "      fill: #D2E3FC;\n",
       "    }\n",
       "\n",
       "    [theme=dark] .colab-df-convert:hover {\n",
       "      background-color: #434B5C;\n",
       "      box-shadow: 0px 1px 3px 1px rgba(0, 0, 0, 0.15);\n",
       "      filter: drop-shadow(0px 1px 2px rgba(0, 0, 0, 0.3));\n",
       "      fill: #FFFFFF;\n",
       "    }\n",
       "  </style>\n",
       "\n",
       "      <script>\n",
       "        const buttonEl =\n",
       "          document.querySelector('#df-bedd6fa5-0686-4d94-8c62-4bfe2c535c88 button.colab-df-convert');\n",
       "        buttonEl.style.display =\n",
       "          google.colab.kernel.accessAllowed ? 'block' : 'none';\n",
       "\n",
       "        async function convertToInteractive(key) {\n",
       "          const element = document.querySelector('#df-bedd6fa5-0686-4d94-8c62-4bfe2c535c88');\n",
       "          const dataTable =\n",
       "            await google.colab.kernel.invokeFunction('convertToInteractive',\n",
       "                                                     [key], {});\n",
       "          if (!dataTable) return;\n",
       "\n",
       "          const docLinkHtml = 'Like what you see? Visit the ' +\n",
       "            '<a target=\"_blank\" href=https://colab.research.google.com/notebooks/data_table.ipynb>data table notebook</a>'\n",
       "            + ' to learn more about interactive tables.';\n",
       "          element.innerHTML = '';\n",
       "          dataTable['output_type'] = 'display_data';\n",
       "          await google.colab.output.renderOutput(dataTable, element);\n",
       "          const docLink = document.createElement('div');\n",
       "          docLink.innerHTML = docLinkHtml;\n",
       "          element.appendChild(docLink);\n",
       "        }\n",
       "      </script>\n",
       "    </div>\n",
       "  </div>\n"
      ]
     },
     "metadata": {},
     "execution_count": 64
    }
   ],
   "source": [
    "# Let's now do feature scaling (Since our data have outliers so we will use Robust scaling as feature scaling technique)\n",
    "scaler = RobustScaler()\n",
    "\n",
    "scaled_data = scaler.fit_transform(\n",
    "    temp_df[[\"Area Name\", \"Base\", \"Projection\", \"Change\", \"Average Annual Openings\"]]\n",
    ")\n",
    "scaled_data = pd.DataFrame(\n",
    "    scaled_data,\n",
    "    columns=[\"Area Name\", \"Base\", \"Projection\", \"Change\", \"Average Annual Openings\"],\n",
    ")\n",
    "scaled_data.head(5)"
   ]
  },
  {
   "cell_type": "markdown",
   "id": "a6254233-e6c3-43eb-8a01-ce027226e5c5",
   "metadata": {
    "id": "a6254233-e6c3-43eb-8a01-ce027226e5c5"
   },
   "source": [
    "In our dataset in the occupation name there are some ocuppations which are similar such Advertising and Promotions Managers and  Marketing Manager, so insted of simply encoding this feature we will generate word embeddings which will capture semantic information.s"
   ]
  },
  {
   "cell_type": "code",
   "execution_count": 55,
   "id": "e8a58bb7-2d71-4814-a76c-a7e82d16b322",
   "metadata": {
    "id": "e8a58bb7-2d71-4814-a76c-a7e82d16b322"
   },
   "outputs": [],
   "source": [
    "# Creating a word embeddings using nnlm-en-dim50\n",
    "embedding = \"https://tfhub.dev/google/nnlm-en-dim50/2\"\n",
    "hub_layer = hub.KerasLayer(embedding, dtype=tf.string, trainable=True)"
   ]
  },
  {
   "cell_type": "code",
   "source": [
    "# Wll take text as single text as input and return embeddings\n",
    "def create_embeddings(text):\n",
    "    return hub_layer(tf.constant([text])).numpy()[0]"
   ],
   "metadata": {
    "id": "fmKI7un3id0m"
   },
   "id": "fmKI7un3id0m",
   "execution_count": 65,
   "outputs": []
  },
  {
   "cell_type": "code",
   "source": [
    "# Let's create a function that will take text as input and will return embeddings\n",
    "target_encode_transformer = ColumnTransformer(\n",
    "    transformers=[\n",
    "        (\n",
    "            \"Target_Encoding\",\n",
    "            ce.TargetEncoder(\n",
    "                smoothing=0.2, handle_missing=\"return_nan\", return_df=False\n",
    "            ),\n",
    "            [0],\n",
    "        ),\n",
    "    ],\n",
    "    remainder=\"passthrough\",\n",
    ")\n",
    "\n",
    "scaling_transformer = ColumnTransformer(\n",
    "    transformers=[(\"Robust_scaler\", RobustScaler(), [2, 3, 4, 5])],\n",
    "    remainder=\"passthrough\",\n",
    ")\n",
    "\n",
    "pipe = Pipeline(\n",
    "    steps=[\n",
    "        (\"Target_Encoder\", target_encode_transformer),\n",
    "        (\"Robust_Scaling\", scaling_transformer),\n",
    "    ]\n",
    ")"
   ],
   "metadata": {
    "id": "XcQhg4vrfOnv"
   },
   "id": "XcQhg4vrfOnv",
   "execution_count": 66,
   "outputs": []
  },
  {
   "cell_type": "code",
   "source": [
    "# Process the training data\n",
    "X_train = pipe.fit_transform(X_train, y_train)"
   ],
   "metadata": {
    "id": "mE4vg26Km-Jq"
   },
   "id": "mE4vg26Km-Jq",
   "execution_count": 70,
   "outputs": []
  },
  {
   "cell_type": "code",
   "source": [
    "# Empty numpy array\n",
    "New_Xtrain = np.empty((0, 55))\n",
    "\n",
    "# After completition of this loop we will be having a 2d Numpy array\n",
    "for index in range(len(X_train)):\n",
    "    arr1 = X_train[index]  # Storing 1d numpy array in arr1\n",
    "    text = arr1[5]\n",
    "    arr2 = create_embeddings(text)  # arr2 will have numpy array -> embeddings\n",
    "\n",
    "    arr = np.concatenate([arr1[:-1], arr2]).reshape(1, -1)\n",
    "    New_Xtrain = np.vstack((New_Xtrain, arr))"
   ],
   "metadata": {
    "id": "sdp3tuQCntiR"
   },
   "id": "sdp3tuQCntiR",
   "execution_count": 73,
   "outputs": []
  },
  {
   "cell_type": "code",
   "source": [
    "X_test = pipe.transform(X_test)\n",
    "# Empty numpy array\n",
    "New_Xtest = np.empty((0, 55))\n",
    "\n",
    "# After completition of this loop we will be having a 2d Numpy array\n",
    "for index in range(len(X_test)):\n",
    "    arr1 = X_test[index]  # Storing 1d numpy array in arr1\n",
    "    text = arr1[5]\n",
    "    arr2 = create_embeddings(text)  # arr2 will have numpy array -> embeddings\n",
    "\n",
    "    arr = np.concatenate([arr1[:-1], arr2]).reshape(1, -1)\n",
    "    New_Xtest = np.vstack((New_Xtest, arr))"
   ],
   "metadata": {
    "id": "8wrgBiZ7pvvJ"
   },
   "id": "8wrgBiZ7pvvJ",
   "execution_count": 97,
   "outputs": []
  },
  {
   "cell_type": "markdown",
   "source": [
    "### Comparision of various regression models"
   ],
   "metadata": {
    "id": "skvAFUqRqNhP"
   },
   "id": "skvAFUqRqNhP"
  },
  {
   "cell_type": "code",
   "source": [
    "y_train = np.array(y_train.values)\n",
    "y_test = np.array(y_test.values)"
   ],
   "metadata": {
    "id": "pHDWVtOrr02K"
   },
   "id": "pHDWVtOrr02K",
   "execution_count": 81,
   "outputs": []
  },
  {
   "cell_type": "code",
   "source": [
    "pycaret_setup = setup(data=New_Xtrain, target=y_train, preprocess=False)"
   ],
   "metadata": {
    "colab": {
     "base_uri": "https://localhost:8080/",
     "height": 300
    },
    "id": "XBb-VAXmqRwy",
    "outputId": "30762e3c-a720-4b41-a239-e3c58eb52deb"
   },
   "id": "XBb-VAXmqRwy",
   "execution_count": 84,
   "outputs": [
    {
     "output_type": "display_data",
     "data": {
      "text/plain": [
       "<pandas.io.formats.style.Styler at 0x7bbb5704b130>"
      ],
      "text/html": [
       "<style type=\"text/css\">\n",
       "</style>\n",
       "<table id=\"T_bbfd7\" class=\"dataframe\">\n",
       "  <thead>\n",
       "    <tr>\n",
       "      <th class=\"blank level0\" >&nbsp;</th>\n",
       "      <th id=\"T_bbfd7_level0_col0\" class=\"col_heading level0 col0\" >Description</th>\n",
       "      <th id=\"T_bbfd7_level0_col1\" class=\"col_heading level0 col1\" >Value</th>\n",
       "    </tr>\n",
       "  </thead>\n",
       "  <tbody>\n",
       "    <tr>\n",
       "      <th id=\"T_bbfd7_level0_row0\" class=\"row_heading level0 row0\" >0</th>\n",
       "      <td id=\"T_bbfd7_row0_col0\" class=\"data row0 col0\" >Session id</td>\n",
       "      <td id=\"T_bbfd7_row0_col1\" class=\"data row0 col1\" >2627</td>\n",
       "    </tr>\n",
       "    <tr>\n",
       "      <th id=\"T_bbfd7_level0_row1\" class=\"row_heading level0 row1\" >1</th>\n",
       "      <td id=\"T_bbfd7_row1_col0\" class=\"data row1 col0\" >Target</td>\n",
       "      <td id=\"T_bbfd7_row1_col1\" class=\"data row1 col1\" >target</td>\n",
       "    </tr>\n",
       "    <tr>\n",
       "      <th id=\"T_bbfd7_level0_row2\" class=\"row_heading level0 row2\" >2</th>\n",
       "      <td id=\"T_bbfd7_row2_col0\" class=\"data row2 col0\" >Target type</td>\n",
       "      <td id=\"T_bbfd7_row2_col1\" class=\"data row2 col1\" >Regression</td>\n",
       "    </tr>\n",
       "    <tr>\n",
       "      <th id=\"T_bbfd7_level0_row3\" class=\"row_heading level0 row3\" >3</th>\n",
       "      <td id=\"T_bbfd7_row3_col0\" class=\"data row3 col0\" >Original data shape</td>\n",
       "      <td id=\"T_bbfd7_row3_col1\" class=\"data row3 col1\" >(24448, 56)</td>\n",
       "    </tr>\n",
       "    <tr>\n",
       "      <th id=\"T_bbfd7_level0_row4\" class=\"row_heading level0 row4\" >4</th>\n",
       "      <td id=\"T_bbfd7_row4_col0\" class=\"data row4 col0\" >Transformed data shape</td>\n",
       "      <td id=\"T_bbfd7_row4_col1\" class=\"data row4 col1\" >(24448, 56)</td>\n",
       "    </tr>\n",
       "    <tr>\n",
       "      <th id=\"T_bbfd7_level0_row5\" class=\"row_heading level0 row5\" >5</th>\n",
       "      <td id=\"T_bbfd7_row5_col0\" class=\"data row5 col0\" >Transformed train set shape</td>\n",
       "      <td id=\"T_bbfd7_row5_col1\" class=\"data row5 col1\" >(17113, 56)</td>\n",
       "    </tr>\n",
       "    <tr>\n",
       "      <th id=\"T_bbfd7_level0_row6\" class=\"row_heading level0 row6\" >6</th>\n",
       "      <td id=\"T_bbfd7_row6_col0\" class=\"data row6 col0\" >Transformed test set shape</td>\n",
       "      <td id=\"T_bbfd7_row6_col1\" class=\"data row6 col1\" >(7335, 56)</td>\n",
       "    </tr>\n",
       "    <tr>\n",
       "      <th id=\"T_bbfd7_level0_row7\" class=\"row_heading level0 row7\" >7</th>\n",
       "      <td id=\"T_bbfd7_row7_col0\" class=\"data row7 col0\" >Categorical features</td>\n",
       "      <td id=\"T_bbfd7_row7_col1\" class=\"data row7 col1\" >55</td>\n",
       "    </tr>\n",
       "  </tbody>\n",
       "</table>\n"
      ]
     },
     "metadata": {}
    }
   ]
  },
  {
   "cell_type": "code",
   "source": [
    "# list of all the regression models\n",
    "models()"
   ],
   "metadata": {
    "colab": {
     "base_uri": "https://localhost:8080/",
     "height": 864
    },
    "id": "fucb-EInssG6",
    "outputId": "dc3b8842-67ef-4429-8b61-cb4440d03b64"
   },
   "id": "fucb-EInssG6",
   "execution_count": 87,
   "outputs": [
    {
     "output_type": "execute_result",
     "data": {
      "text/plain": [
       "                                       Name  \\\n",
       "ID                                            \n",
       "lr                        Linear Regression   \n",
       "lasso                      Lasso Regression   \n",
       "ridge                      Ridge Regression   \n",
       "en                              Elastic Net   \n",
       "lar                  Least Angle Regression   \n",
       "llar           Lasso Least Angle Regression   \n",
       "omp             Orthogonal Matching Pursuit   \n",
       "br                           Bayesian Ridge   \n",
       "ard       Automatic Relevance Determination   \n",
       "par            Passive Aggressive Regressor   \n",
       "ransac              Random Sample Consensus   \n",
       "tr                       TheilSen Regressor   \n",
       "huber                       Huber Regressor   \n",
       "kr                             Kernel Ridge   \n",
       "svm               Support Vector Regression   \n",
       "knn                   K Neighbors Regressor   \n",
       "dt                  Decision Tree Regressor   \n",
       "rf                  Random Forest Regressor   \n",
       "et                    Extra Trees Regressor   \n",
       "ada                      AdaBoost Regressor   \n",
       "gbr             Gradient Boosting Regressor   \n",
       "mlp                           MLP Regressor   \n",
       "xgboost           Extreme Gradient Boosting   \n",
       "lightgbm    Light Gradient Boosting Machine   \n",
       "dummy                       Dummy Regressor   \n",
       "\n",
       "                                                  Reference  Turbo  \n",
       "ID                                                                  \n",
       "lr              sklearn.linear_model._base.LinearRegression   True  \n",
       "lasso        sklearn.linear_model._coordinate_descent.Lasso   True  \n",
       "ridge                     sklearn.linear_model._ridge.Ridge   True  \n",
       "en        sklearn.linear_model._coordinate_descent.Elast...   True  \n",
       "lar                  sklearn.linear_model._least_angle.Lars   True  \n",
       "llar            sklearn.linear_model._least_angle.LassoLars   True  \n",
       "omp       sklearn.linear_model._omp.OrthogonalMatchingPu...   True  \n",
       "br                sklearn.linear_model._bayes.BayesianRidge   True  \n",
       "ard               sklearn.linear_model._bayes.ARDRegression  False  \n",
       "par       sklearn.linear_model._passive_aggressive.Passi...   True  \n",
       "ransac         sklearn.linear_model._ransac.RANSACRegressor  False  \n",
       "tr        sklearn.linear_model._theil_sen.TheilSenRegressor  False  \n",
       "huber            sklearn.linear_model._huber.HuberRegressor   True  \n",
       "kr                         sklearn.kernel_ridge.KernelRidge  False  \n",
       "svm                                sklearn.svm._classes.SVR  False  \n",
       "knn       sklearn.neighbors._regression.KNeighborsRegressor   True  \n",
       "dt              sklearn.tree._classes.DecisionTreeRegressor   True  \n",
       "rf           sklearn.ensemble._forest.RandomForestRegressor   True  \n",
       "et             sklearn.ensemble._forest.ExtraTreesRegressor   True  \n",
       "ada       sklearn.ensemble._weight_boosting.AdaBoostRegr...   True  \n",
       "gbr          sklearn.ensemble._gb.GradientBoostingRegressor   True  \n",
       "mlp       sklearn.neural_network._multilayer_perceptron....  False  \n",
       "xgboost                        xgboost.sklearn.XGBRegressor   True  \n",
       "lightgbm                     lightgbm.sklearn.LGBMRegressor   True  \n",
       "dummy                          sklearn.dummy.DummyRegressor   True  "
      ],
      "text/html": [
       "\n",
       "\n",
       "  <div id=\"df-eea88db3-f484-472e-8272-c97e62f527ed\">\n",
       "    <div class=\"colab-df-container\">\n",
       "      <div>\n",
       "<style scoped>\n",
       "    .dataframe tbody tr th:only-of-type {\n",
       "        vertical-align: middle;\n",
       "    }\n",
       "\n",
       "    .dataframe tbody tr th {\n",
       "        vertical-align: top;\n",
       "    }\n",
       "\n",
       "    .dataframe thead th {\n",
       "        text-align: right;\n",
       "    }\n",
       "</style>\n",
       "<table border=\"1\" class=\"dataframe\">\n",
       "  <thead>\n",
       "    <tr style=\"text-align: right;\">\n",
       "      <th></th>\n",
       "      <th>Name</th>\n",
       "      <th>Reference</th>\n",
       "      <th>Turbo</th>\n",
       "    </tr>\n",
       "    <tr>\n",
       "      <th>ID</th>\n",
       "      <th></th>\n",
       "      <th></th>\n",
       "      <th></th>\n",
       "    </tr>\n",
       "  </thead>\n",
       "  <tbody>\n",
       "    <tr>\n",
       "      <th>lr</th>\n",
       "      <td>Linear Regression</td>\n",
       "      <td>sklearn.linear_model._base.LinearRegression</td>\n",
       "      <td>True</td>\n",
       "    </tr>\n",
       "    <tr>\n",
       "      <th>lasso</th>\n",
       "      <td>Lasso Regression</td>\n",
       "      <td>sklearn.linear_model._coordinate_descent.Lasso</td>\n",
       "      <td>True</td>\n",
       "    </tr>\n",
       "    <tr>\n",
       "      <th>ridge</th>\n",
       "      <td>Ridge Regression</td>\n",
       "      <td>sklearn.linear_model._ridge.Ridge</td>\n",
       "      <td>True</td>\n",
       "    </tr>\n",
       "    <tr>\n",
       "      <th>en</th>\n",
       "      <td>Elastic Net</td>\n",
       "      <td>sklearn.linear_model._coordinate_descent.Elast...</td>\n",
       "      <td>True</td>\n",
       "    </tr>\n",
       "    <tr>\n",
       "      <th>lar</th>\n",
       "      <td>Least Angle Regression</td>\n",
       "      <td>sklearn.linear_model._least_angle.Lars</td>\n",
       "      <td>True</td>\n",
       "    </tr>\n",
       "    <tr>\n",
       "      <th>llar</th>\n",
       "      <td>Lasso Least Angle Regression</td>\n",
       "      <td>sklearn.linear_model._least_angle.LassoLars</td>\n",
       "      <td>True</td>\n",
       "    </tr>\n",
       "    <tr>\n",
       "      <th>omp</th>\n",
       "      <td>Orthogonal Matching Pursuit</td>\n",
       "      <td>sklearn.linear_model._omp.OrthogonalMatchingPu...</td>\n",
       "      <td>True</td>\n",
       "    </tr>\n",
       "    <tr>\n",
       "      <th>br</th>\n",
       "      <td>Bayesian Ridge</td>\n",
       "      <td>sklearn.linear_model._bayes.BayesianRidge</td>\n",
       "      <td>True</td>\n",
       "    </tr>\n",
       "    <tr>\n",
       "      <th>ard</th>\n",
       "      <td>Automatic Relevance Determination</td>\n",
       "      <td>sklearn.linear_model._bayes.ARDRegression</td>\n",
       "      <td>False</td>\n",
       "    </tr>\n",
       "    <tr>\n",
       "      <th>par</th>\n",
       "      <td>Passive Aggressive Regressor</td>\n",
       "      <td>sklearn.linear_model._passive_aggressive.Passi...</td>\n",
       "      <td>True</td>\n",
       "    </tr>\n",
       "    <tr>\n",
       "      <th>ransac</th>\n",
       "      <td>Random Sample Consensus</td>\n",
       "      <td>sklearn.linear_model._ransac.RANSACRegressor</td>\n",
       "      <td>False</td>\n",
       "    </tr>\n",
       "    <tr>\n",
       "      <th>tr</th>\n",
       "      <td>TheilSen Regressor</td>\n",
       "      <td>sklearn.linear_model._theil_sen.TheilSenRegressor</td>\n",
       "      <td>False</td>\n",
       "    </tr>\n",
       "    <tr>\n",
       "      <th>huber</th>\n",
       "      <td>Huber Regressor</td>\n",
       "      <td>sklearn.linear_model._huber.HuberRegressor</td>\n",
       "      <td>True</td>\n",
       "    </tr>\n",
       "    <tr>\n",
       "      <th>kr</th>\n",
       "      <td>Kernel Ridge</td>\n",
       "      <td>sklearn.kernel_ridge.KernelRidge</td>\n",
       "      <td>False</td>\n",
       "    </tr>\n",
       "    <tr>\n",
       "      <th>svm</th>\n",
       "      <td>Support Vector Regression</td>\n",
       "      <td>sklearn.svm._classes.SVR</td>\n",
       "      <td>False</td>\n",
       "    </tr>\n",
       "    <tr>\n",
       "      <th>knn</th>\n",
       "      <td>K Neighbors Regressor</td>\n",
       "      <td>sklearn.neighbors._regression.KNeighborsRegressor</td>\n",
       "      <td>True</td>\n",
       "    </tr>\n",
       "    <tr>\n",
       "      <th>dt</th>\n",
       "      <td>Decision Tree Regressor</td>\n",
       "      <td>sklearn.tree._classes.DecisionTreeRegressor</td>\n",
       "      <td>True</td>\n",
       "    </tr>\n",
       "    <tr>\n",
       "      <th>rf</th>\n",
       "      <td>Random Forest Regressor</td>\n",
       "      <td>sklearn.ensemble._forest.RandomForestRegressor</td>\n",
       "      <td>True</td>\n",
       "    </tr>\n",
       "    <tr>\n",
       "      <th>et</th>\n",
       "      <td>Extra Trees Regressor</td>\n",
       "      <td>sklearn.ensemble._forest.ExtraTreesRegressor</td>\n",
       "      <td>True</td>\n",
       "    </tr>\n",
       "    <tr>\n",
       "      <th>ada</th>\n",
       "      <td>AdaBoost Regressor</td>\n",
       "      <td>sklearn.ensemble._weight_boosting.AdaBoostRegr...</td>\n",
       "      <td>True</td>\n",
       "    </tr>\n",
       "    <tr>\n",
       "      <th>gbr</th>\n",
       "      <td>Gradient Boosting Regressor</td>\n",
       "      <td>sklearn.ensemble._gb.GradientBoostingRegressor</td>\n",
       "      <td>True</td>\n",
       "    </tr>\n",
       "    <tr>\n",
       "      <th>mlp</th>\n",
       "      <td>MLP Regressor</td>\n",
       "      <td>sklearn.neural_network._multilayer_perceptron....</td>\n",
       "      <td>False</td>\n",
       "    </tr>\n",
       "    <tr>\n",
       "      <th>xgboost</th>\n",
       "      <td>Extreme Gradient Boosting</td>\n",
       "      <td>xgboost.sklearn.XGBRegressor</td>\n",
       "      <td>True</td>\n",
       "    </tr>\n",
       "    <tr>\n",
       "      <th>lightgbm</th>\n",
       "      <td>Light Gradient Boosting Machine</td>\n",
       "      <td>lightgbm.sklearn.LGBMRegressor</td>\n",
       "      <td>True</td>\n",
       "    </tr>\n",
       "    <tr>\n",
       "      <th>dummy</th>\n",
       "      <td>Dummy Regressor</td>\n",
       "      <td>sklearn.dummy.DummyRegressor</td>\n",
       "      <td>True</td>\n",
       "    </tr>\n",
       "  </tbody>\n",
       "</table>\n",
       "</div>\n",
       "      <button class=\"colab-df-convert\" onclick=\"convertToInteractive('df-eea88db3-f484-472e-8272-c97e62f527ed')\"\n",
       "              title=\"Convert this dataframe to an interactive table.\"\n",
       "              style=\"display:none;\">\n",
       "\n",
       "  <svg xmlns=\"http://www.w3.org/2000/svg\" height=\"24px\"viewBox=\"0 0 24 24\"\n",
       "       width=\"24px\">\n",
       "    <path d=\"M0 0h24v24H0V0z\" fill=\"none\"/>\n",
       "    <path d=\"M18.56 5.44l.94 2.06.94-2.06 2.06-.94-2.06-.94-.94-2.06-.94 2.06-2.06.94zm-11 1L8.5 8.5l.94-2.06 2.06-.94-2.06-.94L8.5 2.5l-.94 2.06-2.06.94zm10 10l.94 2.06.94-2.06 2.06-.94-2.06-.94-.94-2.06-.94 2.06-2.06.94z\"/><path d=\"M17.41 7.96l-1.37-1.37c-.4-.4-.92-.59-1.43-.59-.52 0-1.04.2-1.43.59L10.3 9.45l-7.72 7.72c-.78.78-.78 2.05 0 2.83L4 21.41c.39.39.9.59 1.41.59.51 0 1.02-.2 1.41-.59l7.78-7.78 2.81-2.81c.8-.78.8-2.07 0-2.86zM5.41 20L4 18.59l7.72-7.72 1.47 1.35L5.41 20z\"/>\n",
       "  </svg>\n",
       "      </button>\n",
       "\n",
       "\n",
       "\n",
       "    <div id=\"df-f2ccb9f7-92b7-431c-a70e-42da1d64034e\">\n",
       "      <button class=\"colab-df-quickchart\" onclick=\"quickchart('df-f2ccb9f7-92b7-431c-a70e-42da1d64034e')\"\n",
       "              title=\"Suggest charts.\"\n",
       "              style=\"display:none;\">\n",
       "\n",
       "<svg xmlns=\"http://www.w3.org/2000/svg\" height=\"24px\"viewBox=\"0 0 24 24\"\n",
       "     width=\"24px\">\n",
       "    <g>\n",
       "        <path d=\"M19 3H5c-1.1 0-2 .9-2 2v14c0 1.1.9 2 2 2h14c1.1 0 2-.9 2-2V5c0-1.1-.9-2-2-2zM9 17H7v-7h2v7zm4 0h-2V7h2v10zm4 0h-2v-4h2v4z\"/>\n",
       "    </g>\n",
       "</svg>\n",
       "      </button>\n",
       "    </div>\n",
       "\n",
       "<style>\n",
       "  .colab-df-quickchart {\n",
       "    background-color: #E8F0FE;\n",
       "    border: none;\n",
       "    border-radius: 50%;\n",
       "    cursor: pointer;\n",
       "    display: none;\n",
       "    fill: #1967D2;\n",
       "    height: 32px;\n",
       "    padding: 0 0 0 0;\n",
       "    width: 32px;\n",
       "  }\n",
       "\n",
       "  .colab-df-quickchart:hover {\n",
       "    background-color: #E2EBFA;\n",
       "    box-shadow: 0px 1px 2px rgba(60, 64, 67, 0.3), 0px 1px 3px 1px rgba(60, 64, 67, 0.15);\n",
       "    fill: #174EA6;\n",
       "  }\n",
       "\n",
       "  [theme=dark] .colab-df-quickchart {\n",
       "    background-color: #3B4455;\n",
       "    fill: #D2E3FC;\n",
       "  }\n",
       "\n",
       "  [theme=dark] .colab-df-quickchart:hover {\n",
       "    background-color: #434B5C;\n",
       "    box-shadow: 0px 1px 3px 1px rgba(0, 0, 0, 0.15);\n",
       "    filter: drop-shadow(0px 1px 2px rgba(0, 0, 0, 0.3));\n",
       "    fill: #FFFFFF;\n",
       "  }\n",
       "</style>\n",
       "\n",
       "    <script>\n",
       "      async function quickchart(key) {\n",
       "        const containerElement = document.querySelector('#' + key);\n",
       "        const charts = await google.colab.kernel.invokeFunction(\n",
       "            'suggestCharts', [key], {});\n",
       "      }\n",
       "    </script>\n",
       "\n",
       "      <script>\n",
       "\n",
       "function displayQuickchartButton(domScope) {\n",
       "  let quickchartButtonEl =\n",
       "    domScope.querySelector('#df-f2ccb9f7-92b7-431c-a70e-42da1d64034e button.colab-df-quickchart');\n",
       "  quickchartButtonEl.style.display =\n",
       "    google.colab.kernel.accessAllowed ? 'block' : 'none';\n",
       "}\n",
       "\n",
       "        displayQuickchartButton(document);\n",
       "      </script>\n",
       "      <style>\n",
       "    .colab-df-container {\n",
       "      display:flex;\n",
       "      flex-wrap:wrap;\n",
       "      gap: 12px;\n",
       "    }\n",
       "\n",
       "    .colab-df-convert {\n",
       "      background-color: #E8F0FE;\n",
       "      border: none;\n",
       "      border-radius: 50%;\n",
       "      cursor: pointer;\n",
       "      display: none;\n",
       "      fill: #1967D2;\n",
       "      height: 32px;\n",
       "      padding: 0 0 0 0;\n",
       "      width: 32px;\n",
       "    }\n",
       "\n",
       "    .colab-df-convert:hover {\n",
       "      background-color: #E2EBFA;\n",
       "      box-shadow: 0px 1px 2px rgba(60, 64, 67, 0.3), 0px 1px 3px 1px rgba(60, 64, 67, 0.15);\n",
       "      fill: #174EA6;\n",
       "    }\n",
       "\n",
       "    [theme=dark] .colab-df-convert {\n",
       "      background-color: #3B4455;\n",
       "      fill: #D2E3FC;\n",
       "    }\n",
       "\n",
       "    [theme=dark] .colab-df-convert:hover {\n",
       "      background-color: #434B5C;\n",
       "      box-shadow: 0px 1px 3px 1px rgba(0, 0, 0, 0.15);\n",
       "      filter: drop-shadow(0px 1px 2px rgba(0, 0, 0, 0.3));\n",
       "      fill: #FFFFFF;\n",
       "    }\n",
       "  </style>\n",
       "\n",
       "      <script>\n",
       "        const buttonEl =\n",
       "          document.querySelector('#df-eea88db3-f484-472e-8272-c97e62f527ed button.colab-df-convert');\n",
       "        buttonEl.style.display =\n",
       "          google.colab.kernel.accessAllowed ? 'block' : 'none';\n",
       "\n",
       "        async function convertToInteractive(key) {\n",
       "          const element = document.querySelector('#df-eea88db3-f484-472e-8272-c97e62f527ed');\n",
       "          const dataTable =\n",
       "            await google.colab.kernel.invokeFunction('convertToInteractive',\n",
       "                                                     [key], {});\n",
       "          if (!dataTable) return;\n",
       "\n",
       "          const docLinkHtml = 'Like what you see? Visit the ' +\n",
       "            '<a target=\"_blank\" href=https://colab.research.google.com/notebooks/data_table.ipynb>data table notebook</a>'\n",
       "            + ' to learn more about interactive tables.';\n",
       "          element.innerHTML = '';\n",
       "          dataTable['output_type'] = 'display_data';\n",
       "          await google.colab.output.renderOutput(dataTable, element);\n",
       "          const docLink = document.createElement('div');\n",
       "          docLink.innerHTML = docLinkHtml;\n",
       "          element.appendChild(docLink);\n",
       "        }\n",
       "      </script>\n",
       "    </div>\n",
       "  </div>\n"
      ]
     },
     "metadata": {},
     "execution_count": 87
    }
   ]
  },
  {
   "cell_type": "code",
   "source": [
    "best_model = compare_models(fold=4, cross_validation=True)"
   ],
   "metadata": {
    "colab": {
     "base_uri": "https://localhost:8080/",
     "height": 613,
     "referenced_widgets": [
      "afd0d9d169584c5bbc78d743589eb057",
      "cd70e058fdec4757b96cb0f2242a2b90",
      "d04199ebcd0f4b169ce8d567713b4302",
      "72bd72213a1a4227a7e0750af947610a",
      "b9a14a803aeb4943a48a4d04e96fe77e",
      "c838c789dcfc49018beb0c9c4f1fa2a7",
      "430f92c2e6e549e5996873808c01cccb",
      "5594b0b7ca74471d812e7566ee79279a",
      "d4871af3d0ee425d933c8df58d49daf7",
      "6a389967400f4eb29eefe333d250956f",
      "6b31ea7ffa6f4e13ab0d41eb4e244cc5"
     ]
    },
    "id": "w7Tvw5yMs_I9",
    "outputId": "c869e83c-8760-486b-eab9-4ad1af00ce20"
   },
   "id": "w7Tvw5yMs_I9",
   "execution_count": 89,
   "outputs": [
    {
     "output_type": "display_data",
     "data": {
      "text/plain": [
       "<IPython.core.display.HTML object>"
      ],
      "text/html": []
     },
     "metadata": {}
    },
    {
     "output_type": "display_data",
     "data": {
      "text/plain": [
       "<pandas.io.formats.style.Styler at 0x7bbb5658e800>"
      ],
      "text/html": [
       "<style type=\"text/css\">\n",
       "#T_2f257 th {\n",
       "  text-align: left;\n",
       "}\n",
       "#T_2f257_row0_col0, #T_2f257_row1_col0, #T_2f257_row1_col1, #T_2f257_row1_col2, #T_2f257_row1_col3, #T_2f257_row1_col4, #T_2f257_row1_col5, #T_2f257_row1_col6, #T_2f257_row2_col0, #T_2f257_row2_col1, #T_2f257_row2_col2, #T_2f257_row2_col3, #T_2f257_row2_col4, #T_2f257_row2_col5, #T_2f257_row2_col6, #T_2f257_row3_col0, #T_2f257_row3_col1, #T_2f257_row3_col2, #T_2f257_row3_col3, #T_2f257_row3_col4, #T_2f257_row3_col5, #T_2f257_row3_col6, #T_2f257_row4_col0, #T_2f257_row4_col1, #T_2f257_row4_col2, #T_2f257_row4_col3, #T_2f257_row4_col4, #T_2f257_row4_col5, #T_2f257_row4_col6, #T_2f257_row5_col0, #T_2f257_row5_col1, #T_2f257_row5_col2, #T_2f257_row5_col3, #T_2f257_row5_col4, #T_2f257_row5_col5, #T_2f257_row5_col6, #T_2f257_row6_col0, #T_2f257_row6_col1, #T_2f257_row6_col2, #T_2f257_row6_col3, #T_2f257_row6_col4, #T_2f257_row6_col5, #T_2f257_row6_col6, #T_2f257_row7_col0, #T_2f257_row7_col1, #T_2f257_row7_col2, #T_2f257_row7_col3, #T_2f257_row7_col4, #T_2f257_row7_col5, #T_2f257_row7_col6, #T_2f257_row8_col0, #T_2f257_row8_col1, #T_2f257_row8_col2, #T_2f257_row8_col3, #T_2f257_row8_col4, #T_2f257_row8_col5, #T_2f257_row8_col6, #T_2f257_row9_col0, #T_2f257_row9_col1, #T_2f257_row9_col2, #T_2f257_row9_col3, #T_2f257_row9_col4, #T_2f257_row9_col5, #T_2f257_row9_col6, #T_2f257_row10_col0, #T_2f257_row10_col1, #T_2f257_row10_col2, #T_2f257_row10_col3, #T_2f257_row10_col4, #T_2f257_row10_col5, #T_2f257_row10_col6, #T_2f257_row11_col0, #T_2f257_row11_col1, #T_2f257_row11_col2, #T_2f257_row11_col3, #T_2f257_row11_col4, #T_2f257_row11_col5, #T_2f257_row11_col6, #T_2f257_row12_col0, #T_2f257_row12_col1, #T_2f257_row12_col2, #T_2f257_row12_col3, #T_2f257_row12_col4, #T_2f257_row12_col5, #T_2f257_row12_col6, #T_2f257_row13_col0, #T_2f257_row13_col1, #T_2f257_row13_col2, #T_2f257_row13_col3, #T_2f257_row13_col4, #T_2f257_row13_col5, #T_2f257_row13_col6, #T_2f257_row14_col0, #T_2f257_row14_col1, #T_2f257_row14_col2, #T_2f257_row14_col3, #T_2f257_row14_col4, #T_2f257_row14_col5, #T_2f257_row14_col6, #T_2f257_row15_col0, #T_2f257_row15_col1, #T_2f257_row15_col2, #T_2f257_row15_col3, #T_2f257_row15_col4, #T_2f257_row15_col5, #T_2f257_row15_col6, #T_2f257_row16_col0, #T_2f257_row16_col1, #T_2f257_row16_col2, #T_2f257_row16_col3, #T_2f257_row16_col4, #T_2f257_row16_col5, #T_2f257_row16_col6, #T_2f257_row17_col0, #T_2f257_row17_col1, #T_2f257_row17_col2, #T_2f257_row17_col3, #T_2f257_row17_col4, #T_2f257_row17_col5, #T_2f257_row17_col6 {\n",
       "  text-align: left;\n",
       "}\n",
       "#T_2f257_row0_col1, #T_2f257_row0_col2, #T_2f257_row0_col3, #T_2f257_row0_col4, #T_2f257_row0_col5, #T_2f257_row0_col6 {\n",
       "  text-align: left;\n",
       "  background-color: yellow;\n",
       "}\n",
       "#T_2f257_row0_col7, #T_2f257_row1_col7, #T_2f257_row2_col7, #T_2f257_row3_col7, #T_2f257_row4_col7, #T_2f257_row5_col7, #T_2f257_row6_col7, #T_2f257_row7_col7, #T_2f257_row8_col7, #T_2f257_row9_col7, #T_2f257_row10_col7, #T_2f257_row11_col7, #T_2f257_row12_col7, #T_2f257_row13_col7, #T_2f257_row15_col7, #T_2f257_row16_col7, #T_2f257_row17_col7 {\n",
       "  text-align: left;\n",
       "  background-color: lightgrey;\n",
       "}\n",
       "#T_2f257_row14_col7 {\n",
       "  text-align: left;\n",
       "  background-color: yellow;\n",
       "  background-color: lightgrey;\n",
       "}\n",
       "</style>\n",
       "<table id=\"T_2f257\" class=\"dataframe\">\n",
       "  <thead>\n",
       "    <tr>\n",
       "      <th class=\"blank level0\" >&nbsp;</th>\n",
       "      <th id=\"T_2f257_level0_col0\" class=\"col_heading level0 col0\" >Model</th>\n",
       "      <th id=\"T_2f257_level0_col1\" class=\"col_heading level0 col1\" >MAE</th>\n",
       "      <th id=\"T_2f257_level0_col2\" class=\"col_heading level0 col2\" >MSE</th>\n",
       "      <th id=\"T_2f257_level0_col3\" class=\"col_heading level0 col3\" >RMSE</th>\n",
       "      <th id=\"T_2f257_level0_col4\" class=\"col_heading level0 col4\" >R2</th>\n",
       "      <th id=\"T_2f257_level0_col5\" class=\"col_heading level0 col5\" >RMSLE</th>\n",
       "      <th id=\"T_2f257_level0_col6\" class=\"col_heading level0 col6\" >MAPE</th>\n",
       "      <th id=\"T_2f257_level0_col7\" class=\"col_heading level0 col7\" >TT (Sec)</th>\n",
       "    </tr>\n",
       "  </thead>\n",
       "  <tbody>\n",
       "    <tr>\n",
       "      <th id=\"T_2f257_level0_row0\" class=\"row_heading level0 row0\" >rf</th>\n",
       "      <td id=\"T_2f257_row0_col0\" class=\"data row0 col0\" >Random Forest Regressor</td>\n",
       "      <td id=\"T_2f257_row0_col1\" class=\"data row0 col1\" >1.9187</td>\n",
       "      <td id=\"T_2f257_row0_col2\" class=\"data row0 col2\" >14.5629</td>\n",
       "      <td id=\"T_2f257_row0_col3\" class=\"data row0 col3\" >3.8093</td>\n",
       "      <td id=\"T_2f257_row0_col4\" class=\"data row0 col4\" >0.9069</td>\n",
       "      <td id=\"T_2f257_row0_col5\" class=\"data row0 col5\" >0.3334</td>\n",
       "      <td id=\"T_2f257_row0_col6\" class=\"data row0 col6\" >0.2919</td>\n",
       "      <td id=\"T_2f257_row0_col7\" class=\"data row0 col7\" >40.0650</td>\n",
       "    </tr>\n",
       "    <tr>\n",
       "      <th id=\"T_2f257_level0_row1\" class=\"row_heading level0 row1\" >gbr</th>\n",
       "      <td id=\"T_2f257_row1_col0\" class=\"data row1 col0\" >Gradient Boosting Regressor</td>\n",
       "      <td id=\"T_2f257_row1_col1\" class=\"data row1 col1\" >2.9443</td>\n",
       "      <td id=\"T_2f257_row1_col2\" class=\"data row1 col2\" >20.7199</td>\n",
       "      <td id=\"T_2f257_row1_col3\" class=\"data row1 col3\" >4.5487</td>\n",
       "      <td id=\"T_2f257_row1_col4\" class=\"data row1 col4\" >0.8674</td>\n",
       "      <td id=\"T_2f257_row1_col5\" class=\"data row1 col5\" >0.4298</td>\n",
       "      <td id=\"T_2f257_row1_col6\" class=\"data row1 col6\" >0.5855</td>\n",
       "      <td id=\"T_2f257_row1_col7\" class=\"data row1 col7\" >8.5475</td>\n",
       "    </tr>\n",
       "    <tr>\n",
       "      <th id=\"T_2f257_level0_row2\" class=\"row_heading level0 row2\" >dt</th>\n",
       "      <td id=\"T_2f257_row2_col0\" class=\"data row2 col0\" >Decision Tree Regressor</td>\n",
       "      <td id=\"T_2f257_row2_col1\" class=\"data row2 col1\" >2.9052</td>\n",
       "      <td id=\"T_2f257_row2_col2\" class=\"data row2 col2\" >31.4426</td>\n",
       "      <td id=\"T_2f257_row2_col3\" class=\"data row2 col3\" >5.5942</td>\n",
       "      <td id=\"T_2f257_row2_col4\" class=\"data row2 col4\" >0.7985</td>\n",
       "      <td id=\"T_2f257_row2_col5\" class=\"data row2 col5\" >0.4255</td>\n",
       "      <td id=\"T_2f257_row2_col6\" class=\"data row2 col6\" >0.4065</td>\n",
       "      <td id=\"T_2f257_row2_col7\" class=\"data row2 col7\" >0.6775</td>\n",
       "    </tr>\n",
       "    <tr>\n",
       "      <th id=\"T_2f257_level0_row3\" class=\"row_heading level0 row3\" >lightgbm</th>\n",
       "      <td id=\"T_2f257_row3_col0\" class=\"data row3 col0\" >Light Gradient Boosting Machine</td>\n",
       "      <td id=\"T_2f257_row3_col1\" class=\"data row3 col1\" >3.7262</td>\n",
       "      <td id=\"T_2f257_row3_col2\" class=\"data row3 col2\" >36.7846</td>\n",
       "      <td id=\"T_2f257_row3_col3\" class=\"data row3 col3\" >6.0612</td>\n",
       "      <td id=\"T_2f257_row3_col4\" class=\"data row3 col4\" >0.7647</td>\n",
       "      <td id=\"T_2f257_row3_col5\" class=\"data row3 col5\" >0.5109</td>\n",
       "      <td id=\"T_2f257_row3_col6\" class=\"data row3 col6\" >0.6374</td>\n",
       "      <td id=\"T_2f257_row3_col7\" class=\"data row3 col7\" >4.5650</td>\n",
       "    </tr>\n",
       "    <tr>\n",
       "      <th id=\"T_2f257_level0_row4\" class=\"row_heading level0 row4\" >et</th>\n",
       "      <td id=\"T_2f257_row4_col0\" class=\"data row4 col0\" >Extra Trees Regressor</td>\n",
       "      <td id=\"T_2f257_row4_col1\" class=\"data row4 col1\" >4.2602</td>\n",
       "      <td id=\"T_2f257_row4_col2\" class=\"data row4 col2\" >44.1185</td>\n",
       "      <td id=\"T_2f257_row4_col3\" class=\"data row4 col3\" >6.6365</td>\n",
       "      <td id=\"T_2f257_row4_col4\" class=\"data row4 col4\" >0.7178</td>\n",
       "      <td id=\"T_2f257_row4_col5\" class=\"data row4 col5\" >0.5801</td>\n",
       "      <td id=\"T_2f257_row4_col6\" class=\"data row4 col6\" >0.8396</td>\n",
       "      <td id=\"T_2f257_row4_col7\" class=\"data row4 col7\" >12.9650</td>\n",
       "    </tr>\n",
       "    <tr>\n",
       "      <th id=\"T_2f257_level0_row5\" class=\"row_heading level0 row5\" >knn</th>\n",
       "      <td id=\"T_2f257_row5_col0\" class=\"data row5 col0\" >K Neighbors Regressor</td>\n",
       "      <td id=\"T_2f257_row5_col1\" class=\"data row5 col1\" >4.5302</td>\n",
       "      <td id=\"T_2f257_row5_col2\" class=\"data row5 col2\" >53.5178</td>\n",
       "      <td id=\"T_2f257_row5_col3\" class=\"data row5 col3\" >7.3146</td>\n",
       "      <td id=\"T_2f257_row5_col4\" class=\"data row5 col4\" >0.6573</td>\n",
       "      <td id=\"T_2f257_row5_col5\" class=\"data row5 col5\" >0.6557</td>\n",
       "      <td id=\"T_2f257_row5_col6\" class=\"data row5 col6\" >0.8845</td>\n",
       "      <td id=\"T_2f257_row5_col7\" class=\"data row5 col7\" >0.7775</td>\n",
       "    </tr>\n",
       "    <tr>\n",
       "      <th id=\"T_2f257_level0_row6\" class=\"row_heading level0 row6\" >br</th>\n",
       "      <td id=\"T_2f257_row6_col0\" class=\"data row6 col0\" >Bayesian Ridge</td>\n",
       "      <td id=\"T_2f257_row6_col1\" class=\"data row6 col1\" >7.0167</td>\n",
       "      <td id=\"T_2f257_row6_col2\" class=\"data row6 col2\" >101.3572</td>\n",
       "      <td id=\"T_2f257_row6_col3\" class=\"data row6 col3\" >10.0658</td>\n",
       "      <td id=\"T_2f257_row6_col4\" class=\"data row6 col4\" >0.3511</td>\n",
       "      <td id=\"T_2f257_row6_col5\" class=\"data row6 col5\" >0.8648</td>\n",
       "      <td id=\"T_2f257_row6_col6\" class=\"data row6 col6\" >1.3996</td>\n",
       "      <td id=\"T_2f257_row6_col7\" class=\"data row6 col7\" >0.1150</td>\n",
       "    </tr>\n",
       "    <tr>\n",
       "      <th id=\"T_2f257_level0_row7\" class=\"row_heading level0 row7\" >ridge</th>\n",
       "      <td id=\"T_2f257_row7_col0\" class=\"data row7 col0\" >Ridge Regression</td>\n",
       "      <td id=\"T_2f257_row7_col1\" class=\"data row7 col1\" >7.0219</td>\n",
       "      <td id=\"T_2f257_row7_col2\" class=\"data row7 col2\" >101.3839</td>\n",
       "      <td id=\"T_2f257_row7_col3\" class=\"data row7 col3\" >10.0671</td>\n",
       "      <td id=\"T_2f257_row7_col4\" class=\"data row7 col4\" >0.3509</td>\n",
       "      <td id=\"T_2f257_row7_col5\" class=\"data row7 col5\" >0.8652</td>\n",
       "      <td id=\"T_2f257_row7_col6\" class=\"data row7 col6\" >1.4040</td>\n",
       "      <td id=\"T_2f257_row7_col7\" class=\"data row7 col7\" >0.0825</td>\n",
       "    </tr>\n",
       "    <tr>\n",
       "      <th id=\"T_2f257_level0_row8\" class=\"row_heading level0 row8\" >lr</th>\n",
       "      <td id=\"T_2f257_row8_col0\" class=\"data row8 col0\" >Linear Regression</td>\n",
       "      <td id=\"T_2f257_row8_col1\" class=\"data row8 col1\" >7.0236</td>\n",
       "      <td id=\"T_2f257_row8_col2\" class=\"data row8 col2\" >101.4008</td>\n",
       "      <td id=\"T_2f257_row8_col3\" class=\"data row8 col3\" >10.0679</td>\n",
       "      <td id=\"T_2f257_row8_col4\" class=\"data row8 col4\" >0.3508</td>\n",
       "      <td id=\"T_2f257_row8_col5\" class=\"data row8 col5\" >0.8652</td>\n",
       "      <td id=\"T_2f257_row8_col6\" class=\"data row8 col6\" >1.4051</td>\n",
       "      <td id=\"T_2f257_row8_col7\" class=\"data row8 col7\" >1.7850</td>\n",
       "    </tr>\n",
       "    <tr>\n",
       "      <th id=\"T_2f257_level0_row9\" class=\"row_heading level0 row9\" >lar</th>\n",
       "      <td id=\"T_2f257_row9_col0\" class=\"data row9 col0\" >Least Angle Regression</td>\n",
       "      <td id=\"T_2f257_row9_col1\" class=\"data row9 col1\" >7.0787</td>\n",
       "      <td id=\"T_2f257_row9_col2\" class=\"data row9 col2\" >102.3479</td>\n",
       "      <td id=\"T_2f257_row9_col3\" class=\"data row9 col3\" >10.1154</td>\n",
       "      <td id=\"T_2f257_row9_col4\" class=\"data row9 col4\" >0.3447</td>\n",
       "      <td id=\"T_2f257_row9_col5\" class=\"data row9 col5\" >0.8701</td>\n",
       "      <td id=\"T_2f257_row9_col6\" class=\"data row9 col6\" >1.4260</td>\n",
       "      <td id=\"T_2f257_row9_col7\" class=\"data row9 col7\" >0.0950</td>\n",
       "    </tr>\n",
       "    <tr>\n",
       "      <th id=\"T_2f257_level0_row10\" class=\"row_heading level0 row10\" >huber</th>\n",
       "      <td id=\"T_2f257_row10_col0\" class=\"data row10 col0\" >Huber Regressor</td>\n",
       "      <td id=\"T_2f257_row10_col1\" class=\"data row10 col1\" >6.9475</td>\n",
       "      <td id=\"T_2f257_row10_col2\" class=\"data row10 col2\" >103.9053</td>\n",
       "      <td id=\"T_2f257_row10_col3\" class=\"data row10 col3\" >10.1922</td>\n",
       "      <td id=\"T_2f257_row10_col4\" class=\"data row10 col4\" >0.3345</td>\n",
       "      <td id=\"T_2f257_row10_col5\" class=\"data row10 col5\" >0.8524</td>\n",
       "      <td id=\"T_2f257_row10_col6\" class=\"data row10 col6\" >1.3648</td>\n",
       "      <td id=\"T_2f257_row10_col7\" class=\"data row10 col7\" >0.4925</td>\n",
       "    </tr>\n",
       "    <tr>\n",
       "      <th id=\"T_2f257_level0_row11\" class=\"row_heading level0 row11\" >omp</th>\n",
       "      <td id=\"T_2f257_row11_col0\" class=\"data row11 col0\" >Orthogonal Matching Pursuit</td>\n",
       "      <td id=\"T_2f257_row11_col1\" class=\"data row11 col1\" >7.5187</td>\n",
       "      <td id=\"T_2f257_row11_col2\" class=\"data row11 col2\" >115.3930</td>\n",
       "      <td id=\"T_2f257_row11_col3\" class=\"data row11 col3\" >10.7412</td>\n",
       "      <td id=\"T_2f257_row11_col4\" class=\"data row11 col4\" >0.2611</td>\n",
       "      <td id=\"T_2f257_row11_col5\" class=\"data row11 col5\" >0.8757</td>\n",
       "      <td id=\"T_2f257_row11_col6\" class=\"data row11 col6\" >1.4838</td>\n",
       "      <td id=\"T_2f257_row11_col7\" class=\"data row11 col7\" >0.0850</td>\n",
       "    </tr>\n",
       "    <tr>\n",
       "      <th id=\"T_2f257_level0_row12\" class=\"row_heading level0 row12\" >ada</th>\n",
       "      <td id=\"T_2f257_row12_col0\" class=\"data row12 col0\" >AdaBoost Regressor</td>\n",
       "      <td id=\"T_2f257_row12_col1\" class=\"data row12 col1\" >9.4273</td>\n",
       "      <td id=\"T_2f257_row12_col2\" class=\"data row12 col2\" >118.5303</td>\n",
       "      <td id=\"T_2f257_row12_col3\" class=\"data row12 col3\" >10.8795</td>\n",
       "      <td id=\"T_2f257_row12_col4\" class=\"data row12 col4\" >0.2400</td>\n",
       "      <td id=\"T_2f257_row12_col5\" class=\"data row12 col5\" >0.9513</td>\n",
       "      <td id=\"T_2f257_row12_col6\" class=\"data row12 col6\" >2.6166</td>\n",
       "      <td id=\"T_2f257_row12_col7\" class=\"data row12 col7\" >3.5525</td>\n",
       "    </tr>\n",
       "    <tr>\n",
       "      <th id=\"T_2f257_level0_row13\" class=\"row_heading level0 row13\" >lasso</th>\n",
       "      <td id=\"T_2f257_row13_col0\" class=\"data row13 col0\" >Lasso Regression</td>\n",
       "      <td id=\"T_2f257_row13_col1\" class=\"data row13 col1\" >7.6577</td>\n",
       "      <td id=\"T_2f257_row13_col2\" class=\"data row13 col2\" >122.4385</td>\n",
       "      <td id=\"T_2f257_row13_col3\" class=\"data row13 col3\" >11.0641</td>\n",
       "      <td id=\"T_2f257_row13_col4\" class=\"data row13 col4\" >0.2161</td>\n",
       "      <td id=\"T_2f257_row13_col5\" class=\"data row13 col5\" >0.8196</td>\n",
       "      <td id=\"T_2f257_row13_col6\" class=\"data row13 col6\" >1.4784</td>\n",
       "      <td id=\"T_2f257_row13_col7\" class=\"data row13 col7\" >0.0925</td>\n",
       "    </tr>\n",
       "    <tr>\n",
       "      <th id=\"T_2f257_level0_row14\" class=\"row_heading level0 row14\" >llar</th>\n",
       "      <td id=\"T_2f257_row14_col0\" class=\"data row14 col0\" >Lasso Least Angle Regression</td>\n",
       "      <td id=\"T_2f257_row14_col1\" class=\"data row14 col1\" >7.6578</td>\n",
       "      <td id=\"T_2f257_row14_col2\" class=\"data row14 col2\" >122.4387</td>\n",
       "      <td id=\"T_2f257_row14_col3\" class=\"data row14 col3\" >11.0641</td>\n",
       "      <td id=\"T_2f257_row14_col4\" class=\"data row14 col4\" >0.2161</td>\n",
       "      <td id=\"T_2f257_row14_col5\" class=\"data row14 col5\" >0.8196</td>\n",
       "      <td id=\"T_2f257_row14_col6\" class=\"data row14 col6\" >1.4784</td>\n",
       "      <td id=\"T_2f257_row14_col7\" class=\"data row14 col7\" >0.0800</td>\n",
       "    </tr>\n",
       "    <tr>\n",
       "      <th id=\"T_2f257_level0_row15\" class=\"row_heading level0 row15\" >en</th>\n",
       "      <td id=\"T_2f257_row15_col0\" class=\"data row15 col0\" >Elastic Net</td>\n",
       "      <td id=\"T_2f257_row15_col1\" class=\"data row15 col1\" >7.6562</td>\n",
       "      <td id=\"T_2f257_row15_col2\" class=\"data row15 col2\" >122.4780</td>\n",
       "      <td id=\"T_2f257_row15_col3\" class=\"data row15 col3\" >11.0659</td>\n",
       "      <td id=\"T_2f257_row15_col4\" class=\"data row15 col4\" >0.2158</td>\n",
       "      <td id=\"T_2f257_row15_col5\" class=\"data row15 col5\" >0.8193</td>\n",
       "      <td id=\"T_2f257_row15_col6\" class=\"data row15 col6\" >1.4780</td>\n",
       "      <td id=\"T_2f257_row15_col7\" class=\"data row15 col7\" >0.0975</td>\n",
       "    </tr>\n",
       "    <tr>\n",
       "      <th id=\"T_2f257_level0_row16\" class=\"row_heading level0 row16\" >dummy</th>\n",
       "      <td id=\"T_2f257_row16_col0\" class=\"data row16 col0\" >Dummy Regressor</td>\n",
       "      <td id=\"T_2f257_row16_col1\" class=\"data row16 col1\" >9.0118</td>\n",
       "      <td id=\"T_2f257_row16_col2\" class=\"data row16 col2\" >156.1983</td>\n",
       "      <td id=\"T_2f257_row16_col3\" class=\"data row16 col3\" >12.4970</td>\n",
       "      <td id=\"T_2f257_row16_col4\" class=\"data row16 col4\" >-0.0002</td>\n",
       "      <td id=\"T_2f257_row16_col5\" class=\"data row16 col5\" >0.8215</td>\n",
       "      <td id=\"T_2f257_row16_col6\" class=\"data row16 col6\" >1.9586</td>\n",
       "      <td id=\"T_2f257_row16_col7\" class=\"data row16 col7\" >0.1075</td>\n",
       "    </tr>\n",
       "    <tr>\n",
       "      <th id=\"T_2f257_level0_row17\" class=\"row_heading level0 row17\" >par</th>\n",
       "      <td id=\"T_2f257_row17_col0\" class=\"data row17 col0\" >Passive Aggressive Regressor</td>\n",
       "      <td id=\"T_2f257_row17_col1\" class=\"data row17 col1\" >17.2848</td>\n",
       "      <td id=\"T_2f257_row17_col2\" class=\"data row17 col2\" >7154.2451</td>\n",
       "      <td id=\"T_2f257_row17_col3\" class=\"data row17 col3\" >76.3539</td>\n",
       "      <td id=\"T_2f257_row17_col4\" class=\"data row17 col4\" >-44.5731</td>\n",
       "      <td id=\"T_2f257_row17_col5\" class=\"data row17 col5\" >1.1274</td>\n",
       "      <td id=\"T_2f257_row17_col6\" class=\"data row17 col6\" >2.5190</td>\n",
       "      <td id=\"T_2f257_row17_col7\" class=\"data row17 col7\" >0.1000</td>\n",
       "    </tr>\n",
       "  </tbody>\n",
       "</table>\n"
      ]
     },
     "metadata": {}
    },
    {
     "output_type": "display_data",
     "data": {
      "text/plain": [
       "Processing:   0%|          | 0/81 [00:00<?, ?it/s]"
      ],
      "application/vnd.jupyter.widget-view+json": {
       "version_major": 2,
       "version_minor": 0,
       "model_id": "afd0d9d169584c5bbc78d743589eb057"
      }
     },
     "metadata": {
      "application/vnd.jupyter.widget-view+json": {
       "colab": {
        "custom_widget_manager": {
         "url": "https://ssl.gstatic.com/colaboratory-static/widgets/colab-cdn-widget-manager/b3e629b1971e1542/manager.min.js"
        }
       }
      }
     }
    },
    {
     "output_type": "display_data",
     "data": {
      "text/plain": [
       "<IPython.core.display.HTML object>"
      ],
      "text/html": []
     },
     "metadata": {}
    }
   ]
  },
  {
   "cell_type": "code",
   "source": [
    "evaluate_model(best_model)"
   ],
   "metadata": {
    "id": "OFcbYkww2Gus"
   },
   "id": "OFcbYkww2Gus",
   "execution_count": null,
   "outputs": []
  },
  {
   "cell_type": "markdown",
   "source": [
    "### Model training"
   ],
   "metadata": {
    "id": "TOWKwRILtrRy"
   },
   "id": "TOWKwRILtrRy"
  },
  {
   "cell_type": "code",
   "source": [
    "def objective(trial):\n",
    "    n_estimators = trial.suggest_int(\"n_estimators\", 100, 1000)\n",
    "    max_depth = trial.suggest_int(\"max_depth\", 2, 10)\n",
    "    criterion = trial.suggest_categorical(\n",
    "        \"criterion\", [\"squared_error\", \"absolute_error\"]\n",
    "    )\n",
    "    max_features = trial.suggest_float(\"max_features\", 0.0, 1.0)\n",
    "    min_samples_split = trial.suggest_int(\"min_samples_split\", 2, 10)\n",
    "    min_samples_leaf = trial.suggest_int(\"min_samples_leaf\", 1, 10)\n",
    "    model = RandomForestRegressor(\n",
    "        n_estimators=n_estimators,\n",
    "        max_depth=max_depth,\n",
    "        criterion=criterion,\n",
    "        max_features=max_features,\n",
    "        min_samples_split=min_samples_split,\n",
    "        min_samples_leaf=min_samples_leaf,\n",
    "    )\n",
    "    score = model.fit(New_Xtrain, y_train).score(New_Xtest, y_test)\n",
    "    return -1.0 * score  # Negative sign to maximize R2 score"
   ],
   "metadata": {
    "id": "OJ-9NaBHttIJ"
   },
   "id": "OJ-9NaBHttIJ",
   "execution_count": 102,
   "outputs": []
  },
  {
   "cell_type": "code",
   "source": [
    "study = optuna.create_study()\n",
    "study.optimize(objective, n_trials=100)"
   ],
   "metadata": {
    "colab": {
     "base_uri": "https://localhost:8080/",
     "height": 853
    },
    "id": "eozPfqZQwdkW",
    "outputId": "a341b485-34bd-4d97-bcfe-700f73db8ea8"
   },
   "id": "eozPfqZQwdkW",
   "execution_count": 103,
   "outputs": [
    {
     "output_type": "stream",
     "name": "stderr",
     "text": [
      "[I 2023-07-13 05:40:57,646] A new study created in memory with name: no-name-8eef61f8-7e5c-4450-871e-5d64b34d9f72\n",
      "[I 2023-07-13 05:44:32,044] Trial 0 finished with value: -0.8702278092729032 and parameters: {'n_estimators': 746, 'max_depth': 10, 'criterion': 'squared_error', 'max_features': 0.5631727795099107, 'min_samples_split': 9, 'min_samples_leaf': 9}. Best is trial 0 with value: -0.8702278092729032.\n",
      "[I 2023-07-13 05:47:41,202] Trial 1 finished with value: -0.8850956893962526 and parameters: {'n_estimators': 520, 'max_depth': 10, 'criterion': 'squared_error', 'max_features': 0.6942072503937622, 'min_samples_split': 4, 'min_samples_leaf': 8}. Best is trial 1 with value: -0.8850956893962526.\n",
      "[I 2023-07-13 05:49:35,011] Trial 2 finished with value: -0.6646411820687462 and parameters: {'n_estimators': 980, 'max_depth': 4, 'criterion': 'squared_error', 'max_features': 0.6393744665891459, 'min_samples_split': 4, 'min_samples_leaf': 10}. Best is trial 1 with value: -0.8850956893962526.\n",
      "[I 2023-07-13 05:50:40,353] Trial 3 finished with value: -0.8295360719143412 and parameters: {'n_estimators': 361, 'max_depth': 9, 'criterion': 'squared_error', 'max_features': 0.4233662353234271, 'min_samples_split': 4, 'min_samples_leaf': 4}. Best is trial 1 with value: -0.8850956893962526.\n",
      "[W 2023-07-13 06:01:20,624] Trial 4 failed with parameters: {'n_estimators': 781, 'max_depth': 6, 'criterion': 'absolute_error', 'max_features': 0.9328615426043017, 'min_samples_split': 6, 'min_samples_leaf': 3} because of the following error: KeyboardInterrupt().\n",
      "Traceback (most recent call last):\n",
      "  File \"/usr/local/lib/python3.10/dist-packages/optuna/study/_optimize.py\", line 200, in _run_trial\n",
      "    value_or_values = func(trial)\n",
      "  File \"<ipython-input-102-6446b8a2d8dc>\", line 9, in objective\n",
      "    score = model.fit(New_Xtrain, y_train).score(New_Xtest, y_test)\n",
      "  File \"/usr/local/lib/python3.10/dist-packages/sklearn/ensemble/_forest.py\", line 473, in fit\n",
      "    trees = Parallel(\n",
      "  File \"/usr/local/lib/python3.10/dist-packages/sklearn/utils/parallel.py\", line 63, in __call__\n",
      "    return super().__call__(iterable_with_config)\n",
      "  File \"/usr/local/lib/python3.10/dist-packages/joblib/parallel.py\", line 1855, in __call__\n",
      "    return output if self.return_generator else list(output)\n",
      "  File \"/usr/local/lib/python3.10/dist-packages/joblib/parallel.py\", line 1784, in _get_sequential_output\n",
      "    res = func(*args, **kwargs)\n",
      "  File \"/usr/local/lib/python3.10/dist-packages/sklearn/utils/parallel.py\", line 123, in __call__\n",
      "    return self.function(*args, **kwargs)\n",
      "  File \"/usr/local/lib/python3.10/dist-packages/sklearn/ensemble/_forest.py\", line 184, in _parallel_build_trees\n",
      "    tree.fit(X, y, sample_weight=curr_sample_weight, check_input=False)\n",
      "  File \"/usr/local/lib/python3.10/dist-packages/sklearn/tree/_classes.py\", line 1247, in fit\n",
      "    super().fit(\n",
      "  File \"/usr/local/lib/python3.10/dist-packages/sklearn/tree/_classes.py\", line 379, in fit\n",
      "    builder.build(self.tree_, X, y, sample_weight)\n",
      "KeyboardInterrupt\n",
      "[W 2023-07-13 06:01:20,626] Trial 4 failed with value None.\n"
     ]
    },
    {
     "output_type": "error",
     "ename": "KeyboardInterrupt",
     "evalue": "ignored",
     "traceback": [
      "\u001b[0;31m---------------------------------------------------------------------------\u001b[0m",
      "\u001b[0;31mKeyboardInterrupt\u001b[0m                         Traceback (most recent call last)",
      "\u001b[0;32m<ipython-input-103-9acc1a5fa752>\u001b[0m in \u001b[0;36m<cell line: 2>\u001b[0;34m()\u001b[0m\n\u001b[1;32m      1\u001b[0m \u001b[0mstudy\u001b[0m \u001b[0;34m=\u001b[0m \u001b[0moptuna\u001b[0m\u001b[0;34m.\u001b[0m\u001b[0mcreate_study\u001b[0m\u001b[0;34m(\u001b[0m\u001b[0;34m)\u001b[0m\u001b[0;34m\u001b[0m\u001b[0;34m\u001b[0m\u001b[0m\n\u001b[0;32m----> 2\u001b[0;31m \u001b[0mstudy\u001b[0m\u001b[0;34m.\u001b[0m\u001b[0moptimize\u001b[0m\u001b[0;34m(\u001b[0m\u001b[0mobjective\u001b[0m\u001b[0;34m,\u001b[0m \u001b[0mn_trials\u001b[0m\u001b[0;34m=\u001b[0m\u001b[0;36m100\u001b[0m\u001b[0;34m)\u001b[0m\u001b[0;34m\u001b[0m\u001b[0;34m\u001b[0m\u001b[0m\n\u001b[0m",
      "\u001b[0;32m/usr/local/lib/python3.10/dist-packages/optuna/study/study.py\u001b[0m in \u001b[0;36moptimize\u001b[0;34m(self, func, n_trials, timeout, n_jobs, catch, callbacks, gc_after_trial, show_progress_bar)\u001b[0m\n\u001b[1;32m    441\u001b[0m         \"\"\"\n\u001b[1;32m    442\u001b[0m \u001b[0;34m\u001b[0m\u001b[0m\n\u001b[0;32m--> 443\u001b[0;31m         _optimize(\n\u001b[0m\u001b[1;32m    444\u001b[0m             \u001b[0mstudy\u001b[0m\u001b[0;34m=\u001b[0m\u001b[0mself\u001b[0m\u001b[0;34m,\u001b[0m\u001b[0;34m\u001b[0m\u001b[0;34m\u001b[0m\u001b[0m\n\u001b[1;32m    445\u001b[0m             \u001b[0mfunc\u001b[0m\u001b[0;34m=\u001b[0m\u001b[0mfunc\u001b[0m\u001b[0;34m,\u001b[0m\u001b[0;34m\u001b[0m\u001b[0;34m\u001b[0m\u001b[0m\n",
      "\u001b[0;32m/usr/local/lib/python3.10/dist-packages/optuna/study/_optimize.py\u001b[0m in \u001b[0;36m_optimize\u001b[0;34m(study, func, n_trials, timeout, n_jobs, catch, callbacks, gc_after_trial, show_progress_bar)\u001b[0m\n\u001b[1;32m     64\u001b[0m     \u001b[0;32mtry\u001b[0m\u001b[0;34m:\u001b[0m\u001b[0;34m\u001b[0m\u001b[0;34m\u001b[0m\u001b[0m\n\u001b[1;32m     65\u001b[0m         \u001b[0;32mif\u001b[0m \u001b[0mn_jobs\u001b[0m \u001b[0;34m==\u001b[0m \u001b[0;36m1\u001b[0m\u001b[0;34m:\u001b[0m\u001b[0;34m\u001b[0m\u001b[0;34m\u001b[0m\u001b[0m\n\u001b[0;32m---> 66\u001b[0;31m             _optimize_sequential(\n\u001b[0m\u001b[1;32m     67\u001b[0m                 \u001b[0mstudy\u001b[0m\u001b[0;34m,\u001b[0m\u001b[0;34m\u001b[0m\u001b[0;34m\u001b[0m\u001b[0m\n\u001b[1;32m     68\u001b[0m                 \u001b[0mfunc\u001b[0m\u001b[0;34m,\u001b[0m\u001b[0;34m\u001b[0m\u001b[0;34m\u001b[0m\u001b[0m\n",
      "\u001b[0;32m/usr/local/lib/python3.10/dist-packages/optuna/study/_optimize.py\u001b[0m in \u001b[0;36m_optimize_sequential\u001b[0;34m(study, func, n_trials, timeout, catch, callbacks, gc_after_trial, reseed_sampler_rng, time_start, progress_bar)\u001b[0m\n\u001b[1;32m    161\u001b[0m \u001b[0;34m\u001b[0m\u001b[0m\n\u001b[1;32m    162\u001b[0m         \u001b[0;32mtry\u001b[0m\u001b[0;34m:\u001b[0m\u001b[0;34m\u001b[0m\u001b[0;34m\u001b[0m\u001b[0m\n\u001b[0;32m--> 163\u001b[0;31m             \u001b[0mfrozen_trial\u001b[0m \u001b[0;34m=\u001b[0m \u001b[0m_run_trial\u001b[0m\u001b[0;34m(\u001b[0m\u001b[0mstudy\u001b[0m\u001b[0;34m,\u001b[0m \u001b[0mfunc\u001b[0m\u001b[0;34m,\u001b[0m \u001b[0mcatch\u001b[0m\u001b[0;34m)\u001b[0m\u001b[0;34m\u001b[0m\u001b[0;34m\u001b[0m\u001b[0m\n\u001b[0m\u001b[1;32m    164\u001b[0m         \u001b[0;32mfinally\u001b[0m\u001b[0;34m:\u001b[0m\u001b[0;34m\u001b[0m\u001b[0;34m\u001b[0m\u001b[0m\n\u001b[1;32m    165\u001b[0m             \u001b[0;31m# The following line mitigates memory problems that can be occurred in some\u001b[0m\u001b[0;34m\u001b[0m\u001b[0;34m\u001b[0m\u001b[0m\n",
      "\u001b[0;32m/usr/local/lib/python3.10/dist-packages/optuna/study/_optimize.py\u001b[0m in \u001b[0;36m_run_trial\u001b[0;34m(study, func, catch)\u001b[0m\n\u001b[1;32m    249\u001b[0m         \u001b[0;32mand\u001b[0m \u001b[0;32mnot\u001b[0m \u001b[0misinstance\u001b[0m\u001b[0;34m(\u001b[0m\u001b[0mfunc_err\u001b[0m\u001b[0;34m,\u001b[0m \u001b[0mcatch\u001b[0m\u001b[0;34m)\u001b[0m\u001b[0;34m\u001b[0m\u001b[0;34m\u001b[0m\u001b[0m\n\u001b[1;32m    250\u001b[0m     ):\n\u001b[0;32m--> 251\u001b[0;31m         \u001b[0;32mraise\u001b[0m \u001b[0mfunc_err\u001b[0m\u001b[0;34m\u001b[0m\u001b[0;34m\u001b[0m\u001b[0m\n\u001b[0m\u001b[1;32m    252\u001b[0m     \u001b[0;32mreturn\u001b[0m \u001b[0mfrozen_trial\u001b[0m\u001b[0;34m\u001b[0m\u001b[0;34m\u001b[0m\u001b[0m\n\u001b[1;32m    253\u001b[0m \u001b[0;34m\u001b[0m\u001b[0m\n",
      "\u001b[0;32m/usr/local/lib/python3.10/dist-packages/optuna/study/_optimize.py\u001b[0m in \u001b[0;36m_run_trial\u001b[0;34m(study, func, catch)\u001b[0m\n\u001b[1;32m    198\u001b[0m     \u001b[0;32mwith\u001b[0m \u001b[0mget_heartbeat_thread\u001b[0m\u001b[0;34m(\u001b[0m\u001b[0mtrial\u001b[0m\u001b[0;34m.\u001b[0m\u001b[0m_trial_id\u001b[0m\u001b[0;34m,\u001b[0m \u001b[0mstudy\u001b[0m\u001b[0;34m.\u001b[0m\u001b[0m_storage\u001b[0m\u001b[0;34m)\u001b[0m\u001b[0;34m:\u001b[0m\u001b[0;34m\u001b[0m\u001b[0;34m\u001b[0m\u001b[0m\n\u001b[1;32m    199\u001b[0m         \u001b[0;32mtry\u001b[0m\u001b[0;34m:\u001b[0m\u001b[0;34m\u001b[0m\u001b[0;34m\u001b[0m\u001b[0m\n\u001b[0;32m--> 200\u001b[0;31m             \u001b[0mvalue_or_values\u001b[0m \u001b[0;34m=\u001b[0m \u001b[0mfunc\u001b[0m\u001b[0;34m(\u001b[0m\u001b[0mtrial\u001b[0m\u001b[0;34m)\u001b[0m\u001b[0;34m\u001b[0m\u001b[0;34m\u001b[0m\u001b[0m\n\u001b[0m\u001b[1;32m    201\u001b[0m         \u001b[0;32mexcept\u001b[0m \u001b[0mexceptions\u001b[0m\u001b[0;34m.\u001b[0m\u001b[0mTrialPruned\u001b[0m \u001b[0;32mas\u001b[0m \u001b[0me\u001b[0m\u001b[0;34m:\u001b[0m\u001b[0;34m\u001b[0m\u001b[0;34m\u001b[0m\u001b[0m\n\u001b[1;32m    202\u001b[0m             \u001b[0;31m# TODO(mamu): Handle multi-objective cases.\u001b[0m\u001b[0;34m\u001b[0m\u001b[0;34m\u001b[0m\u001b[0m\n",
      "\u001b[0;32m<ipython-input-102-6446b8a2d8dc>\u001b[0m in \u001b[0;36mobjective\u001b[0;34m(trial)\u001b[0m\n\u001b[1;32m      7\u001b[0m   \u001b[0mmin_samples_leaf\u001b[0m \u001b[0;34m=\u001b[0m \u001b[0mtrial\u001b[0m\u001b[0;34m.\u001b[0m\u001b[0msuggest_int\u001b[0m\u001b[0;34m(\u001b[0m\u001b[0;34m'min_samples_leaf'\u001b[0m\u001b[0;34m,\u001b[0m \u001b[0;36m1\u001b[0m\u001b[0;34m,\u001b[0m \u001b[0;36m10\u001b[0m\u001b[0;34m)\u001b[0m\u001b[0;34m\u001b[0m\u001b[0;34m\u001b[0m\u001b[0m\n\u001b[1;32m      8\u001b[0m   \u001b[0mmodel\u001b[0m \u001b[0;34m=\u001b[0m \u001b[0mRandomForestRegressor\u001b[0m\u001b[0;34m(\u001b[0m\u001b[0mn_estimators\u001b[0m\u001b[0;34m=\u001b[0m\u001b[0mn_estimators\u001b[0m\u001b[0;34m,\u001b[0m \u001b[0mmax_depth\u001b[0m\u001b[0;34m=\u001b[0m\u001b[0mmax_depth\u001b[0m\u001b[0;34m,\u001b[0m \u001b[0mcriterion\u001b[0m\u001b[0;34m=\u001b[0m\u001b[0mcriterion\u001b[0m\u001b[0;34m,\u001b[0m \u001b[0mmax_features\u001b[0m\u001b[0;34m=\u001b[0m\u001b[0mmax_features\u001b[0m\u001b[0;34m,\u001b[0m \u001b[0mmin_samples_split\u001b[0m\u001b[0;34m=\u001b[0m\u001b[0mmin_samples_split\u001b[0m\u001b[0;34m,\u001b[0m \u001b[0mmin_samples_leaf\u001b[0m\u001b[0;34m=\u001b[0m\u001b[0mmin_samples_leaf\u001b[0m\u001b[0;34m)\u001b[0m\u001b[0;34m\u001b[0m\u001b[0;34m\u001b[0m\u001b[0m\n\u001b[0;32m----> 9\u001b[0;31m   \u001b[0mscore\u001b[0m \u001b[0;34m=\u001b[0m \u001b[0mmodel\u001b[0m\u001b[0;34m.\u001b[0m\u001b[0mfit\u001b[0m\u001b[0;34m(\u001b[0m\u001b[0mNew_Xtrain\u001b[0m\u001b[0;34m,\u001b[0m \u001b[0my_train\u001b[0m\u001b[0;34m)\u001b[0m\u001b[0;34m.\u001b[0m\u001b[0mscore\u001b[0m\u001b[0;34m(\u001b[0m\u001b[0mNew_Xtest\u001b[0m\u001b[0;34m,\u001b[0m \u001b[0my_test\u001b[0m\u001b[0;34m)\u001b[0m\u001b[0;34m\u001b[0m\u001b[0;34m\u001b[0m\u001b[0m\n\u001b[0m\u001b[1;32m     10\u001b[0m   \u001b[0;32mreturn\u001b[0m \u001b[0;34m-\u001b[0m\u001b[0;36m1.0\u001b[0m \u001b[0;34m*\u001b[0m \u001b[0mscore\u001b[0m  \u001b[0;31m# Negative sign to maximize R2 score\u001b[0m\u001b[0;34m\u001b[0m\u001b[0;34m\u001b[0m\u001b[0m\n",
      "\u001b[0;32m/usr/local/lib/python3.10/dist-packages/sklearn/ensemble/_forest.py\u001b[0m in \u001b[0;36mfit\u001b[0;34m(self, X, y, sample_weight)\u001b[0m\n\u001b[1;32m    471\u001b[0m             \u001b[0;31m# parallel_backend contexts set at a higher level,\u001b[0m\u001b[0;34m\u001b[0m\u001b[0;34m\u001b[0m\u001b[0m\n\u001b[1;32m    472\u001b[0m             \u001b[0;31m# since correctness does not rely on using threads.\u001b[0m\u001b[0;34m\u001b[0m\u001b[0;34m\u001b[0m\u001b[0m\n\u001b[0;32m--> 473\u001b[0;31m             trees = Parallel(\n\u001b[0m\u001b[1;32m    474\u001b[0m                 \u001b[0mn_jobs\u001b[0m\u001b[0;34m=\u001b[0m\u001b[0mself\u001b[0m\u001b[0;34m.\u001b[0m\u001b[0mn_jobs\u001b[0m\u001b[0;34m,\u001b[0m\u001b[0;34m\u001b[0m\u001b[0;34m\u001b[0m\u001b[0m\n\u001b[1;32m    475\u001b[0m                 \u001b[0mverbose\u001b[0m\u001b[0;34m=\u001b[0m\u001b[0mself\u001b[0m\u001b[0;34m.\u001b[0m\u001b[0mverbose\u001b[0m\u001b[0;34m,\u001b[0m\u001b[0;34m\u001b[0m\u001b[0;34m\u001b[0m\u001b[0m\n",
      "\u001b[0;32m/usr/local/lib/python3.10/dist-packages/sklearn/utils/parallel.py\u001b[0m in \u001b[0;36m__call__\u001b[0;34m(self, iterable)\u001b[0m\n\u001b[1;32m     61\u001b[0m             \u001b[0;32mfor\u001b[0m \u001b[0mdelayed_func\u001b[0m\u001b[0;34m,\u001b[0m \u001b[0margs\u001b[0m\u001b[0;34m,\u001b[0m \u001b[0mkwargs\u001b[0m \u001b[0;32min\u001b[0m \u001b[0miterable\u001b[0m\u001b[0;34m\u001b[0m\u001b[0;34m\u001b[0m\u001b[0m\n\u001b[1;32m     62\u001b[0m         )\n\u001b[0;32m---> 63\u001b[0;31m         \u001b[0;32mreturn\u001b[0m \u001b[0msuper\u001b[0m\u001b[0;34m(\u001b[0m\u001b[0;34m)\u001b[0m\u001b[0;34m.\u001b[0m\u001b[0m__call__\u001b[0m\u001b[0;34m(\u001b[0m\u001b[0miterable_with_config\u001b[0m\u001b[0;34m)\u001b[0m\u001b[0;34m\u001b[0m\u001b[0;34m\u001b[0m\u001b[0m\n\u001b[0m\u001b[1;32m     64\u001b[0m \u001b[0;34m\u001b[0m\u001b[0m\n\u001b[1;32m     65\u001b[0m \u001b[0;34m\u001b[0m\u001b[0m\n",
      "\u001b[0;32m/usr/local/lib/python3.10/dist-packages/joblib/parallel.py\u001b[0m in \u001b[0;36m__call__\u001b[0;34m(self, iterable)\u001b[0m\n\u001b[1;32m   1853\u001b[0m             \u001b[0moutput\u001b[0m \u001b[0;34m=\u001b[0m \u001b[0mself\u001b[0m\u001b[0;34m.\u001b[0m\u001b[0m_get_sequential_output\u001b[0m\u001b[0;34m(\u001b[0m\u001b[0miterable\u001b[0m\u001b[0;34m)\u001b[0m\u001b[0;34m\u001b[0m\u001b[0;34m\u001b[0m\u001b[0m\n\u001b[1;32m   1854\u001b[0m             \u001b[0mnext\u001b[0m\u001b[0;34m(\u001b[0m\u001b[0moutput\u001b[0m\u001b[0;34m)\u001b[0m\u001b[0;34m\u001b[0m\u001b[0;34m\u001b[0m\u001b[0m\n\u001b[0;32m-> 1855\u001b[0;31m             \u001b[0;32mreturn\u001b[0m \u001b[0moutput\u001b[0m \u001b[0;32mif\u001b[0m \u001b[0mself\u001b[0m\u001b[0;34m.\u001b[0m\u001b[0mreturn_generator\u001b[0m \u001b[0;32melse\u001b[0m \u001b[0mlist\u001b[0m\u001b[0;34m(\u001b[0m\u001b[0moutput\u001b[0m\u001b[0;34m)\u001b[0m\u001b[0;34m\u001b[0m\u001b[0;34m\u001b[0m\u001b[0m\n\u001b[0m\u001b[1;32m   1856\u001b[0m \u001b[0;34m\u001b[0m\u001b[0m\n\u001b[1;32m   1857\u001b[0m         \u001b[0;31m# Let's create an ID that uniquely identifies the current call. If the\u001b[0m\u001b[0;34m\u001b[0m\u001b[0;34m\u001b[0m\u001b[0m\n",
      "\u001b[0;32m/usr/local/lib/python3.10/dist-packages/joblib/parallel.py\u001b[0m in \u001b[0;36m_get_sequential_output\u001b[0;34m(self, iterable)\u001b[0m\n\u001b[1;32m   1782\u001b[0m                 \u001b[0mself\u001b[0m\u001b[0;34m.\u001b[0m\u001b[0mn_dispatched_batches\u001b[0m \u001b[0;34m+=\u001b[0m \u001b[0;36m1\u001b[0m\u001b[0;34m\u001b[0m\u001b[0;34m\u001b[0m\u001b[0m\n\u001b[1;32m   1783\u001b[0m                 \u001b[0mself\u001b[0m\u001b[0;34m.\u001b[0m\u001b[0mn_dispatched_tasks\u001b[0m \u001b[0;34m+=\u001b[0m \u001b[0;36m1\u001b[0m\u001b[0;34m\u001b[0m\u001b[0;34m\u001b[0m\u001b[0m\n\u001b[0;32m-> 1784\u001b[0;31m                 \u001b[0mres\u001b[0m \u001b[0;34m=\u001b[0m \u001b[0mfunc\u001b[0m\u001b[0;34m(\u001b[0m\u001b[0;34m*\u001b[0m\u001b[0margs\u001b[0m\u001b[0;34m,\u001b[0m \u001b[0;34m**\u001b[0m\u001b[0mkwargs\u001b[0m\u001b[0;34m)\u001b[0m\u001b[0;34m\u001b[0m\u001b[0;34m\u001b[0m\u001b[0m\n\u001b[0m\u001b[1;32m   1785\u001b[0m                 \u001b[0mself\u001b[0m\u001b[0;34m.\u001b[0m\u001b[0mn_completed_tasks\u001b[0m \u001b[0;34m+=\u001b[0m \u001b[0;36m1\u001b[0m\u001b[0;34m\u001b[0m\u001b[0;34m\u001b[0m\u001b[0m\n\u001b[1;32m   1786\u001b[0m                 \u001b[0mself\u001b[0m\u001b[0;34m.\u001b[0m\u001b[0mprint_progress\u001b[0m\u001b[0;34m(\u001b[0m\u001b[0;34m)\u001b[0m\u001b[0;34m\u001b[0m\u001b[0;34m\u001b[0m\u001b[0m\n",
      "\u001b[0;32m/usr/local/lib/python3.10/dist-packages/sklearn/utils/parallel.py\u001b[0m in \u001b[0;36m__call__\u001b[0;34m(self, *args, **kwargs)\u001b[0m\n\u001b[1;32m    121\u001b[0m             \u001b[0mconfig\u001b[0m \u001b[0;34m=\u001b[0m \u001b[0;34m{\u001b[0m\u001b[0;34m}\u001b[0m\u001b[0;34m\u001b[0m\u001b[0;34m\u001b[0m\u001b[0m\n\u001b[1;32m    122\u001b[0m         \u001b[0;32mwith\u001b[0m \u001b[0mconfig_context\u001b[0m\u001b[0;34m(\u001b[0m\u001b[0;34m**\u001b[0m\u001b[0mconfig\u001b[0m\u001b[0;34m)\u001b[0m\u001b[0;34m:\u001b[0m\u001b[0;34m\u001b[0m\u001b[0;34m\u001b[0m\u001b[0m\n\u001b[0;32m--> 123\u001b[0;31m             \u001b[0;32mreturn\u001b[0m \u001b[0mself\u001b[0m\u001b[0;34m.\u001b[0m\u001b[0mfunction\u001b[0m\u001b[0;34m(\u001b[0m\u001b[0;34m*\u001b[0m\u001b[0margs\u001b[0m\u001b[0;34m,\u001b[0m \u001b[0;34m**\u001b[0m\u001b[0mkwargs\u001b[0m\u001b[0;34m)\u001b[0m\u001b[0;34m\u001b[0m\u001b[0;34m\u001b[0m\u001b[0m\n\u001b[0m",
      "\u001b[0;32m/usr/local/lib/python3.10/dist-packages/sklearn/ensemble/_forest.py\u001b[0m in \u001b[0;36m_parallel_build_trees\u001b[0;34m(tree, bootstrap, X, y, sample_weight, tree_idx, n_trees, verbose, class_weight, n_samples_bootstrap)\u001b[0m\n\u001b[1;32m    182\u001b[0m             \u001b[0mcurr_sample_weight\u001b[0m \u001b[0;34m*=\u001b[0m \u001b[0mcompute_sample_weight\u001b[0m\u001b[0;34m(\u001b[0m\u001b[0;34m\"balanced\"\u001b[0m\u001b[0;34m,\u001b[0m \u001b[0my\u001b[0m\u001b[0;34m,\u001b[0m \u001b[0mindices\u001b[0m\u001b[0;34m=\u001b[0m\u001b[0mindices\u001b[0m\u001b[0;34m)\u001b[0m\u001b[0;34m\u001b[0m\u001b[0;34m\u001b[0m\u001b[0m\n\u001b[1;32m    183\u001b[0m \u001b[0;34m\u001b[0m\u001b[0m\n\u001b[0;32m--> 184\u001b[0;31m         \u001b[0mtree\u001b[0m\u001b[0;34m.\u001b[0m\u001b[0mfit\u001b[0m\u001b[0;34m(\u001b[0m\u001b[0mX\u001b[0m\u001b[0;34m,\u001b[0m \u001b[0my\u001b[0m\u001b[0;34m,\u001b[0m \u001b[0msample_weight\u001b[0m\u001b[0;34m=\u001b[0m\u001b[0mcurr_sample_weight\u001b[0m\u001b[0;34m,\u001b[0m \u001b[0mcheck_input\u001b[0m\u001b[0;34m=\u001b[0m\u001b[0;32mFalse\u001b[0m\u001b[0;34m)\u001b[0m\u001b[0;34m\u001b[0m\u001b[0;34m\u001b[0m\u001b[0m\n\u001b[0m\u001b[1;32m    185\u001b[0m     \u001b[0;32melse\u001b[0m\u001b[0;34m:\u001b[0m\u001b[0;34m\u001b[0m\u001b[0;34m\u001b[0m\u001b[0m\n\u001b[1;32m    186\u001b[0m         \u001b[0mtree\u001b[0m\u001b[0;34m.\u001b[0m\u001b[0mfit\u001b[0m\u001b[0;34m(\u001b[0m\u001b[0mX\u001b[0m\u001b[0;34m,\u001b[0m \u001b[0my\u001b[0m\u001b[0;34m,\u001b[0m \u001b[0msample_weight\u001b[0m\u001b[0;34m=\u001b[0m\u001b[0msample_weight\u001b[0m\u001b[0;34m,\u001b[0m \u001b[0mcheck_input\u001b[0m\u001b[0;34m=\u001b[0m\u001b[0;32mFalse\u001b[0m\u001b[0;34m)\u001b[0m\u001b[0;34m\u001b[0m\u001b[0;34m\u001b[0m\u001b[0m\n",
      "\u001b[0;32m/usr/local/lib/python3.10/dist-packages/sklearn/tree/_classes.py\u001b[0m in \u001b[0;36mfit\u001b[0;34m(self, X, y, sample_weight, check_input)\u001b[0m\n\u001b[1;32m   1245\u001b[0m         \"\"\"\n\u001b[1;32m   1246\u001b[0m \u001b[0;34m\u001b[0m\u001b[0m\n\u001b[0;32m-> 1247\u001b[0;31m         super().fit(\n\u001b[0m\u001b[1;32m   1248\u001b[0m             \u001b[0mX\u001b[0m\u001b[0;34m,\u001b[0m\u001b[0;34m\u001b[0m\u001b[0;34m\u001b[0m\u001b[0m\n\u001b[1;32m   1249\u001b[0m             \u001b[0my\u001b[0m\u001b[0;34m,\u001b[0m\u001b[0;34m\u001b[0m\u001b[0;34m\u001b[0m\u001b[0m\n",
      "\u001b[0;32m/usr/local/lib/python3.10/dist-packages/sklearn/tree/_classes.py\u001b[0m in \u001b[0;36mfit\u001b[0;34m(self, X, y, sample_weight, check_input)\u001b[0m\n\u001b[1;32m    377\u001b[0m             )\n\u001b[1;32m    378\u001b[0m \u001b[0;34m\u001b[0m\u001b[0m\n\u001b[0;32m--> 379\u001b[0;31m         \u001b[0mbuilder\u001b[0m\u001b[0;34m.\u001b[0m\u001b[0mbuild\u001b[0m\u001b[0;34m(\u001b[0m\u001b[0mself\u001b[0m\u001b[0;34m.\u001b[0m\u001b[0mtree_\u001b[0m\u001b[0;34m,\u001b[0m \u001b[0mX\u001b[0m\u001b[0;34m,\u001b[0m \u001b[0my\u001b[0m\u001b[0;34m,\u001b[0m \u001b[0msample_weight\u001b[0m\u001b[0;34m)\u001b[0m\u001b[0;34m\u001b[0m\u001b[0;34m\u001b[0m\u001b[0m\n\u001b[0m\u001b[1;32m    380\u001b[0m \u001b[0;34m\u001b[0m\u001b[0m\n\u001b[1;32m    381\u001b[0m         \u001b[0;32mif\u001b[0m \u001b[0mself\u001b[0m\u001b[0;34m.\u001b[0m\u001b[0mn_outputs_\u001b[0m \u001b[0;34m==\u001b[0m \u001b[0;36m1\u001b[0m \u001b[0;32mand\u001b[0m \u001b[0mis_classifier\u001b[0m\u001b[0;34m(\u001b[0m\u001b[0mself\u001b[0m\u001b[0;34m)\u001b[0m\u001b[0;34m:\u001b[0m\u001b[0;34m\u001b[0m\u001b[0;34m\u001b[0m\u001b[0m\n",
      "\u001b[0;31mKeyboardInterrupt\u001b[0m: "
     ]
    }
   ]
  },
  {
   "cell_type": "markdown",
   "source": [
    "### Model evaluation"
   ],
   "metadata": {
    "id": "Hu8LHx_mtt0m"
   },
   "id": "Hu8LHx_mtt0m"
  },
  {
   "cell_type": "code",
   "source": [],
   "metadata": {
    "id": "ifv1t7zFtvFw"
   },
   "id": "ifv1t7zFtvFw",
   "execution_count": null,
   "outputs": []
  }
 ],
 "metadata": {
  "kernelspec": {
   "display_name": "Python 3",
   "name": "python3"
  },
  "language_info": {
   "codemirror_mode": {
    "name": "ipython",
    "version": 3
   },
   "file_extension": ".py",
   "mimetype": "text/x-python",
   "name": "python",
   "nbconvert_exporter": "python",
   "pygments_lexer": "ipython3",
   "version": "3.10.0"
  },
  "colab": {
   "provenance": [],
   "gpuType": "T4"
  },
  "accelerator": "GPU",
  "widgets": {
   "application/vnd.jupyter.widget-state+json": {
    "afd0d9d169584c5bbc78d743589eb057": {
     "model_module": "@jupyter-widgets/controls",
     "model_name": "HBoxModel",
     "model_module_version": "1.5.0",
     "state": {
      "_dom_classes": [],
      "_model_module": "@jupyter-widgets/controls",
      "_model_module_version": "1.5.0",
      "_model_name": "HBoxModel",
      "_view_count": null,
      "_view_module": "@jupyter-widgets/controls",
      "_view_module_version": "1.5.0",
      "_view_name": "HBoxView",
      "box_style": "",
      "children": [
       "IPY_MODEL_cd70e058fdec4757b96cb0f2242a2b90",
       "IPY_MODEL_d04199ebcd0f4b169ce8d567713b4302",
       "IPY_MODEL_72bd72213a1a4227a7e0750af947610a"
      ],
      "layout": "IPY_MODEL_b9a14a803aeb4943a48a4d04e96fe77e"
     }
    },
    "cd70e058fdec4757b96cb0f2242a2b90": {
     "model_module": "@jupyter-widgets/controls",
     "model_name": "HTMLModel",
     "model_module_version": "1.5.0",
     "state": {
      "_dom_classes": [],
      "_model_module": "@jupyter-widgets/controls",
      "_model_module_version": "1.5.0",
      "_model_name": "HTMLModel",
      "_view_count": null,
      "_view_module": "@jupyter-widgets/controls",
      "_view_module_version": "1.5.0",
      "_view_name": "HTMLView",
      "description": "",
      "description_tooltip": null,
      "layout": "IPY_MODEL_c838c789dcfc49018beb0c9c4f1fa2a7",
      "placeholder": "​",
      "style": "IPY_MODEL_430f92c2e6e549e5996873808c01cccb",
      "value": "Processing: 100%"
     }
    },
    "d04199ebcd0f4b169ce8d567713b4302": {
     "model_module": "@jupyter-widgets/controls",
     "model_name": "FloatProgressModel",
     "model_module_version": "1.5.0",
     "state": {
      "_dom_classes": [],
      "_model_module": "@jupyter-widgets/controls",
      "_model_module_version": "1.5.0",
      "_model_name": "FloatProgressModel",
      "_view_count": null,
      "_view_module": "@jupyter-widgets/controls",
      "_view_module_version": "1.5.0",
      "_view_name": "ProgressView",
      "bar_style": "",
      "description": "",
      "description_tooltip": null,
      "layout": "IPY_MODEL_5594b0b7ca74471d812e7566ee79279a",
      "max": 81,
      "min": 0,
      "orientation": "horizontal",
      "style": "IPY_MODEL_d4871af3d0ee425d933c8df58d49daf7",
      "value": 81
     }
    },
    "72bd72213a1a4227a7e0750af947610a": {
     "model_module": "@jupyter-widgets/controls",
     "model_name": "HTMLModel",
     "model_module_version": "1.5.0",
     "state": {
      "_dom_classes": [],
      "_model_module": "@jupyter-widgets/controls",
      "_model_module_version": "1.5.0",
      "_model_name": "HTMLModel",
      "_view_count": null,
      "_view_module": "@jupyter-widgets/controls",
      "_view_module_version": "1.5.0",
      "_view_name": "HTMLView",
      "description": "",
      "description_tooltip": null,
      "layout": "IPY_MODEL_6a389967400f4eb29eefe333d250956f",
      "placeholder": "​",
      "style": "IPY_MODEL_6b31ea7ffa6f4e13ab0d41eb4e244cc5",
      "value": " 81/81 [06:02&lt;00:00, 10.04s/it]"
     }
    },
    "b9a14a803aeb4943a48a4d04e96fe77e": {
     "model_module": "@jupyter-widgets/base",
     "model_name": "LayoutModel",
     "model_module_version": "1.2.0",
     "state": {
      "_model_module": "@jupyter-widgets/base",
      "_model_module_version": "1.2.0",
      "_model_name": "LayoutModel",
      "_view_count": null,
      "_view_module": "@jupyter-widgets/base",
      "_view_module_version": "1.2.0",
      "_view_name": "LayoutView",
      "align_content": null,
      "align_items": null,
      "align_self": null,
      "border": null,
      "bottom": null,
      "display": null,
      "flex": null,
      "flex_flow": null,
      "grid_area": null,
      "grid_auto_columns": null,
      "grid_auto_flow": null,
      "grid_auto_rows": null,
      "grid_column": null,
      "grid_gap": null,
      "grid_row": null,
      "grid_template_areas": null,
      "grid_template_columns": null,
      "grid_template_rows": null,
      "height": null,
      "justify_content": null,
      "justify_items": null,
      "left": null,
      "margin": null,
      "max_height": null,
      "max_width": null,
      "min_height": null,
      "min_width": null,
      "object_fit": null,
      "object_position": null,
      "order": null,
      "overflow": null,
      "overflow_x": null,
      "overflow_y": null,
      "padding": null,
      "right": null,
      "top": null,
      "visibility": "hidden",
      "width": null
     }
    },
    "c838c789dcfc49018beb0c9c4f1fa2a7": {
     "model_module": "@jupyter-widgets/base",
     "model_name": "LayoutModel",
     "model_module_version": "1.2.0",
     "state": {
      "_model_module": "@jupyter-widgets/base",
      "_model_module_version": "1.2.0",
      "_model_name": "LayoutModel",
      "_view_count": null,
      "_view_module": "@jupyter-widgets/base",
      "_view_module_version": "1.2.0",
      "_view_name": "LayoutView",
      "align_content": null,
      "align_items": null,
      "align_self": null,
      "border": null,
      "bottom": null,
      "display": null,
      "flex": null,
      "flex_flow": null,
      "grid_area": null,
      "grid_auto_columns": null,
      "grid_auto_flow": null,
      "grid_auto_rows": null,
      "grid_column": null,
      "grid_gap": null,
      "grid_row": null,
      "grid_template_areas": null,
      "grid_template_columns": null,
      "grid_template_rows": null,
      "height": null,
      "justify_content": null,
      "justify_items": null,
      "left": null,
      "margin": null,
      "max_height": null,
      "max_width": null,
      "min_height": null,
      "min_width": null,
      "object_fit": null,
      "object_position": null,
      "order": null,
      "overflow": null,
      "overflow_x": null,
      "overflow_y": null,
      "padding": null,
      "right": null,
      "top": null,
      "visibility": null,
      "width": null
     }
    },
    "430f92c2e6e549e5996873808c01cccb": {
     "model_module": "@jupyter-widgets/controls",
     "model_name": "DescriptionStyleModel",
     "model_module_version": "1.5.0",
     "state": {
      "_model_module": "@jupyter-widgets/controls",
      "_model_module_version": "1.5.0",
      "_model_name": "DescriptionStyleModel",
      "_view_count": null,
      "_view_module": "@jupyter-widgets/base",
      "_view_module_version": "1.2.0",
      "_view_name": "StyleView",
      "description_width": ""
     }
    },
    "5594b0b7ca74471d812e7566ee79279a": {
     "model_module": "@jupyter-widgets/base",
     "model_name": "LayoutModel",
     "model_module_version": "1.2.0",
     "state": {
      "_model_module": "@jupyter-widgets/base",
      "_model_module_version": "1.2.0",
      "_model_name": "LayoutModel",
      "_view_count": null,
      "_view_module": "@jupyter-widgets/base",
      "_view_module_version": "1.2.0",
      "_view_name": "LayoutView",
      "align_content": null,
      "align_items": null,
      "align_self": null,
      "border": null,
      "bottom": null,
      "display": null,
      "flex": null,
      "flex_flow": null,
      "grid_area": null,
      "grid_auto_columns": null,
      "grid_auto_flow": null,
      "grid_auto_rows": null,
      "grid_column": null,
      "grid_gap": null,
      "grid_row": null,
      "grid_template_areas": null,
      "grid_template_columns": null,
      "grid_template_rows": null,
      "height": null,
      "justify_content": null,
      "justify_items": null,
      "left": null,
      "margin": null,
      "max_height": null,
      "max_width": null,
      "min_height": null,
      "min_width": null,
      "object_fit": null,
      "object_position": null,
      "order": null,
      "overflow": null,
      "overflow_x": null,
      "overflow_y": null,
      "padding": null,
      "right": null,
      "top": null,
      "visibility": null,
      "width": null
     }
    },
    "d4871af3d0ee425d933c8df58d49daf7": {
     "model_module": "@jupyter-widgets/controls",
     "model_name": "ProgressStyleModel",
     "model_module_version": "1.5.0",
     "state": {
      "_model_module": "@jupyter-widgets/controls",
      "_model_module_version": "1.5.0",
      "_model_name": "ProgressStyleModel",
      "_view_count": null,
      "_view_module": "@jupyter-widgets/base",
      "_view_module_version": "1.2.0",
      "_view_name": "StyleView",
      "bar_color": null,
      "description_width": ""
     }
    },
    "6a389967400f4eb29eefe333d250956f": {
     "model_module": "@jupyter-widgets/base",
     "model_name": "LayoutModel",
     "model_module_version": "1.2.0",
     "state": {
      "_model_module": "@jupyter-widgets/base",
      "_model_module_version": "1.2.0",
      "_model_name": "LayoutModel",
      "_view_count": null,
      "_view_module": "@jupyter-widgets/base",
      "_view_module_version": "1.2.0",
      "_view_name": "LayoutView",
      "align_content": null,
      "align_items": null,
      "align_self": null,
      "border": null,
      "bottom": null,
      "display": null,
      "flex": null,
      "flex_flow": null,
      "grid_area": null,
      "grid_auto_columns": null,
      "grid_auto_flow": null,
      "grid_auto_rows": null,
      "grid_column": null,
      "grid_gap": null,
      "grid_row": null,
      "grid_template_areas": null,
      "grid_template_columns": null,
      "grid_template_rows": null,
      "height": null,
      "justify_content": null,
      "justify_items": null,
      "left": null,
      "margin": null,
      "max_height": null,
      "max_width": null,
      "min_height": null,
      "min_width": null,
      "object_fit": null,
      "object_position": null,
      "order": null,
      "overflow": null,
      "overflow_x": null,
      "overflow_y": null,
      "padding": null,
      "right": null,
      "top": null,
      "visibility": null,
      "width": null
     }
    },
    "6b31ea7ffa6f4e13ab0d41eb4e244cc5": {
     "model_module": "@jupyter-widgets/controls",
     "model_name": "DescriptionStyleModel",
     "model_module_version": "1.5.0",
     "state": {
      "_model_module": "@jupyter-widgets/controls",
      "_model_module_version": "1.5.0",
      "_model_name": "DescriptionStyleModel",
      "_view_count": null,
      "_view_module": "@jupyter-widgets/base",
      "_view_module_version": "1.2.0",
      "_view_name": "StyleView",
      "description_width": ""
     }
    }
   }
  }
 },
 "nbformat": 4,
 "nbformat_minor": 5
}